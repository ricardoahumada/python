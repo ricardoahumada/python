{
 "cells": [
  {
   "cell_type": "markdown",
   "id": "2c12ec9f",
   "metadata": {},
   "source": [
    "*refs:*\n",
    "- https://pynative.com/python-functions-exercise-with-solutions/\n",
    "- http://patriciaemiguel.com/ejercicios/python/2019/03/10/ejercicios-funciones-python.html"
   ]
  },
  {
   "cell_type": "markdown",
   "id": "2da37bcd",
   "metadata": {},
   "source": [
    "**Ejercicio 1**\n",
    "\n",
    "Escribe un programa para crear una función que tome dos argumentos, nombre y edad, e imprima sus valores."
   ]
  },
  {
   "cell_type": "code",
   "execution_count": 4,
   "id": "9f1861d9",
   "metadata": {},
   "outputs": [],
   "source": [
    "def demo(name, age):\n",
    "    # print value\n",
    "    print(name, age)"
   ]
  },
  {
   "cell_type": "code",
   "execution_count": 5,
   "id": "b646f427",
   "metadata": {},
   "outputs": [
    {
     "name": "stdout",
     "output_type": "stream",
     "text": [
      "Ben 25\n"
     ]
    }
   ],
   "source": [
    "demo(\"Ben\", 25)"
   ]
  },
  {
   "cell_type": "markdown",
   "id": "4b7a09be",
   "metadata": {},
   "source": [
    "**Ejercicio 2**\n",
    "\n",
    "Genere una lista de Python de todos los números pares entre 4 y 30"
   ]
  },
  {
   "cell_type": "code",
   "execution_count": 6,
   "id": "e849ed2b",
   "metadata": {},
   "outputs": [
    {
     "name": "stdout",
     "output_type": "stream",
     "text": [
      "[4, 6, 8, 10, 12, 14, 16, 18, 20, 22, 24, 26, 28]\n"
     ]
    }
   ],
   "source": [
    "print(list(range(4, 30, 2)))"
   ]
  },
  {
   "cell_type": "markdown",
   "id": "f39cf7ae",
   "metadata": {},
   "source": [
    "**Ejercicio 3**\n",
    "\n",
    "Encuentra el elemento más grande de una lista dada\n",
    "Ejemplo: para\n",
    "\n",
    "`x = [4, 6, 8, 24, 12, 2]`\n",
    "\n",
    "Salida: 24"
   ]
  },
  {
   "cell_type": "code",
   "execution_count": 7,
   "id": "c17a0546",
   "metadata": {},
   "outputs": [
    {
     "name": "stdout",
     "output_type": "stream",
     "text": [
      "24\n"
     ]
    }
   ],
   "source": [
    "x = [4, 6, 8, 24, 12, 2]\n",
    "print(max(x))"
   ]
  },
  {
   "cell_type": "markdown",
   "id": "58bfc0dd",
   "metadata": {},
   "source": [
    "**Ejercicio 4**\n",
    "\n",
    "Devolver múltiples valores de una función\n",
    "\n",
    "Escribe un programa para crear la función `calculation()` de modo que pueda aceptar dos variables y calcular sumas y restas. Además, debe devolver tanto la suma como la resta en una sola llamada de devolución."
   ]
  },
  {
   "cell_type": "code",
   "execution_count": 8,
   "id": "064460c3",
   "metadata": {},
   "outputs": [
    {
     "name": "stdout",
     "output_type": "stream",
     "text": [
      "(50, 30)\n"
     ]
    }
   ],
   "source": [
    "def calculation(a, b):\n",
    "    addition = a + b\n",
    "    subtraction = a - b\n",
    "    # return multiple values separated by comma\n",
    "    return addition, subtraction\n",
    "\n",
    "# get result in tuple format\n",
    "res = calculation(40, 10)\n",
    "print(res)"
   ]
  },
  {
   "cell_type": "markdown",
   "id": "2dea2eb0",
   "metadata": {},
   "source": [
    "**Ejercicio 5**\n",
    "\n",
    "Crear una función con un argumento predeterminado\n",
    "\n",
    "Escribe un programa para crear una función `show_employee()` usando las siguientes condiciones.\n",
    "- Debe aceptar el nombre y el salario del empleado y mostrar ambos.\n",
    "- Si falta el salario en la llamada de función, asigne el valor predeterminado 9000 al salario"
   ]
  },
  {
   "cell_type": "code",
   "execution_count": 10,
   "id": "b31df986",
   "metadata": {},
   "outputs": [
    {
     "name": "stdout",
     "output_type": "stream",
     "text": [
      "Name: Ben salary: 12000\n",
      "Name: Jessa salary: 9000\n"
     ]
    }
   ],
   "source": [
    "# function with default argument\n",
    "def show_employee(name, salary=9000):\n",
    "    print(\"Name:\", name, \"salary:\", salary)\n",
    "\n",
    "show_employee(\"Ben\", 12000)\n",
    "show_employee(\"Jessa\")"
   ]
  },
  {
   "cell_type": "markdown",
   "id": "0dcd1f20",
   "metadata": {},
   "source": [
    "**Ejercicio 6**\n",
    "\n",
    "Crea una función interna para calcular la suma de la siguiente manera:\n",
    "- Crea una función externa que acepte dos parámetros, a y b\n",
    "- Crea una función interna dentro de una función externa que calculará la suma de a y b\n",
    "- Finalmente, una función externa sumará 5 y lo devolverá"
   ]
  },
  {
   "cell_type": "code",
   "execution_count": 11,
   "id": "fc9d2930",
   "metadata": {},
   "outputs": [
    {
     "name": "stdout",
     "output_type": "stream",
     "text": [
      "20\n"
     ]
    }
   ],
   "source": [
    "# outer function\n",
    "def outer_fun(a, b):\n",
    "    square = a ** 2\n",
    "\n",
    "    # inner function\n",
    "    def addition(a, b):\n",
    "        return a + b\n",
    "\n",
    "    # call inner function from outer function\n",
    "    add = addition(a, b)\n",
    "    # add 5 to the result\n",
    "    return add + 5\n",
    "\n",
    "result = outer_fun(5, 10)\n",
    "print(result)"
   ]
  },
  {
   "cell_type": "markdown",
   "id": "7dca34fb",
   "metadata": {},
   "source": [
    "**Ejercicio 7**\n",
    "\n",
    "Solicitar al usuario que ingrese su dirección email. Imprimir un mensaje indicando si la dirección es válida o no, valiéndose de una función para decidirlo. Una dirección se considerará válida si contiene el símbolo \"@\"."
   ]
  },
  {
   "cell_type": "code",
   "execution_count": 12,
   "id": "88e7f38a",
   "metadata": {},
   "outputs": [
    {
     "name": "stdout",
     "output_type": "stream",
     "text": [
      "Tu email: r\n",
      "Dirección inválida\n"
     ]
    }
   ],
   "source": [
    "def validar(email):\n",
    "    caracterBuscado=\"@\"\n",
    "    emailValido=False\n",
    "    for c in email:\n",
    "        if c==caracterBuscado:\n",
    "            return True\n",
    "    return False\n",
    "\n",
    " \n",
    "direccion=input(\"Tu email: \")\n",
    "if validar(direccion):\n",
    "    print(\"Dirección válida\")\n",
    "else:\n",
    "    print(\"Dirección inválida\")"
   ]
  },
  {
   "cell_type": "markdown",
   "id": "92efaaab",
   "metadata": {},
   "source": [
    "**Ejercicio 8**\n",
    "\n",
    "Solicitar números al usuario hasta que ingrese el cero. Por cada uno, mostrar la suma de sus dígitos (utilizando una función que realice dicha suma)."
   ]
  },
  {
   "cell_type": "code",
   "execution_count": 13,
   "id": "31534af8",
   "metadata": {},
   "outputs": [
    {
     "name": "stdout",
     "output_type": "stream",
     "text": [
      "Número a procesar: 3\n",
      "Suma: 3\n",
      "Número a procesar: 34\n",
      "Suma: 7\n",
      "Número a procesar: 0\n"
     ]
    }
   ],
   "source": [
    "def sumaDigitos(numero):\n",
    "    suma=0\n",
    "    while numero!=0:\n",
    "        digito=numero%10\n",
    "        suma=suma+digito\n",
    "        numero=numero//10\n",
    "    return suma\n",
    "\n",
    " \n",
    "num=int(input(\"Número a procesar: \"))\n",
    "while num!=0:\n",
    "    print(\"Suma:\",sumaDigitos(num))\n",
    "    num=int(input(\"Número a procesar: \"))"
   ]
  },
  {
   "cell_type": "markdown",
   "id": "030680ac",
   "metadata": {},
   "source": [
    "**Ejercicio 9**\n",
    "\n",
    "Solicitar números al usuario hasta que ingrese el cero. Por cada uno, mostrar la suma de sus dígitos. Al finalizar, mostrar la sumatoria de todos los números ingresados y la suma de sus dígitos. Reutilizar la misma función realizada en el ejercicio anterior."
   ]
  },
  {
   "cell_type": "code",
   "execution_count": 17,
   "id": "26b8c725",
   "metadata": {},
   "outputs": [
    {
     "name": "stdout",
     "output_type": "stream",
     "text": [
      "Número a procesar: 1\n",
      "Suma: 1\n",
      "Número a procesar: 0\n",
      "Sumatoria: 1\n",
      "Dígitos: 1\n"
     ]
    }
   ],
   "source": [
    "def sumaDigitos(numero):\n",
    "    suma=0\n",
    "    while numero!=0:\n",
    "        digito=numero%10\n",
    "        suma=suma+digito\n",
    "        numero=numero//10\n",
    "    return suma\n",
    "\n",
    " \n",
    "sumatoria=0\n",
    "num=int(input(\"Número a procesar: \"))\n",
    "while num!=0:\n",
    "    print(\"Suma:\",sumaDigitos(num))\n",
    "    sumatoria=sumatoria+num\n",
    "    num=int(input(\"Número a procesar: \"))\n",
    "print(\"Sumatoria:\", sumatoria)\n",
    "print(\"Dígitos:\", sumaDigitos(sumatoria))"
   ]
  },
  {
   "cell_type": "markdown",
   "id": "b7d77fbc",
   "metadata": {},
   "source": [
    "**Ejercicio 10**\n",
    "\n",
    "Requerir al usuario que ingrese un número entero e informar si es primo o no, utilizando una función booleana que lo decida."
   ]
  },
  {
   "cell_type": "code",
   "execution_count": 18,
   "id": "1195b112",
   "metadata": {},
   "outputs": [
    {
     "name": "stdout",
     "output_type": "stream",
     "text": [
      "Número: 13\n",
      "Es primo\n"
     ]
    }
   ],
   "source": [
    "def primo(num):\n",
    "   for i in range(2,num):\n",
    "       if num%i==0:           \n",
    "           return False\n",
    "   return True\n",
    " \n",
    "numero=int(input(\"Número: \"))\n",
    "\n",
    "if primo(numero):\n",
    "    print(\"Es primo\")\n",
    "else:\n",
    "    print(\"No es primo\")"
   ]
  },
  {
   "cell_type": "markdown",
   "id": "86f13fc1",
   "metadata": {},
   "source": [
    "**Ejercicio 11**\n",
    "\n",
    "Solicitar al usuario un número entero y luego un dígito. Informar la cantidad de ocurrencias del dígito en el número, utilizando para ello una función que calcule la frecuencia."
   ]
  },
  {
   "cell_type": "code",
   "execution_count": 19,
   "id": "953d23a0",
   "metadata": {},
   "outputs": [
    {
     "name": "stdout",
     "output_type": "stream",
     "text": [
      "Número: 34\n",
      "Dígito: 2\n",
      "Frecuencia del dígito en el número: 0\n"
     ]
    }
   ],
   "source": [
    "def frecuencia(numero,digito):\n",
    "   cantidad=0\n",
    "   while numero!=0:\n",
    "       ultDigito=numero%10\n",
    "       if ultDigito==digito:\n",
    "           cantidad+=1\n",
    "       numero=numero//10\n",
    "   return cantidad\n",
    "\n",
    " \n",
    "num=int(input(\"Número: \"))\n",
    "un_digito=int(input(\"Dígito: \"))\n",
    "print(\"Frecuencia del dígito en el número:\",frecuencia(num,un_digito))"
   ]
  },
  {
   "cell_type": "markdown",
   "id": "7e34e5d1",
   "metadata": {},
   "source": [
    "**Ejercicio 12**\n",
    "\n",
    "Escribir un programa que pida números al usuario, motrar el factorial de cada uno y, al finalizar, la cantidad total de números leídos en total. Utilizar una o más funciones, según sea necesario."
   ]
  },
  {
   "cell_type": "code",
   "execution_count": 20,
   "id": "914e54d9",
   "metadata": {},
   "outputs": [
    {
     "name": "stdout",
     "output_type": "stream",
     "text": [
      "Número (-1 para cortar): 45\n",
      "Factorial: 119622220865480194561963161495657715064383733760000000000\n",
      "Número (-1 para cortar): -1\n",
      "Se leyeron 1 números\n"
     ]
    }
   ],
   "source": [
    "def factorial(numero):\n",
    "   f=1\n",
    "   if numero!=0:\n",
    "       for i in range(1,numero+1):\n",
    "           f=f*i\n",
    "   return f\n",
    "\n",
    " \n",
    "cantidad=0\n",
    "num=int(input(\"Número (-1 para cortar): \"))\n",
    "while num!=-1:\n",
    "    print(\"Factorial:\", factorial(num))\n",
    "    cantidad+=1\n",
    "    num=int(input(\"Número (-1 para cortar): \"))\n",
    "print(\"Se leyeron\",cantidad,\"números\")"
   ]
  },
  {
   "cell_type": "markdown",
   "id": "3c06a948",
   "metadata": {},
   "source": [
    "**Ejercicio 13**\n",
    "\n",
    "Escribir un programa que pida números positivos al usuario. Mostrar el número cuya sumatoria de dígitos fue mayor y la cantidad de números cuya sumatoria de dígitos fue menor que 10. Utilizar una o más funciones, según sea necesario."
   ]
  },
  {
   "cell_type": "code",
   "execution_count": 22,
   "id": "a2bb5108",
   "metadata": {},
   "outputs": [
    {
     "name": "stdout",
     "output_type": "stream",
     "text": [
      "Número positivo: 2\n",
      "Número positivo: 4\n",
      "Número positivo: 78\n",
      "Número positivo: 23\n",
      "Número positivo: -1\n",
      "Sumatoria de dígitos de 78 : 15\n",
      "Cantidad con sumatoria menor a 10: 3\n"
     ]
    }
   ],
   "source": [
    "def sumaDigitos(numero):\n",
    "  suma=0\n",
    "  while numero!=0:\n",
    "      digito=numero%10\n",
    "      suma=suma+digito\n",
    "      numero=numero//10\n",
    "  return suma\n",
    "\n",
    " \n",
    "cantidad=0\n",
    "mayor=-1\n",
    "numero=int(input(\"Número positivo: \"))\n",
    "while numero>=0:\n",
    "    suma=sumaDigitos(numero)\n",
    "    if suma > mayor:\n",
    "          mayor=suma\n",
    "          n_mayorsuma=numero\n",
    "    if suma < 10:\n",
    "        cantidad+=1\n",
    "    numero=int(input(\"Número positivo: \"))\n",
    "    \n",
    "print(\"Sumatoria de dígitos de\",n_mayorsuma,\":\",mayor)\n",
    "print(\"Cantidad con sumatoria menor a 10:\",cantidad)"
   ]
  },
  {
   "cell_type": "markdown",
   "id": "8e563061",
   "metadata": {},
   "source": [
    "**Ejercicio 14**\n",
    "\n",
    "Solicitar al usuario el ingreso de números primos. La lectura finalizará cuando ingrese un número que no sea primo. Por cada número, mostrar la suma de sus dígitos. También solicitar al usuario un dígito e informar la cantidad de veces que aparece en el número (frecuencia). Al finalizar el programa, mostrar el factorial del mayor número ingresado."
   ]
  },
  {
   "cell_type": "code",
   "execution_count": 23,
   "id": "29138477",
   "metadata": {},
   "outputs": [
    {
     "name": "stdout",
     "output_type": "stream",
     "text": [
      "Número primo: 3\n",
      "Suma de los dígitos: 3\n",
      "Dígito: 3\n",
      "El 3 aparece 1 veces\n",
      "Número primo: 235\n",
      "Factorial de 3 : 6\n"
     ]
    }
   ],
   "source": [
    "def primo(num):\n",
    "   for i in range(2,num):\n",
    "       if num%i==0:           \n",
    "           return False\n",
    "   return True\n",
    "\n",
    " \n",
    "def frecuencia(numero,digito):\n",
    "   cantidad=0\n",
    "   while numero!=0:\n",
    "       ultDigito=numero%10\n",
    "       if ultDigito==digito:\n",
    "           cantidad+=1\n",
    "       numero=numero//10\n",
    "   return cantidad\n",
    "\n",
    " \n",
    "def factorial(numero):\n",
    "   f=1\n",
    "   if numero!=0:\n",
    "       for i in range(1,numero+1):\n",
    "           f=f*i\n",
    "   return f\n",
    "\n",
    " \n",
    "def sumaDigitos(numero):\n",
    "  suma=0\n",
    "  while numero!=0:\n",
    "      digito=numero%10\n",
    "      suma=suma+digito\n",
    "      numero=numero//10\n",
    "  return suma\n",
    "\n",
    " \n",
    "mayor=0\n",
    "numero=int(input(\"Número primo: \"))\n",
    "while primo(numero):\n",
    "    print(\"Suma de los dígitos:\",sumaDigitos(numero))\n",
    "    digito=int(input(\"Dígito: \"))\n",
    "    print(\"El\",digito,\"aparece\",frecuencia(numero,digito),\"veces\")\n",
    "    if numero > mayor:\n",
    "          mayor=numero\n",
    "    numero=int(input(\"Número primo: \"))\n",
    "print(\"Factorial de\",mayor,\":\",factorial(mayor))"
   ]
  },
  {
   "cell_type": "markdown",
   "id": "69172beb",
   "metadata": {},
   "source": [
    "**Ejercicio 15**\n",
    "\n",
    "Sin ejecutar el siguiente programa, determinar cuál es la salida en pantalla si se ingresan los valores x=6, y=7:\n",
    "\n",
    "```\n",
    "def coordenadaZ(x,y):\n",
    "  x=x+10\n",
    "  y=y+15\n",
    "  return x+y\n",
    "\n",
    " \n",
    "#programa principal\n",
    "x=int(input(\"Coordenada eje x: \"))\n",
    "y=int(input(\"Coordenada eje y: \"))\n",
    "for i in range(3):\n",
    "  z=coordenadaZ(x,y)\n",
    "  x=x+1\n",
    "  y=y+1\n",
    "print(x,\" . \",y)\n",
    "```"
   ]
  },
  {
   "cell_type": "markdown",
   "id": "321aecb7",
   "metadata": {},
   "source": [
    "*Solución: 9 . 10*"
   ]
  },
  {
   "cell_type": "markdown",
   "id": "1543e309",
   "metadata": {},
   "source": [
    "**Ejercicio 16**\n",
    "\n",
    "El siguiente programa debería imprimir el número 2 si se le ingresan como valores x=5, y=1 pero en su lugar imprime 5. ¿Qué hay que corregir?\n",
    "```\n",
    "def maximo(a,b):\n",
    "  if x>y:\n",
    "    return x\n",
    "  else:\n",
    "    return y\n",
    "\n",
    " \n",
    "def minimo(a,b):\n",
    "  if x<y:\n",
    "    return x\n",
    "  else:\n",
    "    return y\n",
    "\n",
    " \n",
    "#programa principal\n",
    "x=int(input(\"Un número: \"))\n",
    "y=int(input(\"Otro número: \"))\n",
    "print(maximo(x-3, minimo(x+2, y-5)))\n",
    "```"
   ]
  },
  {
   "cell_type": "markdown",
   "id": "97864021",
   "metadata": {},
   "source": [
    "*Solución: Las funciones no utilizan sus parámetros a, b sino las variables globales x, y. Para corregir el error se deben utilizar los parámetros dentro del cuerpo de ambas funciones.*"
   ]
  },
  {
   "cell_type": "markdown",
   "id": "2fc12efa",
   "metadata": {},
   "source": [
    "**Ejercicio 17**\n",
    "\n",
    "Escribir una función que, dado un número de DNI, retorne True si el número es válido y False si no lo es. Para que un número de DNI sea válido debe tener entre 7 y 8 dígitos."
   ]
  },
  {
   "cell_type": "code",
   "execution_count": 24,
   "id": "7006047e",
   "metadata": {},
   "outputs": [],
   "source": [
    "def validarDNI(dni):\n",
    "   cantidad=0\n",
    "   while dni!=0:\n",
    "       cantidad+=1\n",
    "       dni//=10\n",
    "   return cantidad==7 or cantidad==8"
   ]
  },
  {
   "cell_type": "markdown",
   "id": "c70b58b0",
   "metadata": {},
   "source": [
    "**Ejercicio 18**\n",
    "\n",
    "Escribir una función que, dado un string, retorne la longitud de la última palabra. Se considera que las palabras están separadas por uno o más espacios. También podría haber espacios al principio o al final del string pasado por parámetro."
   ]
  },
  {
   "cell_type": "code",
   "execution_count": 25,
   "id": "5d094d67",
   "metadata": {},
   "outputs": [],
   "source": [
    "def lenUltimaPalabra(frase):\n",
    "   if len(frase)==0:\n",
    "       return 0\n",
    "   cantidad=0\n",
    "   for i in range(len(frase)):\n",
    "       if frase[i]!=' ':\n",
    "           cantidad+=1\n",
    "       else:\n",
    "           if i<len(frase)-1 and frase[i+1]!=' ':\n",
    "               cantidad=0\n",
    "   return cantidad"
   ]
  },
  {
   "cell_type": "markdown",
   "id": "4ad2646b",
   "metadata": {},
   "source": [
    "**Ejercicio 19**\n",
    "\n",
    "Escribir un programa que permita al usuario obtener un identificador para cada uno de los socios de un club. Para eso ingresará nombre completo y número de DNI de cada socio, indicando que finalizará el procesamiento mediante el ingreso de un nombre vacío.\n",
    "Precondición: el formato del nombre de los socios será: nombre apellido. Podría ingresarse más de un nombre, en cuyo caso será: nombre1 nombre2 apellido. Si un socio tuviera más de un apellido, el usuario sólo ingresará uno.\n",
    "Se debe validar que el número de DNI tenga 7 u 8 dígitos. En caso contrario, el programa debe dejar al usuario en un bucle hasta que ingrese un DNI correcto.\n",
    "Por cada socio se debe imprimir su identificador único, el cual estará formado por: el primer nombre, la cantidad de letras del apellido y los primeros 3 dígitos de su DNI. \n",
    "\n",
    "Ejemplo:\n",
    "\n",
    "`\n",
    "Nombre: Alba María Linares\n",
    "DNI: 25834910\n",
    "Alba7258\n",
    "`"
   ]
  },
  {
   "cell_type": "code",
   "execution_count": 29,
   "id": "af0589be",
   "metadata": {},
   "outputs": [
    {
     "name": "stdout",
     "output_type": "stream",
     "text": [
      "Nombre del socio: ric\n",
      "DNI del socio: 73110255\n",
      "ri3731\n",
      "Nombre del socio: \n"
     ]
    }
   ],
   "source": [
    "def lenUltimaPalabra(cadena):\n",
    "   longitud=len(cadena)\n",
    "   if longitud==0:\n",
    "       return 0\n",
    "   cantidad=0\n",
    "   for i in range(longitud):\n",
    "       if cadena[i]!=' ':\n",
    "           cantidad+=1\n",
    "       else:\n",
    "           if cadena[i]==' ' and i<(longitud-1) and cadena[i+1]!=' ':\n",
    "               cantidad=0\n",
    "   return cantidad\n",
    "\n",
    " \n",
    "def DNIvalido(dni):\n",
    "   cantidad=0\n",
    "   while dni!=0:\n",
    "       cantidad+=1\n",
    "       dni//=10\n",
    "   return cantidad==7 or cantidad==8\n",
    "\n",
    " \n",
    "def primerosTresDigitos(numero):\n",
    "   while numero >= 1000:\n",
    "     numero = numero // 10\n",
    "   return numero\n",
    "\n",
    " \n",
    "def obtenerIdentificador(nombre, dni):\n",
    "   nombre=nombre.strip()\n",
    "   id=nombre[:nombre.find(\" \")]\n",
    "   id=id+str(lenUltimaPalabra(nombre))\n",
    "   id=id+str(primerosTresDigitos(dni))\n",
    "   return id\n",
    "\n",
    " \n",
    "#programa principal\n",
    "nombre=input(\"Nombre del socio: \")\n",
    "while nombre!=\"\":\n",
    "   dni=int(input(\"DNI del socio: \"))\n",
    "   while not(DNIvalido(dni)):\n",
    "      print(\"Número inválido.\")\n",
    "      dni=int(input(\"DNI del socio: \"))\n",
    "   print(obtenerIdentificador(nombre,dni))\n",
    "   nombre=input(\"Nombre del socio: \")"
   ]
  },
  {
   "cell_type": "markdown",
   "id": "055b7907",
   "metadata": {},
   "source": [
    "**Ejercicio 20**\n",
    "\n",
    "Escribir la función titulo(), la cual recibe un string y lo retorna convirtiendo la primera letra de cada palabra a mayúscula y las demás letras a minúscula, dejando inalterados los demás caracteres. Precondición: el separador de palabras es el espacio: \" \". Agregar doctests con suficientes casos de prueba para validar que la función retorna el valor esperado ante distintos argumentos."
   ]
  },
  {
   "cell_type": "code",
   "execution_count": 31,
   "id": "5ca8be8f",
   "metadata": {},
   "outputs": [],
   "source": [
    "def titulo(cadena):\n",
    "    '''\n",
    "    Recibe una cadena de caracteres y retorna una copia que tiene la\n",
    "    primera letra de cada palabra en mayúsculas y el resto de las letras\n",
    "    en minúsculas.\n",
    "    >>> titulo('esto es una frase')\n",
    "    'Esto Es Una Frase'\n",
    "    >>> titulo('ESTO ES UNA FRASE')\n",
    "    'Esto Es Una Frase'\n",
    "    >>> titulo('palabra')\n",
    "    'Palabra'\n",
    "    >>> titulo('   esto es una frase')\n",
    "    '   Esto Es Una Frase'\n",
    "    >>> titulo('esto es una frase   ')\n",
    "    'Esto Es Una Frase   '\n",
    "    >>> titulo('esto   es   una   frase')\n",
    "    'Esto   Es   Una   Frase'\n",
    "    >>> titulo('')\n",
    "    ''\n",
    "    >>> titulo(' ')\n",
    "    ' '\n",
    "    >>> titulo('123')\n",
    "    '123'\n",
    "    >>> titulo('-1esto 2es 3una 4frase')\n",
    "    '-1Esto 2Es 3Una 4Frase'\n",
    "    >>> titulo('esto1 es2 una3 frase4---')\n",
    "    'Esto1 Es2 Una3 Frase4---'\n",
    "    '''\n",
    "    nueva=\"\"\n",
    "    inicioPalabra=True              #indica el inicio de una palabra\n",
    "    for caracter in cadena:\n",
    "        if not caracter.isalpha():\n",
    "            nueva=nueva+caracter\n",
    "            inicioPalabra=True\n",
    "        else:\n",
    "            if inicioPalabra:\n",
    "                nueva=nueva+caracter.upper()\n",
    "                inicioPalabra=False  #ya no es el inicio de una palabra \n",
    "            else:\n",
    "                nueva=nueva+caracter.lower()\n",
    "    return nueva"
   ]
  }
 ],
 "metadata": {
  "kernelspec": {
   "display_name": "Python 3 (ipykernel)",
   "language": "python",
   "name": "python3"
  },
  "language_info": {
   "codemirror_mode": {
    "name": "ipython",
    "version": 3
   },
   "file_extension": ".py",
   "mimetype": "text/x-python",
   "name": "python",
   "nbconvert_exporter": "python",
   "pygments_lexer": "ipython3",
   "version": "3.9.13"
  }
 },
 "nbformat": 4,
 "nbformat_minor": 5
}
