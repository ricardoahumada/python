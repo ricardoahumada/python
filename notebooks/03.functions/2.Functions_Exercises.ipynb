{
 "cells": [
  {
   "cell_type": "markdown",
   "id": "2da37bcd",
   "metadata": {},
   "source": [
    "**Ejercicio 1**\n",
    "\n",
    "Escribe un programa para crear una función que tome dos argumentos, nombre y edad, e imprima sus valores."
   ]
  },
  {
   "cell_type": "markdown",
   "id": "4b7a09be",
   "metadata": {},
   "source": [
    "**Ejercicio 2**\n",
    "\n",
    "Genere una lista de Python de todos los números pares entre 4 y 30"
   ]
  },
  {
   "cell_type": "markdown",
   "id": "f39cf7ae",
   "metadata": {},
   "source": [
    "**Ejercicio 3**\n",
    "\n",
    "Encuentra el elemento más grande de una lista dada\n",
    "Ejemplo: para\n",
    "\n",
    "`x = [4, 6, 8, 24, 12, 2]`\n",
    "\n",
    "Salida: 24"
   ]
  },
  {
   "cell_type": "markdown",
   "id": "58bfc0dd",
   "metadata": {},
   "source": [
    "**Ejercicio 4**\n",
    "\n",
    "Devolver múltiples valores de una función\n",
    "\n",
    "Escribe un programa para crear la función `calculation()` de modo que pueda aceptar dos variables y calcular sumas y restas. Además, debe devolver tanto la suma como la resta en una sola llamada de devolución."
   ]
  },
  {
   "cell_type": "markdown",
   "id": "2dea2eb0",
   "metadata": {},
   "source": [
    "**Ejercicio 5**\n",
    "\n",
    "Crear una función con un argumento predeterminado\n",
    "\n",
    "Escribe un programa para crear una función `show_employee()` usando las siguientes condiciones.\n",
    "- Debe aceptar el nombre y el salario del empleado y mostrar ambos.\n",
    "- Si falta el salario en la llamada de función, asigne el valor predeterminado 9000 al salario"
   ]
  },
  {
   "cell_type": "markdown",
   "id": "0dcd1f20",
   "metadata": {},
   "source": [
    "**Ejercicio 6**\n",
    "\n",
    "Crea una función interna para calcular la suma de la siguiente manera:\n",
    "- Crea una función externa que acepte dos parámetros, a y b\n",
    "- Crea una función interna dentro de una función externa que calculará la suma de a y b\n",
    "- Finalmente, una función externa sumará 5 y lo devolverá"
   ]
  },
  {
   "cell_type": "markdown",
   "id": "7dca34fb",
   "metadata": {},
   "source": [
    "**Ejercicio 7**\n",
    "\n",
    "Solicitar al usuario que ingrese su dirección email. Imprimir un mensaje indicando si la dirección es válida o no, valiéndose de una función para decidirlo. Una dirección se considerará válida si contiene el símbolo \"@\"."
   ]
  },
  {
   "cell_type": "markdown",
   "id": "92efaaab",
   "metadata": {},
   "source": [
    "**Ejercicio 8**\n",
    "\n",
    "Solicitar números al usuario hasta que ingrese el cero. Por cada uno, mostrar la suma de sus dígitos (utilizando una función que realice dicha suma)."
   ]
  },
  {
   "cell_type": "markdown",
   "id": "030680ac",
   "metadata": {},
   "source": [
    "**Ejercicio 9**\n",
    "\n",
    "Solicitar números al usuario hasta que ingrese el cero. Por cada uno, mostrar la suma de sus dígitos. Al finalizar, mostrar la sumatoria de todos los números ingresados y la suma de sus dígitos. Reutilizar la misma función realizada en el ejercicio anterior."
   ]
  },
  {
   "cell_type": "markdown",
   "id": "b7d77fbc",
   "metadata": {},
   "source": [
    "**Ejercicio 10**\n",
    "\n",
    "Requerir al usuario que ingrese un número entero e informar si es primo o no, utilizando una función booleana que lo decida."
   ]
  },
  {
   "cell_type": "markdown",
   "id": "86f13fc1",
   "metadata": {},
   "source": [
    "**Ejercicio 11**\n",
    "\n",
    "Solicitar al usuario un número entero y luego un dígito. Informar la cantidad de ocurrencias del dígito en el número, utilizando para ello una función que calcule la frecuencia."
   ]
  },
  {
   "cell_type": "markdown",
   "id": "7e34e5d1",
   "metadata": {},
   "source": [
    "**Ejercicio 12**\n",
    "\n",
    "Escribir un programa que pida números al usuario, motrar el factorial de cada uno y, al finalizar, la cantidad total de números leídos en total. Utilizar una o más funciones, según sea necesario."
   ]
  },
  {
   "cell_type": "markdown",
   "id": "3c06a948",
   "metadata": {},
   "source": [
    "**Ejercicio 13**\n",
    "\n",
    "Escribir un programa que pida números positivos al usuario. Mostrar el número cuya sumatoria de dígitos fue mayor y la cantidad de números cuya sumatoria de dígitos fue menor que 10. Utilizar una o más funciones, según sea necesario."
   ]
  },
  {
   "cell_type": "markdown",
   "id": "8e563061",
   "metadata": {},
   "source": [
    "**Ejercicio 14**\n",
    "\n",
    "Solicitar al usuario el ingreso de números primos. La lectura finalizará cuando ingrese un número que no sea primo. Por cada número, mostrar la suma de sus dígitos. También solicitar al usuario un dígito e informar la cantidad de veces que aparece en el número (frecuencia). Al finalizar el programa, mostrar el factorial del mayor número ingresado."
   ]
  },
  {
   "cell_type": "markdown",
   "id": "69172beb",
   "metadata": {},
   "source": [
    "**Ejercicio 15**\n",
    "\n",
    "Sin ejecutar el siguiente programa, determinar cuál es la salida en pantalla si se ingresan los valores x=6, y=7:\n",
    "\n",
    "```\n",
    "def coordenadaZ(x,y):\n",
    "  x=x+10\n",
    "  y=y+15\n",
    "  return x+y\n",
    "\n",
    " \n",
    "#programa principal\n",
    "x=int(input(\"Coordenada eje x: \"))\n",
    "y=int(input(\"Coordenada eje y: \"))\n",
    "for i in range(3):\n",
    "  z=coordenadaZ(x,y)\n",
    "  x=x+1\n",
    "  y=y+1\n",
    "print(x,\" . \",y)\n",
    "```"
   ]
  },
  {
   "cell_type": "markdown",
   "id": "1543e309",
   "metadata": {},
   "source": [
    "**Ejercicio 16**\n",
    "\n",
    "El siguiente programa debería imprimir el número 2 si se le ingresan como valores x=5, y=1 pero en su lugar imprime 5. ¿Qué hay que corregir?\n",
    "```\n",
    "def maximo(a,b):\n",
    "  if x>y:\n",
    "    return x\n",
    "  else:\n",
    "    return y\n",
    "\n",
    " \n",
    "def minimo(a,b):\n",
    "  if x<y:\n",
    "    return x\n",
    "  else:\n",
    "    return y\n",
    "\n",
    " \n",
    "#programa principal\n",
    "x=int(input(\"Un número: \"))\n",
    "y=int(input(\"Otro número: \"))\n",
    "print(maximo(x-3, minimo(x+2, y-5)))\n",
    "```"
   ]
  },
  {
   "cell_type": "markdown",
   "id": "2fc12efa",
   "metadata": {},
   "source": [
    "**Ejercicio 17**\n",
    "\n",
    "Escribir una función que, dado un número de DNI, retorne True si el número es válido y False si no lo es. Para que un número de DNI sea válido debe tener entre 7 y 8 dígitos."
   ]
  },
  {
   "cell_type": "markdown",
   "id": "c70b58b0",
   "metadata": {},
   "source": [
    "**Ejercicio 18**\n",
    "\n",
    "Escribir una función que, dado un string, retorne la longitud de la última palabra. Se considera que las palabras están separadas por uno o más espacios. También podría haber espacios al principio o al final del string pasado por parámetro."
   ]
  },
  {
   "cell_type": "markdown",
   "id": "4ad2646b",
   "metadata": {},
   "source": [
    "**Ejercicio 19**\n",
    "\n",
    "Escribir un programa que permita al usuario obtener un identificador para cada uno de los socios de un club. Para eso ingresará nombre completo y número de DNI de cada socio, indicando que finalizará el procesamiento mediante el ingreso de un nombre vacío.\n",
    "Precondición: el formato del nombre de los socios será: nombre apellido. Podría ingresarse más de un nombre, en cuyo caso será: nombre1 nombre2 apellido. Si un socio tuviera más de un apellido, el usuario sólo ingresará uno.\n",
    "Se debe validar que el número de DNI tenga 7 u 8 dígitos. En caso contrario, el programa debe dejar al usuario en un bucle hasta que ingrese un DNI correcto.\n",
    "Por cada socio se debe imprimir su identificador único, el cual estará formado por: el primer nombre, la cantidad de letras del apellido y los primeros 3 dígitos de su DNI. \n",
    "\n",
    "Ejemplo:\n",
    "\n",
    "`\n",
    "Nombre: Alba María Linares\n",
    "DNI: 25834910\n",
    "Alba7258\n",
    "`"
   ]
  },
  {
   "cell_type": "markdown",
   "id": "055b7907",
   "metadata": {},
   "source": [
    "**Ejercicio 20**\n",
    "\n",
    "Escribir la función titulo(), la cual recibe un string y lo retorna convirtiendo la primera letra de cada palabra a mayúscula y las demás letras a minúscula, dejando inalterados los demás caracteres. Precondición: el separador de palabras es el espacio: \" \". Agregar doctests con suficientes casos de prueba para validar que la función retorna el valor esperado ante distintos argumentos."
   ]
  }
 ],
 "metadata": {
  "kernelspec": {
   "display_name": "Python 3 (ipykernel)",
   "language": "python",
   "name": "python3"
  },
  "language_info": {
   "codemirror_mode": {
    "name": "ipython",
    "version": 3
   },
   "file_extension": ".py",
   "mimetype": "text/x-python",
   "name": "python",
   "nbconvert_exporter": "python",
   "pygments_lexer": "ipython3",
   "version": "3.9.13"
  }
 },
 "nbformat": 4,
 "nbformat_minor": 5
}
