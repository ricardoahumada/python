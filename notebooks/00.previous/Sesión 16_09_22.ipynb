{
 "cells": [
  {
   "cell_type": "markdown",
   "id": "7e3fee99",
   "metadata": {},
   "source": []
  },
  {
   "cell_type": "markdown",
   "id": "3a1e1709",
   "metadata": {},
   "source": [
    "\n",
    "# Resumen Sesión 13/09/22\n",
    "\n",
    "\n",
    "### Operando con Python\n",
    "\n",
    "\n",
    "\n",
    "\n",
    "\n"
   ]
  },
  {
   "cell_type": "code",
   "execution_count": 41,
   "id": "0565fc4d",
   "metadata": {
    "scrolled": true
   },
   "outputs": [
    {
     "data": {
      "text/plain": [
       "5"
      ]
     },
     "execution_count": 41,
     "metadata": {},
     "output_type": "execute_result"
    }
   ],
   "source": [
    "2 + 3"
   ]
  },
  {
   "cell_type": "code",
   "execution_count": 42,
   "id": "99b45d33",
   "metadata": {
    "scrolled": false
   },
   "outputs": [
    {
     "data": {
      "text/plain": [
       "8"
      ]
     },
     "execution_count": 42,
     "metadata": {},
     "output_type": "execute_result"
    }
   ],
   "source": [
    "5 + 3 #suma"
   ]
  },
  {
   "cell_type": "code",
   "execution_count": 43,
   "id": "583769fe",
   "metadata": {
    "scrolled": true
   },
   "outputs": [
    {
     "data": {
      "text/plain": [
       "2"
      ]
     },
     "execution_count": 43,
     "metadata": {},
     "output_type": "execute_result"
    }
   ],
   "source": [
    "5 - 3 #resta"
   ]
  },
  {
   "cell_type": "code",
   "execution_count": 44,
   "id": "d5e815f4",
   "metadata": {},
   "outputs": [
    {
     "data": {
      "text/plain": [
       "15"
      ]
     },
     "execution_count": 44,
     "metadata": {},
     "output_type": "execute_result"
    }
   ],
   "source": [
    "5 * 3 #multiplicación"
   ]
  },
  {
   "cell_type": "code",
   "execution_count": 45,
   "id": "19abebae",
   "metadata": {},
   "outputs": [
    {
     "data": {
      "text/plain": [
       "1.6666666666666667"
      ]
     },
     "execution_count": 45,
     "metadata": {},
     "output_type": "execute_result"
    }
   ],
   "source": [
    "5 / 3 #División"
   ]
  },
  {
   "cell_type": "code",
   "execution_count": 46,
   "id": "5c62ed0f",
   "metadata": {},
   "outputs": [
    {
     "data": {
      "text/plain": [
       "1"
      ]
     },
     "execution_count": 46,
     "metadata": {},
     "output_type": "execute_result"
    }
   ],
   "source": [
    "5 // 3 #Cociente de la división"
   ]
  },
  {
   "cell_type": "code",
   "execution_count": 47,
   "id": "683ac954",
   "metadata": {},
   "outputs": [
    {
     "data": {
      "text/plain": [
       "2"
      ]
     },
     "execution_count": 47,
     "metadata": {},
     "output_type": "execute_result"
    }
   ],
   "source": [
    "5 % 3 #Resto de la división"
   ]
  },
  {
   "cell_type": "code",
   "execution_count": 48,
   "id": "627bd124",
   "metadata": {
    "scrolled": true
   },
   "outputs": [
    {
     "data": {
      "text/plain": [
       "125"
      ]
     },
     "execution_count": 48,
     "metadata": {},
     "output_type": "execute_result"
    }
   ],
   "source": [
    "5 ** 3 #potencia"
   ]
  },
  {
   "cell_type": "code",
   "execution_count": 49,
   "id": "afb487a8",
   "metadata": {},
   "outputs": [
    {
     "data": {
      "text/plain": [
       "3"
      ]
     },
     "execution_count": 49,
     "metadata": {},
     "output_type": "execute_result"
    }
   ],
   "source": [
    "((a ** 3) + (a // 3)) - ((a -3) * (5 % 3))"
   ]
  },
  {
   "cell_type": "markdown",
   "id": "0fd21da9",
   "metadata": {},
   "source": [
    "\n",
    "### Variables\n",
    "\n",
    " Vimos que una variable básicamente es un nombre que le damos a un valor o objeto, para usarlo más adelante"
   ]
  },
  {
   "cell_type": "code",
   "execution_count": 50,
   "id": "209ee139",
   "metadata": {
    "scrolled": true
   },
   "outputs": [],
   "source": [
    "a = 1 \n",
    "b = 2.5  #siempre 'punto' para separador decimal\n",
    "c = 2 + 4j \n",
    "d = \"Hola\"\n",
    "e = True\n",
    "A = \"Jacinto\"\n",
    "\n"
   ]
  },
  {
   "cell_type": "code",
   "execution_count": 52,
   "id": "b19a5e24",
   "metadata": {},
   "outputs": [
    {
     "data": {
      "text/plain": [
       "'Jacinto'"
      ]
     },
     "execution_count": 52,
     "metadata": {},
     "output_type": "execute_result"
    }
   ],
   "source": [
    "A"
   ]
  },
  {
   "cell_type": "code",
   "execution_count": 67,
   "id": "57f10117",
   "metadata": {},
   "outputs": [
    {
     "data": {
      "text/plain": [
       "54"
      ]
     },
     "execution_count": 67,
     "metadata": {},
     "output_type": "execute_result"
    }
   ],
   "source": [
    "f = (((5 ** 3) + (5 // 3)) - ((5 -3) * (5 % 3)))\n",
    "f #en este caso, imprimiría el valor de f sin necesidad de usar la función print()"
   ]
  },
  {
   "cell_type": "markdown",
   "id": "67ae8c05",
   "metadata": {},
   "source": [
    "### Algunas funciones\n",
    "\n",
    "Vimos que la función type() nos servía para conocer el tipo de un objeto, y que la función print() nos sirve para imprimir, sobretodo cuando hay mas de un elemento para imprimir en la misma celda, y para impresiones complejas o mas atractivas:"
   ]
  },
  {
   "cell_type": "code",
   "execution_count": 59,
   "id": "4f566939",
   "metadata": {},
   "outputs": [
    {
     "name": "stdout",
     "output_type": "stream",
     "text": [
      "<class 'int'>\n",
      "<class 'float'>\n"
     ]
    }
   ],
   "source": [
    "print(type(a))\n",
    "print(type(b))"
   ]
  },
  {
   "cell_type": "code",
   "execution_count": 68,
   "id": "dd5cce54",
   "metadata": {},
   "outputs": [
    {
     "name": "stdout",
     "output_type": "stream",
     "text": [
      "El objeto que hay en a es de tipo  <class 'int'>\n",
      "El objeto que hay en b es de tipo  <class 'float'>\n",
      "El objeto que hay en c es de tipo  <class 'complex'>\n",
      "El objeto que hay en d es de tipo  <class 'str'>\n",
      "El objeto que hay en e es de tipo  <class 'bool'>\n",
      "El objeto que hay en e es de tipo  <class 'int'>\n",
      "El objeto que hay en A es de tipo  <class 'str'>\n"
     ]
    }
   ],
   "source": [
    "print(\"El objeto que hay en a es de tipo \",type(a))\n",
    "print(\"El objeto que hay en b es de tipo \",type(b))\n",
    "print(\"El objeto que hay en c es de tipo \",type(c))\n",
    "print(\"El objeto que hay en d es de tipo \",type(d))\n",
    "print(\"El objeto que hay en e es de tipo \",type(e))\n",
    "print(\"El objeto que hay en e es de tipo \",type(f))\n",
    "print(\"El objeto que hay en A es de tipo \",type(A)) #obsérvese que hemos creado una variable con a y otra con A"
   ]
  },
  {
   "cell_type": "code",
   "execution_count": 70,
   "id": "83cbbcc9",
   "metadata": {},
   "outputs": [],
   "source": [
    "a1 = \"Pablo\"\n",
    "a2 = \"Belén\""
   ]
  },
  {
   "cell_type": "code",
   "execution_count": 72,
   "id": "42a8e767",
   "metadata": {},
   "outputs": [],
   "source": [
    "alumno1 =  \"Pablo\"\n"
   ]
  },
  {
   "cell_type": "markdown",
   "id": "93ddb5bb",
   "metadata": {},
   "source": [
    "Ahora vemos algunas de las funciones que podemos usar para transformar el tipo de las variables"
   ]
  },
  {
   "cell_type": "code",
   "execution_count": 74,
   "id": "a9560de6",
   "metadata": {},
   "outputs": [],
   "source": [
    "a = 1 \n",
    "b = 2.5  #siempre 'punto' para separador decimal\n",
    "c = 2 + 4j \n",
    "d = \"Hola\"\n",
    "e = True\n",
    "A = \"Jacinto\""
   ]
  },
  {
   "cell_type": "code",
   "execution_count": 101,
   "id": "4742494f",
   "metadata": {},
   "outputs": [],
   "source": [
    "sa = str(a)\n",
    "ib = int(b)\n",
    "fa = float(a)"
   ]
  },
  {
   "cell_type": "code",
   "execution_count": 76,
   "id": "57290a62",
   "metadata": {},
   "outputs": [
    {
     "name": "stdout",
     "output_type": "stream",
     "text": [
      "La variable sa vale  1  y su tipo es  <class 'str'>\n",
      "La variable ib vale  2  y su tipo es  <class 'int'>\n",
      "La variable fa vale  1.0  y su tipo es  <class 'float'>\n"
     ]
    }
   ],
   "source": [
    "print( \"La variable sa vale \",sa, \" y su tipo es \",type(sa))\n",
    "print( \"La variable ib vale \",ib, \" y su tipo es \",type(ib))\n",
    "print( \"La variable fa vale \",fa, \" y su tipo es \",type(fa))"
   ]
  },
  {
   "cell_type": "code",
   "execution_count": 77,
   "id": "0e1ca147",
   "metadata": {},
   "outputs": [
    {
     "data": {
      "text/plain": [
       "6"
      ]
     },
     "execution_count": 77,
     "metadata": {},
     "output_type": "execute_result"
    }
   ],
   "source": [
    "a + 5"
   ]
  },
  {
   "cell_type": "code",
   "execution_count": 84,
   "id": "3bf2a3c2",
   "metadata": {},
   "outputs": [
    {
     "data": {
      "text/plain": [
       "6.0"
      ]
     },
     "execution_count": 84,
     "metadata": {},
     "output_type": "execute_result"
    }
   ],
   "source": [
    "float(int(sa) + 5)"
   ]
  },
  {
   "cell_type": "markdown",
   "id": "cc8bde35",
   "metadata": {},
   "source": [
    "### Comparadores"
   ]
  },
  {
   "cell_type": "markdown",
   "id": "c29b3a68",
   "metadata": {},
   "source": [
    "El tipo buleano es un tipo que solo admite dos posibles valores: True o False.\n",
    "Un buleano es lo que python nos devuelve cuando hacemos una comparación:\n"
   ]
  },
  {
   "cell_type": "code",
   "execution_count": 86,
   "id": "6d72f9c1",
   "metadata": {},
   "outputs": [
    {
     "data": {
      "text/plain": [
       "True"
      ]
     },
     "execution_count": 86,
     "metadata": {},
     "output_type": "execute_result"
    }
   ],
   "source": [
    "5 == 5"
   ]
  },
  {
   "cell_type": "code",
   "execution_count": 87,
   "id": "aa8f8f4c",
   "metadata": {},
   "outputs": [],
   "source": [
    "a = 1 \n",
    "b = 2.5  #siempre 'punto' para separador decimal\n",
    "c = 2 + 4j \n",
    "d = \"Hola\"\n",
    "e = True\n",
    "A = \"Jacinto\""
   ]
  },
  {
   "cell_type": "code",
   "execution_count": 88,
   "id": "315073ea",
   "metadata": {},
   "outputs": [
    {
     "data": {
      "text/plain": [
       "True"
      ]
     },
     "execution_count": 88,
     "metadata": {},
     "output_type": "execute_result"
    }
   ],
   "source": [
    "a == 1"
   ]
  },
  {
   "cell_type": "code",
   "execution_count": 99,
   "id": "8d9da8f8",
   "metadata": {},
   "outputs": [
    {
     "data": {
      "text/plain": [
       "True"
      ]
     },
     "execution_count": 99,
     "metadata": {},
     "output_type": "execute_result"
    }
   ],
   "source": [
    "5 == 5"
   ]
  },
  {
   "cell_type": "code",
   "execution_count": 89,
   "id": "80fa12ca",
   "metadata": {},
   "outputs": [
    {
     "data": {
      "text/plain": [
       "False"
      ]
     },
     "execution_count": 89,
     "metadata": {},
     "output_type": "execute_result"
    }
   ],
   "source": [
    "A == 1"
   ]
  },
  {
   "cell_type": "code",
   "execution_count": 90,
   "id": "8e907b23",
   "metadata": {},
   "outputs": [
    {
     "data": {
      "text/plain": [
       "True"
      ]
     },
     "execution_count": 90,
     "metadata": {},
     "output_type": "execute_result"
    }
   ],
   "source": [
    "A == \"Jacinto\""
   ]
  },
  {
   "cell_type": "code",
   "execution_count": 91,
   "id": "0c2814d2",
   "metadata": {},
   "outputs": [
    {
     "data": {
      "text/plain": [
       "True"
      ]
     },
     "execution_count": 91,
     "metadata": {},
     "output_type": "execute_result"
    }
   ],
   "source": [
    "a > -5"
   ]
  },
  {
   "cell_type": "code",
   "execution_count": 92,
   "id": "5a24f073",
   "metadata": {},
   "outputs": [
    {
     "data": {
      "text/plain": [
       "True"
      ]
     },
     "execution_count": 92,
     "metadata": {},
     "output_type": "execute_result"
    }
   ],
   "source": [
    "3 != 2"
   ]
  },
  {
   "cell_type": "code",
   "execution_count": 93,
   "id": "7df30ba8",
   "metadata": {},
   "outputs": [
    {
     "data": {
      "text/plain": [
       "True"
      ]
     },
     "execution_count": 93,
     "metadata": {},
     "output_type": "execute_result"
    }
   ],
   "source": [
    "a == 14 or a == 1"
   ]
  },
  {
   "cell_type": "code",
   "execution_count": 94,
   "id": "96a50494",
   "metadata": {},
   "outputs": [
    {
     "data": {
      "text/plain": [
       "False"
      ]
     },
     "execution_count": 94,
     "metadata": {},
     "output_type": "execute_result"
    }
   ],
   "source": [
    "a > 2 and a < 5"
   ]
  },
  {
   "cell_type": "code",
   "execution_count": 95,
   "id": "c5f3a4cc",
   "metadata": {},
   "outputs": [
    {
     "data": {
      "text/plain": [
       "True"
      ]
     },
     "execution_count": 95,
     "metadata": {},
     "output_type": "execute_result"
    }
   ],
   "source": [
    "3 > 2 and 3 < 10 #estamos comprobando si 3 se encuentra en el rango [3,9] ambos incluidos"
   ]
  },
  {
   "cell_type": "code",
   "execution_count": 97,
   "id": "a0ebdf28",
   "metadata": {},
   "outputs": [
    {
     "data": {
      "text/plain": [
       "True"
      ]
     },
     "execution_count": 97,
     "metadata": {},
     "output_type": "execute_result"
    }
   ],
   "source": [
    "not a > 2 and a < 5"
   ]
  },
  {
   "cell_type": "code",
   "execution_count": 102,
   "id": "04512768",
   "metadata": {},
   "outputs": [
    {
     "data": {
      "text/plain": [
       "'1'"
      ]
     },
     "execution_count": 102,
     "metadata": {},
     "output_type": "execute_result"
    }
   ],
   "source": [
    "sa"
   ]
  },
  {
   "cell_type": "code",
   "execution_count": 103,
   "id": "f7306832",
   "metadata": {},
   "outputs": [
    {
     "data": {
      "text/plain": [
       "True"
      ]
     },
     "execution_count": 103,
     "metadata": {},
     "output_type": "execute_result"
    }
   ],
   "source": [
    "sa == \"1\" #¿Por qué devuelve false?"
   ]
  },
  {
   "cell_type": "markdown",
   "id": "aebf6237",
   "metadata": {},
   "source": [
    "### Características de los buleanos\n",
    "\n",
    "Además, (y esto no lo vimos), también existe una función para convertir a buleano. la función bool(). Tiene una particularidades a las que ahora mismo puede ser que no le encontremos aplicación, pero todo se andará."
   ]
  },
  {
   "cell_type": "code",
   "execution_count": 112,
   "id": "e4a718e8",
   "metadata": {},
   "outputs": [
    {
     "name": "stdout",
     "output_type": "stream",
     "text": [
      " Si pasamos la función bool() a 0, nos dará  False\n",
      " Si pasamos la función bool() a cualquier número distinto de 0, nos dará  True\n",
      " Si pasamos la función bool() a una cadena de texto vacía nos dará  False\n",
      " Si pasamos la función bool() a una cadena de texto no vacía nos dará  True\n"
     ]
    }
   ],
   "source": [
    "print ( \" Si pasamos la función bool() a 0, nos dará \",bool(0))\n",
    "print ( \" Si pasamos la función bool() a cualquier número distinto de 0, nos dará \",bool(-5))\n",
    "print ( \" Si pasamos la función bool() a una cadena de texto vacía nos dará \",bool(\"\"))\n",
    "print ( \" Si pasamos la función bool() a una cadena de texto no vacía nos dará \",bool(\" \"))"
   ]
  },
  {
   "cell_type": "code",
   "execution_count": 105,
   "id": "089dc907",
   "metadata": {},
   "outputs": [
    {
     "data": {
      "text/plain": [
       "True"
      ]
     },
     "execution_count": 105,
     "metadata": {},
     "output_type": "execute_result"
    }
   ],
   "source": [
    "bool(4.5)"
   ]
  },
  {
   "cell_type": "markdown",
   "id": "030a97d8",
   "metadata": {},
   "source": [
    "### Listas\n",
    "\n",
    "\n",
    "Vimos que, además de los objetos mas básicos, vistos en la celda anterior, tenemos otros con un mayor nivel de complejidad, como por ejemplo las listas. Las listas son mutables (pueden variar) y sus elementos están ordenados.\n",
    "\n"
   ]
  },
  {
   "cell_type": "code",
   "execution_count": 114,
   "id": "b4f73016",
   "metadata": {},
   "outputs": [],
   "source": [
    "elementos = [\"a\",\"b\",\"c\",\"d\"] "
   ]
  },
  {
   "cell_type": "code",
   "execution_count": 115,
   "id": "0603a738",
   "metadata": {},
   "outputs": [
    {
     "name": "stdout",
     "output_type": "stream",
     "text": [
      "['a', 'b', 'c', 'd']\n"
     ]
    }
   ],
   "source": [
    "print(elementos)"
   ]
  },
  {
   "cell_type": "code",
   "execution_count": 116,
   "id": "82c768d4",
   "metadata": {},
   "outputs": [
    {
     "data": {
      "text/plain": [
       "list"
      ]
     },
     "execution_count": 116,
     "metadata": {},
     "output_type": "execute_result"
    }
   ],
   "source": [
    "type(elementos)"
   ]
  },
  {
   "cell_type": "markdown",
   "id": "ae7820f6",
   "metadata": {},
   "source": [
    "Y que, en una lista, los elementos pueden ser de distintos tipos:"
   ]
  },
  {
   "cell_type": "code",
   "execution_count": 121,
   "id": "4301d51e",
   "metadata": {},
   "outputs": [],
   "source": [
    "elementos2 = [\"Juan\",42,True,1.83]"
   ]
  },
  {
   "cell_type": "code",
   "execution_count": 123,
   "id": "cf084f77",
   "metadata": {},
   "outputs": [
    {
     "data": {
      "text/plain": [
       "1.83"
      ]
     },
     "execution_count": 123,
     "metadata": {},
     "output_type": "execute_result"
    }
   ],
   "source": [
    "elementos2[3]"
   ]
  },
  {
   "cell_type": "markdown",
   "id": "f5495420",
   "metadata": {},
   "source": [
    "Una lista puede incluir otra lista, o cualquier otro tipo de objeto mas complejo, como un diccionario, una tupla, un conjunto... tipos que aun no he mos visto pero que estamos a punto. "
   ]
  },
  {
   "cell_type": "code",
   "execution_count": null,
   "id": "84655012",
   "metadata": {},
   "outputs": [],
   "source": []
  },
  {
   "cell_type": "code",
   "execution_count": 148,
   "id": "505cc7ed",
   "metadata": {
    "scrolled": true
   },
   "outputs": [],
   "source": [
    "elementos_anidados = [\"Juan\",42,True, 1.83, [[\"Futbol, . . % Baloncesto\"],\"Lectura\",\"Música\",[\"Guitarra\",\"Saxofón\"]]]"
   ]
  },
  {
   "cell_type": "markdown",
   "id": "1bfac1c6",
   "metadata": {},
   "source": [
    "También vimos como acceder a los elementos de una lista, apelando a su posición. Por eso decimos que una lista es un conjunto de elementos ordenados.  "
   ]
  },
  {
   "cell_type": "code",
   "execution_count": 149,
   "id": "201f5144",
   "metadata": {},
   "outputs": [
    {
     "data": {
      "text/plain": [
       "42"
      ]
     },
     "execution_count": 149,
     "metadata": {},
     "output_type": "execute_result"
    }
   ],
   "source": [
    "elementos_anidados[1]"
   ]
  },
  {
   "cell_type": "code",
   "execution_count": 150,
   "id": "410e2342",
   "metadata": {},
   "outputs": [],
   "source": [
    "juan = elementos_anidados[0]"
   ]
  },
  {
   "cell_type": "code",
   "execution_count": 151,
   "id": "98ff19c4",
   "metadata": {},
   "outputs": [
    {
     "data": {
      "text/plain": [
       "'u'"
      ]
     },
     "execution_count": 151,
     "metadata": {},
     "output_type": "execute_result"
    }
   ],
   "source": [
    "type(juan)\n",
    "juan[1]"
   ]
  },
  {
   "cell_type": "code",
   "execution_count": 152,
   "id": "6cdb7061",
   "metadata": {},
   "outputs": [
    {
     "data": {
      "text/plain": [
       "'u'"
      ]
     },
     "execution_count": 152,
     "metadata": {},
     "output_type": "execute_result"
    }
   ],
   "source": [
    "elementos_anidados[0][1]"
   ]
  },
  {
   "cell_type": "code",
   "execution_count": 153,
   "id": "318f1d07",
   "metadata": {},
   "outputs": [
    {
     "data": {
      "text/plain": [
       "[['Futbol, . . % Baloncesto'], 'Lectura', 'Música', ['Guitarra', 'Saxofón']]"
      ]
     },
     "execution_count": 153,
     "metadata": {},
     "output_type": "execute_result"
    }
   ],
   "source": [
    "elementos_anidados[-1]"
   ]
  },
  {
   "cell_type": "code",
   "execution_count": 154,
   "id": "ae6b46eb",
   "metadata": {},
   "outputs": [
    {
     "data": {
      "text/plain": [
       "'Futbol, . . % Baloncesto'"
      ]
     },
     "execution_count": 154,
     "metadata": {},
     "output_type": "execute_result"
    }
   ],
   "source": [
    "elementos_anidados[-1][0][0]"
   ]
  },
  {
   "cell_type": "code",
   "execution_count": 156,
   "id": "71497101",
   "metadata": {},
   "outputs": [
    {
     "data": {
      "text/plain": [
       "str"
      ]
     },
     "execution_count": 156,
     "metadata": {},
     "output_type": "execute_result"
    }
   ],
   "source": [
    "type(elementos_anidados[-1][0][0])"
   ]
  },
  {
   "cell_type": "code",
   "execution_count": null,
   "id": "f791e25e",
   "metadata": {},
   "outputs": [],
   "source": [
    "elementos_anidados[-1][0][1] # ¿Qué pasó aquí? Porque no puedo extraer Futbol?"
   ]
  },
  {
   "cell_type": "code",
   "execution_count": 158,
   "id": "c16ed5f6",
   "metadata": {},
   "outputs": [],
   "source": [
    "elementos_anidados = [\"Juan\",42,True, 1.83, [[\"Futbol, . . % Baloncesto\"],\"Lectura\",\"Música\",[\"Guitarra\",\"Saxofón\"]]]"
   ]
  },
  {
   "cell_type": "code",
   "execution_count": 157,
   "id": "67da52a5",
   "metadata": {
    "scrolled": true
   },
   "outputs": [
    {
     "data": {
      "text/plain": [
       "'a'"
      ]
     },
     "execution_count": 157,
     "metadata": {},
     "output_type": "execute_result"
    }
   ],
   "source": [
    "elementos_anidados[-1][-1][1][1] #¿De donde sale esta 'a'?"
   ]
  },
  {
   "cell_type": "code",
   "execution_count": 162,
   "id": "d3e1aaf2",
   "metadata": {},
   "outputs": [
    {
     "data": {
      "text/plain": [
       "'a'"
      ]
     },
     "execution_count": 162,
     "metadata": {},
     "output_type": "execute_result"
    }
   ],
   "source": [
    "elementos_anidados[-1][-1][1][1]"
   ]
  },
  {
   "cell_type": "markdown",
   "id": "b1806030",
   "metadata": {},
   "source": [
    "\n",
    "### Funciones integradas\n",
    "\n",
    "Hasta ahora hemos visto las siguientes funciones integradas: (Built-in Functions):\n",
    "\n",
    "- print()\n",
    "- type()\n",
    "- int()\n",
    "- str()\n",
    "- float()\n",
    "- bool()\n",
    "\n",
    "pero hay algunas mas; podéis consultarlas en el siguiente enlace:\n",
    "\n",
    "<https://docs.python.org/3/library/functions.html>"
   ]
  },
  {
   "cell_type": "code",
   "execution_count": 169,
   "id": "90fdc30c",
   "metadata": {},
   "outputs": [
    {
     "name": "stdout",
     "output_type": "stream",
     "text": [
      "Help on built-in function abs in module builtins:\n",
      "\n",
      "abs(x, /)\n",
      "    Return the absolute value of the argument.\n",
      "\n"
     ]
    }
   ],
   "source": [
    "help(abs)"
   ]
  },
  {
   "cell_type": "markdown",
   "id": "04cda0b7",
   "metadata": {},
   "source": [
    "por ejemplo veamos que hacen algunas de ellas:"
   ]
  },
  {
   "cell_type": "code",
   "execution_count": 170,
   "id": "f7bf4189",
   "metadata": {},
   "outputs": [
    {
     "data": {
      "text/plain": [
       "45.5"
      ]
     },
     "execution_count": 170,
     "metadata": {},
     "output_type": "execute_result"
    }
   ],
   "source": [
    "abs(-45.5) #devuelve el valor absoluto"
   ]
  },
  {
   "cell_type": "code",
   "execution_count": 175,
   "id": "0b8e9059",
   "metadata": {},
   "outputs": [
    {
     "data": {
      "text/plain": [
       "16"
      ]
     },
     "execution_count": 175,
     "metadata": {},
     "output_type": "execute_result"
    }
   ],
   "source": [
    "pow(4,2) #es una potencia, equivalente a 4 ** 2"
   ]
  },
  {
   "cell_type": "code",
   "execution_count": 176,
   "id": "d7f264bd",
   "metadata": {},
   "outputs": [
    {
     "data": {
      "text/plain": [
       "True"
      ]
     },
     "execution_count": 176,
     "metadata": {},
     "output_type": "execute_result"
    }
   ],
   "source": [
    "pow(4,2) == 4 ** 2"
   ]
  },
  {
   "cell_type": "code",
   "execution_count": 178,
   "id": "753d99fb",
   "metadata": {},
   "outputs": [
    {
     "data": {
      "text/plain": [
       "5"
      ]
     },
     "execution_count": 178,
     "metadata": {},
     "output_type": "execute_result"
    }
   ],
   "source": [
    "len(\"hola \") # len() nos da la longitud de lo que metamos entre paréntesis. En este caso, una cadena, pero podría ser una lista"
   ]
  },
  {
   "cell_type": "code",
   "execution_count": 179,
   "id": "ddcb2a56",
   "metadata": {
    "scrolled": true
   },
   "outputs": [
    {
     "name": "stdout",
     "output_type": "stream",
     "text": [
      "['Juan', 42, True, 1.83, [['Futbol, . . % Baloncesto'], 'Lectura', 'Música', ['Guitarra', 'Saxofón']]]\n",
      "Esta lista tiene  5 elementos.\n"
     ]
    }
   ],
   "source": [
    "print(elementos_anidados)\n",
    "print(\"Esta lista tiene \",len(elementos_anidados), \"elementos.\")"
   ]
  },
  {
   "cell_type": "code",
   "execution_count": 200,
   "id": "368cd932",
   "metadata": {},
   "outputs": [
    {
     "name": "stdout",
     "output_type": "stream",
     "text": [
      "Guitarra tiene 8 letras.\n"
     ]
    }
   ],
   "source": [
    "print (elementos_anidados[-1][3][0], \"tiene\" ,len(elementos_anidados[-1][3][0]), \"letras.\") # ¿De donde sale este 4?"
   ]
  },
  {
   "cell_type": "code",
   "execution_count": 202,
   "id": "e00b6ffa",
   "metadata": {},
   "outputs": [
    {
     "name": "stdout",
     "output_type": "stream",
     "text": [
      "Juan  toca 2  instrumentos, que son Guitarra Saxofón\n"
     ]
    }
   ],
   "source": [
    "print (elementos_anidados[0], \" toca\", len(elementos_anidados[-1][-1]),\n",
    "       \" instrumentos, que son\", elementos_anidados[-1][-1][0], elementos_anidados[-1][-1][1])"
   ]
  },
  {
   "cell_type": "code",
   "execution_count": 194,
   "id": "3f3ad1f4",
   "metadata": {},
   "outputs": [
    {
     "data": {
      "text/plain": [
       "7"
      ]
     },
     "execution_count": 194,
     "metadata": {},
     "output_type": "execute_result"
    }
   ],
   "source": [
    "len(\"Saxofon\")"
   ]
  },
  {
   "cell_type": "markdown",
   "id": "33e04ee6",
   "metadata": {},
   "source": [
    "La función dir() nos devuelve un objeto tipo (  ?  ) con, entre otras cosas, los métodos  disponibles para cada objeto:"
   ]
  },
  {
   "cell_type": "code",
   "execution_count": 205,
   "id": "3cf4de68",
   "metadata": {},
   "outputs": [],
   "source": [
    "lista_metodos_str = dir(\"Hola\") #que podemos hacer para que nos lo imprima en horizontal?"
   ]
  },
  {
   "cell_type": "code",
   "execution_count": 211,
   "id": "8d4ccb02",
   "metadata": {},
   "outputs": [
    {
     "name": "stdout",
     "output_type": "stream",
     "text": [
      "['capitalize', 'casefold', 'center', 'count', 'encode', 'endswith', 'expandtabs', 'find', 'format', 'format_map', 'index', 'isalnum', 'isalpha', 'isascii', 'isdecimal', 'isdigit', 'isidentifier', 'islower', 'isnumeric', 'isprintable', 'isspace', 'istitle', 'isupper', 'join', 'ljust', 'lower', 'lstrip', 'maketrans', 'partition', 'removeprefix', 'removesuffix', 'replace', 'rfind', 'rindex', 'rjust', 'rpartition', 'rsplit', 'rstrip', 'split', 'splitlines', 'startswith', 'strip', 'swapcase', 'title', 'translate', 'upper', 'zfill']\n"
     ]
    }
   ],
   "source": [
    "print(lista_metodos_str[33:])"
   ]
  },
  {
   "cell_type": "code",
   "execution_count": null,
   "id": "1c3bf609",
   "metadata": {},
   "outputs": [],
   "source": []
  },
  {
   "cell_type": "markdown",
   "id": "d217c25d",
   "metadata": {},
   "source": [
    "### Métodos\n",
    "\n",
    "\n",
    "y qué es un método? Pues un método es una serie de acciones que pueden aplicarse a un objeto. Cada tipo de objeto tiene sus propios métodos."
   ]
  },
  {
   "cell_type": "markdown",
   "id": "6e781e45",
   "metadata": {},
   "source": [
    "#### Métdos para cadena de texto\n",
    "\n",
    "Vamos a repasar algunos que ya hemos visto para objetos de cadena de texto, y añadir algunos nuevos:"
   ]
  },
  {
   "cell_type": "code",
   "execution_count": 212,
   "id": "d697c59d",
   "metadata": {},
   "outputs": [
    {
     "data": {
      "text/plain": [
       "'HOLA'"
      ]
     },
     "execution_count": 212,
     "metadata": {},
     "output_type": "execute_result"
    }
   ],
   "source": [
    "\"hola\".upper() #pasa todos los caracteres a mayúsculas"
   ]
  },
  {
   "cell_type": "code",
   "execution_count": 213,
   "id": "50cc77fe",
   "metadata": {},
   "outputs": [
    {
     "data": {
      "text/plain": [
       "'hola'"
      ]
     },
     "execution_count": 213,
     "metadata": {},
     "output_type": "execute_result"
    }
   ],
   "source": [
    "\"Hola\".lower() #pasa todos los caracteres a minúsculas"
   ]
  },
  {
   "cell_type": "code",
   "execution_count": 214,
   "id": "970a2900",
   "metadata": {},
   "outputs": [
    {
     "data": {
      "text/plain": [
       "'Hola Que Tal?'"
      ]
     },
     "execution_count": 214,
     "metadata": {},
     "output_type": "execute_result"
    }
   ],
   "source": [
    "\"Hola que tal?\".title() #pasa la primera letra de cada palabra a mayúsculas"
   ]
  },
  {
   "cell_type": "code",
   "execution_count": 215,
   "id": "e0b90ad3",
   "metadata": {},
   "outputs": [
    {
     "data": {
      "text/plain": [
       "'Hola que tal?'"
      ]
     },
     "execution_count": 215,
     "metadata": {},
     "output_type": "execute_result"
    }
   ],
   "source": [
    "\"hola que tal?\".capitalize() #pasa la primera letra de la cadena a mayúscula"
   ]
  },
  {
   "cell_type": "code",
   "execution_count": 216,
   "id": "074488de",
   "metadata": {},
   "outputs": [
    {
     "data": {
      "text/plain": [
       "2"
      ]
     },
     "execution_count": 216,
     "metadata": {},
     "output_type": "execute_result"
    }
   ],
   "source": [
    "\"hola que tal?\".count(\"a\")  #cuanta las veces que se repite la subcadena que metemos entre paréntesis"
   ]
  },
  {
   "cell_type": "code",
   "execution_count": 217,
   "id": "4c4c1769",
   "metadata": {},
   "outputs": [
    {
     "data": {
      "text/plain": [
       "3"
      ]
     },
     "execution_count": 217,
     "metadata": {},
     "output_type": "execute_result"
    }
   ],
   "source": [
    "\"Hola Lola, Cómo molas!\".count(\"la\")"
   ]
  },
  {
   "cell_type": "code",
   "execution_count": 218,
   "id": "99956d7a",
   "metadata": {},
   "outputs": [
    {
     "data": {
      "text/plain": [
       "['Hola', 'Lola,', 'Cómo', 'molas!']"
      ]
     },
     "execution_count": 218,
     "metadata": {},
     "output_type": "execute_result"
    }
   ],
   "source": [
    "\"Hola Lola, Cómo molas!\".split() #crea un objeto tipo lista con las palabras de la cadena"
   ]
  },
  {
   "cell_type": "markdown",
   "id": "7297b1e0",
   "metadata": {},
   "source": [
    "- Cómo podemos contar las palabras que tiene el siguiente texto?\n",
    "- ¿Y las letras?\n",
    "- ¿Y cuantas veces aparece la letra \"a\"?\n",
    "- ¿Y la palabra \"en\"?\n",
    "\n",
    "\n",
    "\n",
    "\"Como cada mes de septiembre, miles de españoles cambian de domicilio y de ciudad tras dejar a sus hijos en el colegio. Sin llegar a apagar el motor del coche, los padres esperan a que sus retoños entren en el recinto escolar y luego huyen despavoridos después de haber soportado tres meses de verano conviviendo con ellos. “Una cosa es estar con tus hijos durante el año, pero en vacaciones los conoces de verdad”, reconoce Nerea Moreno Guardia desde la frontera de Portugal\""
   ]
  },
  {
   "cell_type": "code",
   "execution_count": 221,
   "id": "dde9b6a0",
   "metadata": {},
   "outputs": [],
   "source": [
    "#asigno a la variable texto el propio texo\n",
    "texto = \"Como cada mes de septiembre, miles de españoles cambian de domicilio y de ciudad tras dejar a sus hijos en el colegio. Sin llegar a apagar el motor del coche, los padres esperan a que sus retoños entren en el recinto escolar y luego huyen despavoridos después de haber soportado tres meses de verano conviviendo con ellos. “Una cosa es estar con tus hijos durante el año, pero en vacaciones los conoces de verdad”, reconoce Nerea Moreno Guardia desde la frontera de Portugal\""
   ]
  },
  {
   "cell_type": "code",
   "execution_count": 225,
   "id": "52458eef",
   "metadata": {},
   "outputs": [
    {
     "data": {
      "text/plain": [
       "True"
      ]
     },
     "execution_count": 225,
     "metadata": {},
     "output_type": "execute_result"
    }
   ],
   "source": [
    "\"a\" in \"avion\""
   ]
  },
  {
   "cell_type": "code",
   "execution_count": 226,
   "id": "00a02073",
   "metadata": {},
   "outputs": [],
   "source": [
    "lista_ejemplo = [\"Hola\",\"que\",\"tal\",24]"
   ]
  },
  {
   "cell_type": "code",
   "execution_count": 230,
   "id": "c7b7f76b",
   "metadata": {},
   "outputs": [
    {
     "data": {
      "text/plain": [
       "True"
      ]
     },
     "execution_count": 230,
     "metadata": {},
     "output_type": "execute_result"
    }
   ],
   "source": [
    "24 in lista_ejemplo"
   ]
  },
  {
   "cell_type": "code",
   "execution_count": 223,
   "id": "43cf912f",
   "metadata": {},
   "outputs": [
    {
     "data": {
      "text/plain": [
       "474"
      ]
     },
     "execution_count": 223,
     "metadata": {},
     "output_type": "execute_result"
    }
   ],
   "source": [
    "len(texto)"
   ]
  },
  {
   "cell_type": "code",
   "execution_count": 231,
   "id": "1b4d5035",
   "metadata": {},
   "outputs": [],
   "source": [
    "caracteres_no_contables = [\" \",\",\",\".\"]"
   ]
  },
  {
   "cell_type": "code",
   "execution_count": 234,
   "id": "c5ec663e",
   "metadata": {},
   "outputs": [
    {
     "data": {
      "text/plain": [
       "True"
      ]
     },
     "execution_count": 234,
     "metadata": {},
     "output_type": "execute_result"
    }
   ],
   "source": [
    "\" \" in caracteres_no_contables"
   ]
  },
  {
   "cell_type": "code",
   "execution_count": 235,
   "id": "a75eb05d",
   "metadata": {},
   "outputs": [],
   "source": [
    "lista_palabras = texto.split()"
   ]
  },
  {
   "cell_type": "code",
   "execution_count": 238,
   "id": "44294394",
   "metadata": {
    "scrolled": true
   },
   "outputs": [
    {
     "name": "stdout",
     "output_type": "stream",
     "text": [
      "['Como', 'cada', 'mes', 'de', 'septiembre,', 'miles', 'de', 'españoles', 'cambian', 'de', 'domicilio', 'y', 'de', 'ciudad', 'tras', 'dejar', 'a', 'sus', 'hijos', 'en', 'el', 'colegio.', 'Sin', 'llegar', 'a', 'apagar', 'el', 'motor', 'del', 'coche,', 'los', 'padres', 'esperan', 'a', 'que', 'sus', 'retoños', 'entren', 'en', 'el', 'recinto', 'escolar', 'y', 'luego', 'huyen', 'despavoridos', 'después', 'de', 'haber', 'soportado', 'tres', 'meses', 'de', 'verano', 'conviviendo', 'con', 'ellos.', '“Una', 'cosa', 'es', 'estar', 'con', 'tus', 'hijos', 'durante', 'el', 'año,', 'pero', 'en', 'vacaciones', 'los', 'conoces', 'de', 'verdad”,', 'reconoce', 'Nerea', 'Moreno', 'Guardia', 'desde', 'la', 'frontera', 'de', 'Portugal']\n"
     ]
    }
   ],
   "source": [
    "print(lista_palabras)"
   ]
  },
  {
   "cell_type": "code",
   "execution_count": 239,
   "id": "b0494722",
   "metadata": {},
   "outputs": [
    {
     "data": {
      "text/plain": [
       "83"
      ]
     },
     "execution_count": 239,
     "metadata": {},
     "output_type": "execute_result"
    }
   ],
   "source": [
    "len(lista_palabras)"
   ]
  },
  {
   "cell_type": "code",
   "execution_count": 244,
   "id": "763243bf",
   "metadata": {},
   "outputs": [
    {
     "data": {
      "text/plain": [
       "3"
      ]
     },
     "execution_count": 244,
     "metadata": {},
     "output_type": "execute_result"
    }
   ],
   "source": [
    "lista_palabras.count(\"en\")"
   ]
  },
  {
   "cell_type": "code",
   "execution_count": 246,
   "id": "51c3e335",
   "metadata": {
    "scrolled": true
   },
   "outputs": [
    {
     "data": {
      "text/plain": [
       "3"
      ]
     },
     "execution_count": 246,
     "metadata": {},
     "output_type": "execute_result"
    }
   ],
   "source": [
    "texto.count(\" en \")"
   ]
  },
  {
   "cell_type": "code",
   "execution_count": 248,
   "id": "5e3fd6a2",
   "metadata": {},
   "outputs": [
    {
     "data": {
      "text/plain": [
       "['__abs__',\n",
       " '__add__',\n",
       " '__and__',\n",
       " '__bool__',\n",
       " '__ceil__',\n",
       " '__class__',\n",
       " '__delattr__',\n",
       " '__dir__',\n",
       " '__divmod__',\n",
       " '__doc__',\n",
       " '__eq__',\n",
       " '__float__',\n",
       " '__floor__',\n",
       " '__floordiv__',\n",
       " '__format__',\n",
       " '__ge__',\n",
       " '__getattribute__',\n",
       " '__getnewargs__',\n",
       " '__gt__',\n",
       " '__hash__',\n",
       " '__index__',\n",
       " '__init__',\n",
       " '__init_subclass__',\n",
       " '__int__',\n",
       " '__invert__',\n",
       " '__le__',\n",
       " '__lshift__',\n",
       " '__lt__',\n",
       " '__mod__',\n",
       " '__mul__',\n",
       " '__ne__',\n",
       " '__neg__',\n",
       " '__new__',\n",
       " '__or__',\n",
       " '__pos__',\n",
       " '__pow__',\n",
       " '__radd__',\n",
       " '__rand__',\n",
       " '__rdivmod__',\n",
       " '__reduce__',\n",
       " '__reduce_ex__',\n",
       " '__repr__',\n",
       " '__rfloordiv__',\n",
       " '__rlshift__',\n",
       " '__rmod__',\n",
       " '__rmul__',\n",
       " '__ror__',\n",
       " '__round__',\n",
       " '__rpow__',\n",
       " '__rrshift__',\n",
       " '__rshift__',\n",
       " '__rsub__',\n",
       " '__rtruediv__',\n",
       " '__rxor__',\n",
       " '__setattr__',\n",
       " '__sizeof__',\n",
       " '__str__',\n",
       " '__sub__',\n",
       " '__subclasshook__',\n",
       " '__truediv__',\n",
       " '__trunc__',\n",
       " '__xor__',\n",
       " 'as_integer_ratio',\n",
       " 'bit_length',\n",
       " 'conjugate',\n",
       " 'denominator',\n",
       " 'from_bytes',\n",
       " 'imag',\n",
       " 'numerator',\n",
       " 'real',\n",
       " 'to_bytes']"
      ]
     },
     "execution_count": 248,
     "metadata": {},
     "output_type": "execute_result"
    }
   ],
   "source": [
    "dir(int)"
   ]
  },
  {
   "cell_type": "markdown",
   "id": "947f96c0",
   "metadata": {},
   "source": [
    "#### Métodos de las listas"
   ]
  },
  {
   "cell_type": "code",
   "execution_count": 250,
   "id": "0313ee5d",
   "metadata": {},
   "outputs": [
    {
     "name": "stdout",
     "output_type": "stream",
     "text": [
      "['__add__', '__class__', '__class_getitem__', '__contains__', '__delattr__', '__delitem__', '__dir__', '__doc__', '__eq__', '__format__', '__ge__', '__getattribute__', '__getitem__', '__gt__', '__hash__', '__iadd__', '__imul__', '__init__', '__init_subclass__', '__iter__', '__le__', '__len__', '__lt__', '__mul__', '__ne__', '__new__', '__reduce__', '__reduce_ex__', '__repr__', '__reversed__', '__rmul__', '__setattr__', '__setitem__', '__sizeof__', '__str__', '__subclasshook__', 'append', 'clear', 'copy', 'count', 'extend', 'index', 'insert', 'pop', 'remove', 'reverse', 'sort']\n"
     ]
    }
   ],
   "source": [
    "print(dir(list))"
   ]
  },
  {
   "cell_type": "markdown",
   "id": "530d1c94",
   "metadata": {},
   "source": [
    "Quitando las internas, nos quedaríamos con:\n",
    "\n",
    "'append', 'clear', 'copy', 'count', 'extend', 'index', 'insert', 'pop', 'remove', 'reverse', 'sort']"
   ]
  },
  {
   "cell_type": "code",
   "execution_count": 2,
   "id": "6cf9d79c",
   "metadata": {},
   "outputs": [
    {
     "name": "stdout",
     "output_type": "stream",
     "text": [
      "[1, 2, 3, 4, 'Hola']\n"
     ]
    }
   ],
   "source": [
    "#append sirve para añadir elementos a las listas. Los ubica al final\n",
    "\n",
    "lista1 = [1,2,3,4]\n",
    "lista2 = [5,6,7]\n",
    "lista1.append(\"Hola\")\n",
    "print(lista1)"
   ]
  },
  {
   "cell_type": "code",
   "execution_count": 252,
   "id": "9d7c1637",
   "metadata": {},
   "outputs": [
    {
     "name": "stdout",
     "output_type": "stream",
     "text": [
      "[1, 2, 3, 4, 'Hola', [5, 6, 7]]\n"
     ]
    }
   ],
   "source": [
    "lista1.append(lista2)\n",
    "print(lista1) #¿qué pasa si ejecuto esto otra vez?"
   ]
  },
  {
   "cell_type": "code",
   "execution_count": 253,
   "id": "ee7e9a34",
   "metadata": {},
   "outputs": [
    {
     "data": {
      "text/plain": [
       "[1, 2, 3, 4, 5, 6, 7]"
      ]
     },
     "execution_count": 253,
     "metadata": {},
     "output_type": "execute_result"
    }
   ],
   "source": [
    "#extend() en cambio, añadiría lso elementos de la lista 2 a la lista 1\n",
    "lista1 = [1,2,3,4]\n",
    "lista2 = [5,6,7]\n",
    "lista1.extend(lista2)\n",
    "lista1\n"
   ]
  },
  {
   "cell_type": "code",
   "execution_count": 254,
   "id": "d4554749",
   "metadata": {},
   "outputs": [],
   "source": [
    "#insert, inserta elementos, y podemos argumentar la ubicación de la insercción\n",
    "lista1.insert(1,\"Insertado!\")\n"
   ]
  },
  {
   "cell_type": "code",
   "execution_count": 255,
   "id": "090947b2",
   "metadata": {},
   "outputs": [
    {
     "data": {
      "text/plain": [
       "[1, 'Insertado!', 2, 3, 4, 5, 6, 7]"
      ]
     },
     "execution_count": 255,
     "metadata": {},
     "output_type": "execute_result"
    }
   ],
   "source": [
    "lista1"
   ]
  },
  {
   "cell_type": "code",
   "execution_count": 256,
   "id": "6d60dc6c",
   "metadata": {},
   "outputs": [],
   "source": [
    "lista1.insert(3,[\"Insertado!\",\"lista\",34])"
   ]
  },
  {
   "cell_type": "code",
   "execution_count": 258,
   "id": "9d46bc60",
   "metadata": {},
   "outputs": [
    {
     "data": {
      "text/plain": [
       "[1, 'Insertado!', 2, ['Insertado!', 'lista', 34], 3, 4, 5, 6, 7]"
      ]
     },
     "execution_count": 258,
     "metadata": {},
     "output_type": "execute_result"
    }
   ],
   "source": [
    "lista1"
   ]
  },
  {
   "cell_type": "code",
   "execution_count": 259,
   "id": "1c59a5b1",
   "metadata": {},
   "outputs": [],
   "source": [
    "#remove nos permite escribir el valor del elemento que queremos borrar, y borrarlo. Si no existe, da error.\n",
    "lista1.remove(\"Insertado!\")"
   ]
  },
  {
   "cell_type": "code",
   "execution_count": 260,
   "id": "ba0e8540",
   "metadata": {
    "scrolled": true
   },
   "outputs": [
    {
     "data": {
      "text/plain": [
       "[1, 2, ['Insertado!', 'lista', 34], 3, 4, 5, 6, 7]"
      ]
     },
     "execution_count": 260,
     "metadata": {},
     "output_type": "execute_result"
    }
   ],
   "source": [
    "lista1"
   ]
  },
  {
   "cell_type": "code",
   "execution_count": 261,
   "id": "82452a19",
   "metadata": {},
   "outputs": [],
   "source": [
    "lista1.append(4)"
   ]
  },
  {
   "cell_type": "code",
   "execution_count": 262,
   "id": "761e3fe3",
   "metadata": {},
   "outputs": [
    {
     "data": {
      "text/plain": [
       "[1, 2, ['Insertado!', 'lista', 34], 3, 4, 5, 6, 7, 4]"
      ]
     },
     "execution_count": 262,
     "metadata": {},
     "output_type": "execute_result"
    }
   ],
   "source": [
    "lista1"
   ]
  },
  {
   "cell_type": "code",
   "execution_count": 264,
   "id": "356ce9a7",
   "metadata": {},
   "outputs": [
    {
     "data": {
      "text/plain": [
       "[1, 2, ['Insertado!', 'lista', 34], 3, 5, 6, 7]"
      ]
     },
     "execution_count": 264,
     "metadata": {},
     "output_type": "execute_result"
    }
   ],
   "source": [
    "lista1.remove(4)\n",
    "lista1"
   ]
  },
  {
   "cell_type": "code",
   "execution_count": 265,
   "id": "f5160032",
   "metadata": {},
   "outputs": [
    {
     "data": {
      "text/plain": [
       "7"
      ]
     },
     "execution_count": 265,
     "metadata": {},
     "output_type": "execute_result"
    }
   ],
   "source": [
    "#pop() elimina y devuelve el ultimo elemento de la lista\n",
    "lista1.pop()"
   ]
  },
  {
   "cell_type": "code",
   "execution_count": 266,
   "id": "8c4efc2c",
   "metadata": {},
   "outputs": [
    {
     "data": {
      "text/plain": [
       "[9, 4, 6, 2, 3]"
      ]
     },
     "execution_count": 266,
     "metadata": {},
     "output_type": "execute_result"
    }
   ],
   "source": [
    "#sort, ordena la lista\n",
    "lista3 = [9, 4, 6, 2, 3]\n",
    "lista3"
   ]
  },
  {
   "cell_type": "code",
   "execution_count": 270,
   "id": "f7094e4e",
   "metadata": {},
   "outputs": [
    {
     "name": "stdout",
     "output_type": "stream",
     "text": [
      "[2, 3, 4, 6, 9]\n"
     ]
    }
   ],
   "source": [
    "lista3.sort()\n",
    "print(lista3)"
   ]
  },
  {
   "cell_type": "code",
   "execution_count": 268,
   "id": "5c73a947",
   "metadata": {},
   "outputs": [
    {
     "data": {
      "text/plain": [
       "[2, 3, 4, 6, 9]"
      ]
     },
     "execution_count": 268,
     "metadata": {},
     "output_type": "execute_result"
    }
   ],
   "source": [
    "lista3"
   ]
  },
  {
   "cell_type": "code",
   "execution_count": 271,
   "id": "ae12cf8a",
   "metadata": {},
   "outputs": [
    {
     "data": {
      "text/plain": [
       "[9, 6, 4, 3, 2]"
      ]
     },
     "execution_count": 271,
     "metadata": {},
     "output_type": "execute_result"
    }
   ],
   "source": [
    "#reverse, aplica orden inverso\n",
    "lista3.reverse()\n",
    "lista3"
   ]
  },
  {
   "cell_type": "code",
   "execution_count": 272,
   "id": "5cc8a737",
   "metadata": {},
   "outputs": [],
   "source": [
    "#count() cuenta las veces que se repite un elemento en la lista\n",
    "lista4 = [\"Raqueta\",\"Balón\",\"Pelota\",\"Pala\",\"Raqueta\",\"Raqueta\"]"
   ]
  },
  {
   "cell_type": "code",
   "execution_count": 273,
   "id": "79c342fd",
   "metadata": {},
   "outputs": [
    {
     "data": {
      "text/plain": [
       "3"
      ]
     },
     "execution_count": 273,
     "metadata": {},
     "output_type": "execute_result"
    }
   ],
   "source": [
    "lista4.count(\"Raqueta\")"
   ]
  },
  {
   "cell_type": "code",
   "execution_count": 274,
   "id": "22cb9144",
   "metadata": {},
   "outputs": [
    {
     "data": {
      "text/plain": [
       "0"
      ]
     },
     "execution_count": 274,
     "metadata": {},
     "output_type": "execute_result"
    }
   ],
   "source": [
    "lista4.count(\"Ra\")"
   ]
  },
  {
   "cell_type": "code",
   "execution_count": 275,
   "id": "0665a05f",
   "metadata": {},
   "outputs": [
    {
     "data": {
      "text/plain": [
       "0"
      ]
     },
     "execution_count": 275,
     "metadata": {},
     "output_type": "execute_result"
    }
   ],
   "source": [
    "#index devuelve la primera posición en la que se encuentra un elemento\n",
    "lista4.index(\"Raqueta\")"
   ]
  },
  {
   "cell_type": "code",
   "execution_count": 276,
   "id": "512067e0",
   "metadata": {},
   "outputs": [
    {
     "data": {
      "text/plain": [
       "3"
      ]
     },
     "execution_count": 276,
     "metadata": {},
     "output_type": "execute_result"
    }
   ],
   "source": [
    "lista4.index(\"Pala\")"
   ]
  },
  {
   "cell_type": "code",
   "execution_count": 277,
   "id": "368e7d20",
   "metadata": {},
   "outputs": [],
   "source": [
    "#clear, vacia la lista\n",
    "lista4.clear()"
   ]
  },
  {
   "cell_type": "code",
   "execution_count": 278,
   "id": "f6aff50e",
   "metadata": {},
   "outputs": [
    {
     "data": {
      "text/plain": [
       "[]"
      ]
     },
     "execution_count": 278,
     "metadata": {},
     "output_type": "execute_result"
    }
   ],
   "source": [
    "lista4"
   ]
  },
  {
   "cell_type": "code",
   "execution_count": null,
   "id": "83c8c098",
   "metadata": {},
   "outputs": [],
   "source": [
    "#copy hace una copia de la lista, y se la lleva a otra reserva de memoria"
   ]
  },
  {
   "cell_type": "code",
   "execution_count": 279,
   "id": "26638573",
   "metadata": {},
   "outputs": [],
   "source": [
    "#Sin usar copy\n",
    "listaA = [1,2,3,4]\n",
    "listaB = listaA"
   ]
  },
  {
   "cell_type": "code",
   "execution_count": 280,
   "id": "87ea316a",
   "metadata": {},
   "outputs": [
    {
     "data": {
      "text/plain": [
       "[1, 2, 3, 4]"
      ]
     },
     "execution_count": 280,
     "metadata": {},
     "output_type": "execute_result"
    }
   ],
   "source": [
    "listaB"
   ]
  },
  {
   "cell_type": "code",
   "execution_count": 281,
   "id": "36b1eb3c",
   "metadata": {},
   "outputs": [],
   "source": [
    "listaA[1] = 7"
   ]
  },
  {
   "cell_type": "code",
   "execution_count": 283,
   "id": "ace9e79c",
   "metadata": {},
   "outputs": [
    {
     "data": {
      "text/plain": [
       "[1, 7, 3, 4]"
      ]
     },
     "execution_count": 283,
     "metadata": {},
     "output_type": "execute_result"
    }
   ],
   "source": [
    "listaB"
   ]
  },
  {
   "cell_type": "code",
   "execution_count": 284,
   "id": "8207aeed",
   "metadata": {},
   "outputs": [],
   "source": [
    "#usando copy\n",
    "listaA = [1,2,3,4]\n",
    "listaB = listaA.copy()"
   ]
  },
  {
   "cell_type": "code",
   "execution_count": 285,
   "id": "b3b524f0",
   "metadata": {},
   "outputs": [
    {
     "data": {
      "text/plain": [
       "[1, 2, 3, 4]"
      ]
     },
     "execution_count": 285,
     "metadata": {},
     "output_type": "execute_result"
    }
   ],
   "source": [
    "listaB"
   ]
  },
  {
   "cell_type": "code",
   "execution_count": 286,
   "id": "ba0dc9af",
   "metadata": {},
   "outputs": [],
   "source": [
    "listaA[1] = 7"
   ]
  },
  {
   "cell_type": "code",
   "execution_count": 287,
   "id": "1361acaa",
   "metadata": {},
   "outputs": [
    {
     "data": {
      "text/plain": [
       "[1, 2, 3, 4]"
      ]
     },
     "execution_count": 287,
     "metadata": {},
     "output_type": "execute_result"
    }
   ],
   "source": [
    "listaB"
   ]
  },
  {
   "cell_type": "code",
   "execution_count": 288,
   "id": "81a2dd63",
   "metadata": {},
   "outputs": [
    {
     "data": {
      "text/plain": [
       "[1, 7, 3, 4]"
      ]
     },
     "execution_count": 288,
     "metadata": {},
     "output_type": "execute_result"
    }
   ],
   "source": [
    "listaA"
   ]
  },
  {
   "cell_type": "code",
   "execution_count": null,
   "id": "313a3cf3",
   "metadata": {},
   "outputs": [],
   "source": []
  },
  {
   "cell_type": "markdown",
   "id": "2036c095",
   "metadata": {},
   "source": [
    "#### Otras colecciones\n",
    "\n",
    "Las listas son una de lo que llamamos 'colecciones' en Python. A continuación vamos a ver 3 colecciones mas:\n",
    "\n",
    "- Tuplas\n",
    "- Conjuntos\n",
    "- Diccionarios\n"
   ]
  },
  {
   "cell_type": "markdown",
   "id": "c965fca2",
   "metadata": {},
   "source": [
    "#### Tuplas\n",
    "\n",
    "Una tupla es algo muy oarecido a una lista, también es una colección de elementos ordenados, pero no permite ser modificada. Es decir, es inmutable. "
   ]
  },
  {
   "cell_type": "code",
   "execution_count": 294,
   "id": "3e2a699d",
   "metadata": {},
   "outputs": [],
   "source": [
    "tupla = (1,2,3,\"a\",True)"
   ]
  },
  {
   "cell_type": "code",
   "execution_count": 295,
   "id": "c3845c52",
   "metadata": {},
   "outputs": [
    {
     "data": {
      "text/plain": [
       "(1, 2, 3, 'a', True)"
      ]
     },
     "execution_count": 295,
     "metadata": {},
     "output_type": "execute_result"
    }
   ],
   "source": [
    "tupla\n"
   ]
  },
  {
   "cell_type": "code",
   "execution_count": 296,
   "id": "bb559229",
   "metadata": {},
   "outputs": [
    {
     "data": {
      "text/plain": [
       "tuple"
      ]
     },
     "execution_count": 296,
     "metadata": {},
     "output_type": "execute_result"
    }
   ],
   "source": [
    "type(tupla)"
   ]
  },
  {
   "cell_type": "code",
   "execution_count": 297,
   "id": "1c44b300",
   "metadata": {},
   "outputs": [
    {
     "data": {
      "text/plain": [
       "2"
      ]
     },
     "execution_count": 297,
     "metadata": {},
     "output_type": "execute_result"
    }
   ],
   "source": [
    "tupla[1]"
   ]
  },
  {
   "cell_type": "code",
   "execution_count": 298,
   "id": "f5a7920a",
   "metadata": {},
   "outputs": [],
   "source": [
    "lis = [1,2,3,\"a\",True]"
   ]
  },
  {
   "cell_type": "code",
   "execution_count": 299,
   "id": "7f05645e",
   "metadata": {},
   "outputs": [
    {
     "data": {
      "text/plain": [
       "2"
      ]
     },
     "execution_count": 299,
     "metadata": {},
     "output_type": "execute_result"
    }
   ],
   "source": [
    "lis[1]"
   ]
  },
  {
   "cell_type": "code",
   "execution_count": 300,
   "id": "57634ae2",
   "metadata": {},
   "outputs": [],
   "source": [
    "lis[1] = \"Jose\""
   ]
  },
  {
   "cell_type": "code",
   "execution_count": 301,
   "id": "6fbd84b7",
   "metadata": {},
   "outputs": [
    {
     "data": {
      "text/plain": [
       "[1, 'Jose', 3, 'a', True]"
      ]
     },
     "execution_count": 301,
     "metadata": {},
     "output_type": "execute_result"
    }
   ],
   "source": [
    "lis"
   ]
  },
  {
   "cell_type": "code",
   "execution_count": 302,
   "id": "68ab4720",
   "metadata": {},
   "outputs": [
    {
     "ename": "TypeError",
     "evalue": "'tuple' object does not support item assignment",
     "output_type": "error",
     "traceback": [
      "\u001b[1;31m---------------------------------------------------------------------------\u001b[0m",
      "\u001b[1;31mTypeError\u001b[0m                                 Traceback (most recent call last)",
      "\u001b[1;32m~\\AppData\\Local\\Temp/ipykernel_4108/2913847505.py\u001b[0m in \u001b[0;36m<module>\u001b[1;34m\u001b[0m\n\u001b[1;32m----> 1\u001b[1;33m \u001b[0mtupla\u001b[0m\u001b[1;33m[\u001b[0m\u001b[1;36m1\u001b[0m\u001b[1;33m]\u001b[0m \u001b[1;33m=\u001b[0m \u001b[1;34m\"Jose\"\u001b[0m\u001b[1;33m\u001b[0m\u001b[1;33m\u001b[0m\u001b[0m\n\u001b[0m",
      "\u001b[1;31mTypeError\u001b[0m: 'tuple' object does not support item assignment"
     ]
    }
   ],
   "source": [
    "tupla[1] = \"Jose\""
   ]
  },
  {
   "cell_type": "code",
   "execution_count": 303,
   "id": "6876a380",
   "metadata": {},
   "outputs": [
    {
     "data": {
      "text/plain": [
       "['__add__',\n",
       " '__class__',\n",
       " '__class_getitem__',\n",
       " '__contains__',\n",
       " '__delattr__',\n",
       " '__dir__',\n",
       " '__doc__',\n",
       " '__eq__',\n",
       " '__format__',\n",
       " '__ge__',\n",
       " '__getattribute__',\n",
       " '__getitem__',\n",
       " '__getnewargs__',\n",
       " '__gt__',\n",
       " '__hash__',\n",
       " '__init__',\n",
       " '__init_subclass__',\n",
       " '__iter__',\n",
       " '__le__',\n",
       " '__len__',\n",
       " '__lt__',\n",
       " '__mul__',\n",
       " '__ne__',\n",
       " '__new__',\n",
       " '__reduce__',\n",
       " '__reduce_ex__',\n",
       " '__repr__',\n",
       " '__rmul__',\n",
       " '__setattr__',\n",
       " '__sizeof__',\n",
       " '__str__',\n",
       " '__subclasshook__',\n",
       " 'count',\n",
       " 'index']"
      ]
     },
     "execution_count": 303,
     "metadata": {},
     "output_type": "execute_result"
    }
   ],
   "source": [
    "dir(tuple)"
   ]
  },
  {
   "cell_type": "markdown",
   "id": "e3ef35f3",
   "metadata": {},
   "source": [
    "### Conjuntos\n",
    "\n",
    "Un conjunto o set, en Python, es una colección de elementos únicos. Un set es parecido a una tupla, pero que no admite elementos repetidos, y además no mantiene el orden de sus elementos."
   ]
  },
  {
   "cell_type": "markdown",
   "id": "85b9e47a",
   "metadata": {},
   "source": [
    "- listas se crean con [ ]\n",
    "- tuplas se crean con ( )\n",
    "- conjuntos se crean con  { }\n",
    "- diccionarios tambien se crean con  { }\n"
   ]
  },
  {
   "cell_type": "code",
   "execution_count": 306,
   "id": "5321eef1",
   "metadata": {},
   "outputs": [],
   "source": [
    "conjunto = {\"Pedro\",\"María\",\"Marcos\",\"Pedro\",\"María\"}"
   ]
  },
  {
   "cell_type": "code",
   "execution_count": 308,
   "id": "f4e8d293",
   "metadata": {},
   "outputs": [
    {
     "data": {
      "text/plain": [
       "set"
      ]
     },
     "execution_count": 308,
     "metadata": {},
     "output_type": "execute_result"
    }
   ],
   "source": [
    "type(conjunto)"
   ]
  },
  {
   "cell_type": "code",
   "execution_count": null,
   "id": "504c3ca5",
   "metadata": {},
   "outputs": [],
   "source": []
  },
  {
   "cell_type": "markdown",
   "id": "44f27887",
   "metadata": {},
   "source": [
    "##### Propiedades de los sets (optativo) \n",
    "Los sets son objetos muy particulares, que tienen toda una teoría matemática detrás basada en conjuntos. Sus usos son extensos y permiten operaciones como intersecciones, uniones y extracción de elementos únicos.\n",
    "\n",
    "Algunos de los métodos asociados que pueden resultar de utilidad son:"
   ]
  },
  {
   "cell_type": "code",
   "execution_count": 22,
   "id": "00509b0b",
   "metadata": {},
   "outputs": [
    {
     "data": {
      "text/plain": [
       "['__and__',\n",
       " '__class__',\n",
       " '__class_getitem__',\n",
       " '__contains__',\n",
       " '__delattr__',\n",
       " '__dir__',\n",
       " '__doc__',\n",
       " '__eq__',\n",
       " '__format__',\n",
       " '__ge__',\n",
       " '__getattribute__',\n",
       " '__gt__',\n",
       " '__hash__',\n",
       " '__iand__',\n",
       " '__init__',\n",
       " '__init_subclass__',\n",
       " '__ior__',\n",
       " '__isub__',\n",
       " '__iter__',\n",
       " '__ixor__',\n",
       " '__le__',\n",
       " '__len__',\n",
       " '__lt__',\n",
       " '__ne__',\n",
       " '__new__',\n",
       " '__or__',\n",
       " '__rand__',\n",
       " '__reduce__',\n",
       " '__reduce_ex__',\n",
       " '__repr__',\n",
       " '__ror__',\n",
       " '__rsub__',\n",
       " '__rxor__',\n",
       " '__setattr__',\n",
       " '__sizeof__',\n",
       " '__str__',\n",
       " '__sub__',\n",
       " '__subclasshook__',\n",
       " '__xor__',\n",
       " 'add',\n",
       " 'clear',\n",
       " 'copy',\n",
       " 'difference',\n",
       " 'difference_update',\n",
       " 'discard',\n",
       " 'intersection',\n",
       " 'intersection_update',\n",
       " 'isdisjoint',\n",
       " 'issubset',\n",
       " 'issuperset',\n",
       " 'pop',\n",
       " 'remove',\n",
       " 'symmetric_difference',\n",
       " 'symmetric_difference_update',\n",
       " 'union',\n",
       " 'update']"
      ]
     },
     "execution_count": 22,
     "metadata": {},
     "output_type": "execute_result"
    }
   ],
   "source": [
    "dir(set)"
   ]
  },
  {
   "attachments": {
    "image.png": {
     "image/png": "[encoded data removed]"
    }
   },
   "cell_type": "markdown",
   "id": "90451dec",
   "metadata": {},
   "source": [
    " 'add',\n",
    " 'clear',\n",
    " 'copy',\n",
    " 'difference',\n",
    " 'difference_update',\n",
    " 'discard',\n",
    " 'intersection',\n",
    " 'intersection_update',\n",
    " 'isdisjoint',\n",
    " 'issubset',\n",
    " 'issuperset',\n",
    " 'pop',\n",
    " 'remove',\n",
    " 'symmetric_difference',\n",
    " 'symmetric_difference_update',\n",
    " 'union',\n",
    " 'update'\n",
    " \n",
    " ![image.png](attachment:image.png)"
   ]
  },
  {
   "cell_type": "code",
   "execution_count": 309,
   "id": "50b7b503",
   "metadata": {},
   "outputs": [],
   "source": [
    "juegan_futbol = {\"Pedro\",\"Juan\",\"Isabel\",\"Antonio\"}\n",
    "juegan_basket = {\"Pedro\",\"Elena\",\"Pilar\",\"Eusebio\",\"Antonio\"}"
   ]
  },
  {
   "cell_type": "code",
   "execution_count": 321,
   "id": "3459e817",
   "metadata": {},
   "outputs": [],
   "source": [
    "set1 = {\"A\",\"B\",\"C\",\"D\"}\n",
    "set2 = {\"B\",\"E\",\"F\"}"
   ]
  },
  {
   "cell_type": "code",
   "execution_count": 320,
   "id": "7a698bd5",
   "metadata": {},
   "outputs": [
    {
     "data": {
      "text/plain": [
       "{'B', 'D', 'G', 'H'}"
      ]
     },
     "execution_count": 320,
     "metadata": {},
     "output_type": "execute_result"
    }
   ],
   "source": [
    "set1"
   ]
  },
  {
   "cell_type": "code",
   "execution_count": 313,
   "id": "f49f9e86",
   "metadata": {},
   "outputs": [
    {
     "data": {
      "text/plain": [
       "'C'"
      ]
     },
     "execution_count": 313,
     "metadata": {},
     "output_type": "execute_result"
    }
   ],
   "source": [
    "set1.pop()"
   ]
  },
  {
   "cell_type": "code",
   "execution_count": 319,
   "id": "b93256c0",
   "metadata": {},
   "outputs": [],
   "source": [
    "set1.add(\"H\")"
   ]
  },
  {
   "cell_type": "code",
   "execution_count": 322,
   "id": "acfeaa04",
   "metadata": {},
   "outputs": [
    {
     "data": {
      "text/plain": [
       "{'B'}"
      ]
     },
     "execution_count": 322,
     "metadata": {},
     "output_type": "execute_result"
    }
   ],
   "source": [
    "set1.intersection(set2)"
   ]
  },
  {
   "cell_type": "code",
   "execution_count": 323,
   "id": "8da15965",
   "metadata": {},
   "outputs": [
    {
     "data": {
      "text/plain": [
       "{'A', 'C', 'D'}"
      ]
     },
     "execution_count": 323,
     "metadata": {},
     "output_type": "execute_result"
    }
   ],
   "source": [
    "set1.difference(set2)"
   ]
  },
  {
   "cell_type": "code",
   "execution_count": 324,
   "id": "fa2ef884",
   "metadata": {},
   "outputs": [
    {
     "data": {
      "text/plain": [
       "{'E', 'F'}"
      ]
     },
     "execution_count": 324,
     "metadata": {},
     "output_type": "execute_result"
    }
   ],
   "source": [
    "set2.difference(set1)"
   ]
  },
  {
   "cell_type": "markdown",
   "id": "b70330ad",
   "metadata": {},
   "source": [
    "### Diccionarios\n",
    "\n",
    "Los diccionarios son un formato de datos un poco más complejo, en el que lo que guardamos son parejas desordenadas de claves y valores, con lo que podemos referenciar específicamente a qué se refiere cada dato. Los tweets, por ejemplo, funcionan de una manera muy parecida a un diccionario"
   ]
  },
  {
   "cell_type": "code",
   "execution_count": 30,
   "id": "1b916ac9",
   "metadata": {},
   "outputs": [],
   "source": [
    "persona1 = {\"nombre\": \"Joan\", \"edad\": 27, \"localidad\": \"Barberà\", \"activo\" : True, \"lenguajes\": [\"Python\",\"R\",\"SQL\"]}"
   ]
  },
  {
   "cell_type": "code",
   "execution_count": 31,
   "id": "af6c1029",
   "metadata": {},
   "outputs": [
    {
     "data": {
      "text/plain": [
       "'Joan'"
      ]
     },
     "execution_count": 31,
     "metadata": {},
     "output_type": "execute_result"
    }
   ],
   "source": [
    "persona1[\"nombre\"]"
   ]
  },
  {
   "cell_type": "code",
   "execution_count": 32,
   "id": "3a610ce8",
   "metadata": {},
   "outputs": [
    {
     "data": {
      "text/plain": [
       "['Python', 'R', 'SQL']"
      ]
     },
     "execution_count": 32,
     "metadata": {},
     "output_type": "execute_result"
    }
   ],
   "source": [
    "persona1[\"lenguajes\"]"
   ]
  },
  {
   "cell_type": "code",
   "execution_count": 33,
   "id": "8c993498",
   "metadata": {},
   "outputs": [
    {
     "data": {
      "text/plain": [
       "'SQ'"
      ]
     },
     "execution_count": 33,
     "metadata": {},
     "output_type": "execute_result"
    }
   ],
   "source": [
    "persona1[\"lenguajes\"][2][:2] #¿De donde sales esta SQ?"
   ]
  },
  {
   "cell_type": "code",
   "execution_count": null,
   "id": "53cbd579",
   "metadata": {},
   "outputs": [],
   "source": []
  },
  {
   "cell_type": "code",
   "execution_count": null,
   "id": "e2c28ab9",
   "metadata": {},
   "outputs": [],
   "source": []
  },
  {
   "cell_type": "code",
   "execution_count": null,
   "id": "0684cd1c",
   "metadata": {},
   "outputs": [],
   "source": []
  },
  {
   "cell_type": "markdown",
   "id": "1cd995b6",
   "metadata": {},
   "source": [
    "Un buen uso de los diccionarios puede ser el almacenamiento de fichas de empleados por ejemplo... Aunque parece que entrarlo manualmente puede ser una tortura, veremos maneras para automatizar la creación de objetos de este tipo a partir de Excel, archivos de texto y otras fuentes."
   ]
  },
  {
   "cell_type": "markdown",
   "id": "19054be3",
   "metadata": {},
   "source": [
    "### Vamos a ver los métodos:"
   ]
  },
  {
   "cell_type": "code",
   "execution_count": 34,
   "id": "6ab4765d",
   "metadata": {},
   "outputs": [
    {
     "data": {
      "text/plain": [
       "['__class__',\n",
       " '__class_getitem__',\n",
       " '__contains__',\n",
       " '__delattr__',\n",
       " '__delitem__',\n",
       " '__dir__',\n",
       " '__doc__',\n",
       " '__eq__',\n",
       " '__format__',\n",
       " '__ge__',\n",
       " '__getattribute__',\n",
       " '__getitem__',\n",
       " '__gt__',\n",
       " '__hash__',\n",
       " '__init__',\n",
       " '__init_subclass__',\n",
       " '__ior__',\n",
       " '__iter__',\n",
       " '__le__',\n",
       " '__len__',\n",
       " '__lt__',\n",
       " '__ne__',\n",
       " '__new__',\n",
       " '__or__',\n",
       " '__reduce__',\n",
       " '__reduce_ex__',\n",
       " '__repr__',\n",
       " '__reversed__',\n",
       " '__ror__',\n",
       " '__setattr__',\n",
       " '__setitem__',\n",
       " '__sizeof__',\n",
       " '__str__',\n",
       " '__subclasshook__',\n",
       " 'clear',\n",
       " 'copy',\n",
       " 'fromkeys',\n",
       " 'get',\n",
       " 'items',\n",
       " 'keys',\n",
       " 'pop',\n",
       " 'popitem',\n",
       " 'setdefault',\n",
       " 'update',\n",
       " 'values']"
      ]
     },
     "execution_count": 34,
     "metadata": {},
     "output_type": "execute_result"
    }
   ],
   "source": [
    "dir(dict)"
   ]
  },
  {
   "cell_type": "markdown",
   "id": "c67f077f",
   "metadata": {},
   "source": [
    "¿Podemos hacer una lista solo con los métodos u objetos que no empiecen por guión bajo?\n",
    "\n",
    "...pues de momento no, porque no hemos visto condicionales ni estructuras de control. Pero si podemos elegir un rango de la lista. Hagámoslos!"
   ]
  },
  {
   "cell_type": "markdown",
   "id": "624a8de8",
   "metadata": {},
   "source": [
    "Vamos a revisar los siguientes métodos:\n",
    "\n",
    "- get\n",
    "- keys\n",
    "- values\n",
    "- items\n",
    "- pop\n",
    "- clear\n",
    "\n",
    "podéis experimetnar con los otros métodos."
   ]
  },
  {
   "cell_type": "markdown",
   "id": "de8d6d39",
   "metadata": {},
   "source": [
    "# Input y Output\n",
    "\n",
    "Vamos a ver una versión muy sencilla de interacción con el usuario"
   ]
  },
  {
   "cell_type": "code",
   "execution_count": 35,
   "id": "8377d868",
   "metadata": {},
   "outputs": [
    {
     "name": "stdout",
     "output_type": "stream",
     "text": [
      "Introduce un número2\n"
     ]
    }
   ],
   "source": [
    "numero = input(\"Introduce un número\")"
   ]
  },
  {
   "cell_type": "code",
   "execution_count": 36,
   "id": "e9c5420d",
   "metadata": {},
   "outputs": [
    {
     "data": {
      "text/plain": [
       "'2'"
      ]
     },
     "execution_count": 36,
     "metadata": {},
     "output_type": "execute_result"
    }
   ],
   "source": [
    "numero"
   ]
  },
  {
   "cell_type": "code",
   "execution_count": null,
   "id": "9bbe9f4d",
   "metadata": {},
   "outputs": [],
   "source": []
  },
  {
   "cell_type": "code",
   "execution_count": 37,
   "id": "a2042966",
   "metadata": {
    "scrolled": true
   },
   "outputs": [
    {
     "data": {
      "text/plain": [
       "5"
      ]
     },
     "execution_count": 37,
     "metadata": {},
     "output_type": "execute_result"
    }
   ],
   "source": [
    "2 + 3"
   ]
  },
  {
   "cell_type": "code",
   "execution_count": 38,
   "id": "f115958e",
   "metadata": {
    "scrolled": false
   },
   "outputs": [
    {
     "data": {
      "text/plain": [
       "8"
      ]
     },
     "execution_count": 38,
     "metadata": {},
     "output_type": "execute_result"
    }
   ],
   "source": [
    "5 + 3 #suma"
   ]
  },
  {
   "cell_type": "code",
   "execution_count": 39,
   "id": "34a19606",
   "metadata": {
    "scrolled": true
   },
   "outputs": [
    {
     "data": {
      "text/plain": [
       "2"
      ]
     },
     "execution_count": 39,
     "metadata": {},
     "output_type": "execute_result"
    }
   ],
   "source": [
    "5 - 3 #resta"
   ]
  },
  {
   "cell_type": "code",
   "execution_count": 40,
   "id": "3a8ac8d0",
   "metadata": {},
   "outputs": [
    {
     "data": {
      "text/plain": [
       "15"
      ]
     },
     "execution_count": 40,
     "metadata": {},
     "output_type": "execute_result"
    }
   ],
   "source": [
    "5 * 3 #multiplicación"
   ]
  }
 ],
 "metadata": {
  "kernelspec": {
   "display_name": "Python 3 (ipykernel)",
   "language": "python",
   "name": "python3"
  },
  "language_info": {
   "codemirror_mode": {
    "name": "ipython",
    "version": 3
   },
   "file_extension": ".py",
   "mimetype": "text/x-python",
   "name": "python",
   "nbconvert_exporter": "python",
   "pygments_lexer": "ipython3",
   "version": "3.9.13"
  }
 },
 "nbformat": 4,
 "nbformat_minor": 5
}
