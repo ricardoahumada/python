{
 "cells": [
  {
   "cell_type": "markdown",
   "metadata": {},
   "source": [
    "\n",
    "<div style=\"float: right; width: 50%;\">\n",
    "    <p style=\"margin: 0; padding-top: 22px; text-align:right;\">Analítica con Python para Naturgy</p>\n",
    "    <p style=\"margin: 0; text-align:right;\">Comenzando con Python</p>\n",
    "    \n",
    "</div>\n",
    "\n",
    "</div>\n",
    "<div style=\"width: 100%; clear: both;\">\n",
    "<div style=\"width:100%;\">&nbsp;</div>"
   ]
  },
  {
   "cell_type": "markdown",
   "metadata": {},
   "source": [
    "### Ejercicio 1\n",
    "\n",
    "Define las siguientes variables:\n",
    "\n",
    "a) Una variable numérica `a` con valor 4.\n",
    "\n",
    "b) Una cadena de caracteres con el siguiente texto: La paciencia es la madre de la ciencia. \n",
    "\n",
    "c) Una lista con los meses del año (de Enero a Diciembre). \n",
    "\n",
    "d) Un diccionario de 4 elementos que relaciona el nombre de un alimento (e.g. Manzana) con su respectivo precio (e.g. 2). \n",
    "\n"
   ]
  },
  {
   "cell_type": "code",
   "execution_count": 4,
   "metadata": {},
   "outputs": [],
   "source": [
    "# Respuesta\n",
    "# a) Una variable numérica a con valor 4.\n",
    "a = 4\n",
    "\n",
    "# b) \"Una cadena de caracteres con el siguiente texto: \"La paciencia es la madre de la ciencia.\"\n",
    "frase = \"La paciencia es la madre de la ciencia\"\n",
    "\n",
    "# c) Una lista con los meses del año (de Enero a Diciembre).\n",
    "meses = [\"Enero\",\"Febrero\",\"Marzo\",\"Abril\",\"Mayo\",\"Junio\",\n",
    "\"Julio\",\"Agosto\",\"Septiembre\",\"Octubre\",\"Noviembre\",\"Diciembre\"]\n",
    "\n",
    "# d) Un diccionario de 4 elementos que relaciona el nombre de un alimento (e.g.Manzana)\n",
    "# con su respectivo precio (e.g. 2).\n",
    "alimentos = {'Manzana': 2,\n",
    "'Pera': 2.5,\n",
    "'Cerezas': 5,\n",
    "'Kiwi': 3}\n",
    "\n"
   ]
  },
  {
   "cell_type": "markdown",
   "metadata": {},
   "source": [
    "### Ejercicio 2\n",
    "\n",
    "Crea 3 variables a, b y c con los valores 2, 3.5 y 10, respectivamente. Haz las siguientes operaciones y muestra el resultado:\n",
    "\n",
    "a) Suma de a y b. \n",
    "\n",
    "b) Resta de b menos c. \n",
    "\n",
    "c) Multiplicación de a por c. \n",
    "\n",
    "b) División de b entre a. Qué operador de división debemos utilizar para obtener una división entera? Y una división real? Razona la respuesta. \n",
    "\n",
    "\n"
   ]
  },
  {
   "cell_type": "code",
   "execution_count": null,
   "metadata": {},
   "outputs": [],
   "source": [
    "# Respuesta \n",
    "\n",
    "# Creamos las variables\n",
    "a = 2\n",
    "b = 3.5\n",
    "c = 10\n",
    "\n",
    "print(\"El valor de a es: \", a)\n",
    "print(\"El valor de b es: \", b)\n",
    "print(\"El valor de c es: \", c)\n",
    "\n",
    "# a) Suma de a y b\n",
    "d = a + b \n",
    "\n",
    "print(\"El valor de la suma de a y b es: \", d)\n",
    "\n",
    "# b) Resta de b menos c  \n",
    "e = b - c \n",
    "\n",
    "print(\"El valor de la resta de b menos c es: \", e)\n",
    "\n",
    "# c) Multiplicación de a por c  \n",
    "f = a * c \n",
    "\n",
    "print(\"El valor de la multiplicación de a por c es: \", f)\n",
    "\n",
    "# d) División de b entre a\n",
    "# División real\n",
    "g = b / a\n",
    "\n",
    "print(\"El valor de la división real de b entre a es: \", g)\n",
    "\n",
    "# División entera\n",
    "h = b // a\n",
    "\n",
    "print(\"El valor de la división entera de b entre a es: \", h)"
   ]
  },
  {
   "cell_type": "markdown",
   "metadata": {},
   "source": [
    "Respuesta\n",
    "\n",
    "En el apartado d), para hacer una división real utilizando Python 3 se tiene que utilizar el operador /. Este operador realiza la división real entre dos números enteros. Por lo tanto, obtenemos como resultado un número decimal, 1.75.\n",
    "\n",
    "En cambio, el operador // se utiliza para expresar la división entera. Por tanto, el resultado de la operación es un entero, en este caso 1."
   ]
  },
  {
   "cell_type": "markdown",
   "metadata": {},
   "source": [
    "### Ejercicio 3\n",
    "\n",
    "Escoge un número entero y guárdalo con el nombre de \"var\". Sigue la secuencia de instrucciones usando Python!\n",
    "\n",
    "- Multiplícalo por 3\n",
    "- Súmale 6\n",
    "- Divídelo por 3\n",
    "- Réstale el número original\n",
    "- Muestra el resultado final\n",
    "\n",
    "El resultado final debe ser 2! Pero este ejercicio tiene algunos detalles importantes, como por ejemplo como realizar las operaciones sin borrar el número original."
   ]
  },
  {
   "cell_type": "code",
   "execution_count": 27,
   "metadata": {},
   "outputs": [
    {
     "data": {
      "text/plain": [
       "2.0"
      ]
     },
     "execution_count": 27,
     "metadata": {},
     "output_type": "execute_result"
    }
   ],
   "source": [
    "var = 3\n",
    "\n",
    "((var * 3) + 6) / 3 - var"
   ]
  },
  {
   "cell_type": "code",
   "execution_count": 28,
   "metadata": {},
   "outputs": [
    {
     "data": {
      "text/plain": [
       "2.0"
      ]
     },
     "execution_count": 28,
     "metadata": {},
     "output_type": "execute_result"
    }
   ],
   "source": [
    "var = 3\n",
    "\n",
    "aux = var * 3\n",
    "aux = aux + 6\n",
    "aux = aux / 3\n",
    "aux - var"
   ]
  },
  {
   "cell_type": "markdown",
   "metadata": {},
   "source": [
    "### Ejercicio 4\n",
    "\n",
    "En este ejercicio utilizaremos la frase del ejercicio 1: La paciencia es la madre de la ciencia.\n",
    "\n",
    "a) Extrae las palabras paciencia y ciencia de la cadena de strings definida anteriormente. \n",
    "\n",
    "b) Crea la palabra ciencia a partir de paciencia, y la palabra paciencia a partir de ciencia. \n",
    "\n",
    "c) Separa la frase en las diferentes palabras que la forman (e.g. \"La\", \"paciencia,\" es \", etc). ¿Cuál es el separador que debemos usar?\n",
    "\n",
    "d) Vuelve a unir los elementos de la frase mediante \"-\" (e.g. \"La-paciencia-es ...\"). \n",
    "\n"
   ]
  },
  {
   "cell_type": "code",
   "execution_count": 2,
   "metadata": {},
   "outputs": [
    {
     "name": "stdout",
     "output_type": "stream",
     "text": [
      "La primera palabra es: paciencia \n",
      "La segunda palabra es: ciencia\n"
     ]
    }
   ],
   "source": [
    "   # Respuesta \n",
    "\n",
    "# Creamos la frase del enunciado\n",
    "frase = \"La paciencia es la madre de la ciencia\"\n",
    "\n",
    "# a) \n",
    "\n",
    "# Seleccionamos los elementos necesarios para obtener las palabras paciencia y ciencia\n",
    "palabra1 = frase[3:13]\n",
    "palabra2 = frase[-7:]\n",
    "\n",
    "# Mostramos el resultado por pantalla\n",
    "print(\"La primera palabra es:\",palabra1)\n",
    "print(\"La segunda palabra es:\",palabra2)\n"
   ]
  },
  {
   "cell_type": "code",
   "execution_count": 3,
   "metadata": {},
   "outputs": [
    {
     "name": "stdout",
     "output_type": "stream",
     "text": [
      "La tercera palabra es: ciencia \n",
      "La quarta palabra es: paciencia\n"
     ]
    }
   ],
   "source": [
    "# b) \n",
    "\n",
    "# Creamos la palabra ciencia a partir de paciencia\n",
    "palabra3 = palabra1[2:]\n",
    "\n",
    "# Creamos la palabra ciencia a partir de paciencia\n",
    "palabra4 = 'pa'+ palabra2\n",
    "\n",
    "# Mostramos el resultado por pantalla\n",
    "print(\"La tercera palabra es:\",palabra3)\n",
    "print(\"La quarta palabra es:\",palabra4)"
   ]
  },
  {
   "cell_type": "code",
   "execution_count": 4,
   "metadata": {},
   "outputs": [
    {
     "name": "stdout",
     "output_type": "stream",
     "text": [
      "La frase separada por sus elementos es: ['La', 'paciencia', 'es', 'la', 'madre', 'de', 'la', 'ciencia']\n"
     ]
    }
   ],
   "source": [
    "# c)\n",
    "\n",
    "# Separamos las palabras utilizando el separador \" \"\n",
    "frase_mod = frase.split(' ')\n",
    "\n",
    "# Mostramos el resultado por pantalla\n",
    "print(\"La frase separada por sus elementos es:\",frase_mod)"
   ]
  },
  {
   "cell_type": "code",
   "execution_count": 5,
   "metadata": {},
   "outputs": [
    {
     "name": "stdout",
     "output_type": "stream",
     "text": [
      "La frase con el nuevo separador es: La-paciencia-es-la-madre-de-la-ciencia\n"
     ]
    }
   ],
   "source": [
    "# d) \n",
    "\n",
    "# Especificamos el separador\n",
    "s = \"-\"\n",
    "\n",
    "# Utilizamos la función join para unir los elementos de la lista\n",
    "frase_joined = s.join(frase_mod)\n",
    "\n",
    "# Mostramos el resultado por pantalla\n",
    "print(\"La frase con el nuevo separador es:\",frase_joined)"
   ]
  },
  {
   "cell_type": "code",
   "execution_count": 14,
   "metadata": {},
   "outputs": [
    {
     "name": "stdout",
     "output_type": "stream",
     "text": [
      "Help on built-in function join:\n",
      "\n",
      "join(iterable, /) method of builtins.str instance\n",
      "    Concatenate any number of strings.\n",
      "    \n",
      "    The string whose method is called is inserted in between each given string.\n",
      "    The result is returned as a new string.\n",
      "    \n",
      "    Example: '.'.join(['ab', 'pq', 'rs']) -> 'ab.pq.rs'\n",
      "\n"
     ]
    }
   ],
   "source": [
    "help(s.join)"
   ]
  },
  {
   "cell_type": "markdown",
   "metadata": {},
   "source": [
    "### Ejercicio5 \n",
    "Crea una variable de cada uno de los tipos principales, y prueba hacer operaciones sencillas entre ellas."
   ]
  },
  {
   "cell_type": "code",
   "execution_count": null,
   "metadata": {},
   "outputs": [],
   "source": []
  },
  {
   "cell_type": "markdown",
   "metadata": {},
   "source": [
    "### Ejercicio 6\n",
    "\n",
    "Utilizando la lista de meses creada en el ejercicio 1:\n",
    "\n",
    "a) Selecciona de la lista los meses impares y muéstralos por pantalla. \n",
    "\n",
    "b) Muestra la lista de meses invertida (ordenada de Diciembre a Enero). \n",
    "c) Crea las listas `primavera`,`verano`, `otoño`,` invierno`, que incluyan los meses correspondientes (e.g. primavera incluye los meses marzo, abril y mayo), a partir de los elementos de la lista de meses. \n",
    "\n",
    "d) Crea un código que, dado un elemento `mes` (e.g. Enero) de la lista, muestre la frase siguiente: \n",
    "\n",
    "\"El mes del año que más me gusta es el Enero\". \n",
    "\n",
    "**Nota**: En el apartado d, según el elemento de la lista seleccionado, la frase tiene que cambiar. \n",
    "\n",
    "\n"
   ]
  },
  {
   "cell_type": "code",
   "execution_count": 7,
   "metadata": {},
   "outputs": [
    {
     "name": "stdout",
     "output_type": "stream",
     "text": [
      "Los primeros 6 meses son: ['Enero', 'Marzo', 'Mayo', 'Julio', 'Septiembre', 'Noviembre']\n"
     ]
    }
   ],
   "source": [
    "# Respuesta \n",
    "\n",
    "# Volvemos a crear la lista de meses (si no la teníamos)\n",
    "meses = [\"Enero\",\"Febrero\",\"Marzo\",\"Abril\",\"Mayo\",\"Junio\",\n",
    "         \"Julio\",\"Agosto\",\"Septiembre\",\"Octubre\",\"Noviembre\",\"Diciembre\"]\n",
    "\n",
    "\n",
    "# a) Selecciona de la lista los meses impares y muéstralos por pantalla.\n",
    "\n",
    "# Seleccionamos los meses impares\n",
    "# Recuerde, python comienza con el índice 0!\n",
    "print(\"Los primeros 6 meses son:\", meses[0:11:2])\n",
    "        "
   ]
  },
  {
   "cell_type": "code",
   "execution_count": 14,
   "metadata": {},
   "outputs": [
    {
     "data": {
      "text/plain": [
       "['Diciembre',\n",
       " 'Noviembre',\n",
       " 'Octubre',\n",
       " 'Septiembre',\n",
       " 'Agosto',\n",
       " 'Julio',\n",
       " 'Junio',\n",
       " 'Mayo',\n",
       " 'Abril',\n",
       " 'Marzo',\n",
       " 'Febrero',\n",
       " 'Enero']"
      ]
     },
     "execution_count": 14,
     "metadata": {},
     "output_type": "execute_result"
    }
   ],
   "source": [
    "# Respuesta \n",
    "\n",
    "# b) Muestra la lista de meses invertida (ordenada de Diciembre a Enero).\n",
    "\n",
    "# Mostramos la lista de meses al revés\n",
    "meses.reverse()\n",
    "# print(\"La lista de meses invertida es la siguiente: \", meses)\n",
    "meses"
   ]
  },
  {
   "cell_type": "code",
   "execution_count": 23,
   "metadata": {},
   "outputs": [
    {
     "name": "stdout",
     "output_type": "stream",
     "text": [
      "La lista de meses invertida es la siguiente:  ['Diciembre', 'Noviembre', 'Octubre', 'Septiembre', 'Agosto', 'Julio', 'Junio', 'Mayo', 'Abril', 'Marzo', 'Febrero', 'Enero']\n"
     ]
    }
   ],
   "source": [
    "# Respuesta 2\n",
    "\n",
    "# b) Muestra la lista de meses invertida (ordenada de Diciembre a Enero).\n",
    "\n",
    "# esto se puede hacer de otra manera\n",
    "meses = [\"Enero\",\"Febrero\",\"Marzo\",\"Abril\",\"Mayo\",\"Junio\",\n",
    "         \"Julio\",\"Agosto\",\"Septiembre\",\"Octubre\",\"Noviembre\",\"Diciembre\"]\n",
    "# Mostramos la lista de meses al revés\n",
    "print(\"La lista de meses invertida es la siguiente: \", meses[::-1])"
   ]
  },
  {
   "cell_type": "markdown",
   "metadata": {},
   "source": [
    "Lo de [::-1] es un \"truco\" frecuentemente usado en python para obtener una lista o una cadena \"del revés\". Se basa en el operador slice (rodaja) cuya sintaxis general es:\n",
    "\n",
    "\n",
    "iterable[inicio:fin:paso]\n",
    "\n",
    "que permite extraer una serie de elementos del iterable, comenzando por el numerado como inicio y terminando por el numerado como fin-1, aumentando de paso en paso.\n",
    "\n",
    "Si omites inicio se empezará en el primer elemento del iterable, si omites fin se terminará en el último elemento del iterable.\n",
    "\n",
    "Si el paso es negativo, el iterable se recorre \"hacia atrás\", y en ese caso los valores por defecto cuando se omite inicio y fin se invierten.\n",
    "\n",
    "Así pues iterable[::-1] devuelve los elementos del iterable, comenzando por el último y terminando por el primero, en orden inverso a como estaban.\n",
    "\n"
   ]
  },
  {
   "cell_type": "code",
   "execution_count": 24,
   "metadata": {},
   "outputs": [
    {
     "name": "stdout",
     "output_type": "stream",
     "text": [
      "Primavera:  ['Marzo', 'Abril', 'Mayo']\n",
      "Verano:  ['Junio', 'Julio', 'Agosto']\n",
      "Otoño:  ['Septiembre', 'Octubre', 'Noviembre']\n",
      "Invierno:  ['Diciembre', 'Enero', 'Febrero']\n"
     ]
    }
   ],
   "source": [
    "# Respuesta \n",
    "\n",
    "# c) Crea las listas primavera, verano, otoño, invierno.\n",
    "\n",
    "# Creamos las listas primavera, verano y otoño especificando los índices\n",
    "\n",
    "primavera = meses[2:5]\n",
    "verano = meses[5:8]\n",
    "otoño = meses[8:11]\n",
    "\n",
    "# En el caso del invierno, como los elementos no son consecutivos, primero creamos una lista \n",
    "# que contiene el mes de Diciembre y, continuación, añadimos los meses de Enero y Febrero\n",
    "invierno = [meses[11]]\n",
    "invierno.extend(meses[0:2])\n",
    "\n",
    "#invierno += meses[0:2] truco!!! Así también puedes añadir los elementos a la lista,como con extend\n",
    "\n",
    "# Mostramos los resultados por pantalla\n",
    "print(\"Primavera: \", primavera)\n",
    "print(\"Verano: \", verano)\n",
    "print(\"Otoño: \", otoño)\n",
    "print(\"Invierno: \", invierno)"
   ]
  },
  {
   "cell_type": "code",
   "execution_count": 26,
   "metadata": {},
   "outputs": [
    {
     "name": "stdout",
     "output_type": "stream",
     "text": [
      "El mes del año que más me gusta es Junio\n"
     ]
    }
   ],
   "source": [
    "# Respuesta \n",
    "\n",
    "# d) \n",
    "\n",
    "# Seleccionamos el 6º mes, Junio\n",
    "mes = meses[5]\n",
    "\n",
    "\n",
    "print(\"El mes del año que más me gusta es\", mes)"
   ]
  },
  {
   "cell_type": "markdown",
   "metadata": {},
   "source": [
    "### Ejercicio 7\n",
    "\n",
    "\n",
    "Dado el código que se muestra en la celda siguiente: \n",
    "\n",
    "a) Explícalo y añade comentarios para entender mejor cada paso. \n",
    "\n",
    "b) Qué resultado obtenemos si cambiamos el elemento `mes` por \"Abril\"? Y si ponemos \"abril\"? Razona la respuesta. \n",
    "\n",
    "**Nota**: Para resolver este ejercicio podéis buscar información en [Stackoverflow](https://stackoverflow.com/questions/10406130/check-if-something-is-not-in-a-list-in-python/10406143).\n",
    "\n",
    "\n"
   ]
  },
  {
   "cell_type": "code",
   "execution_count": 1,
   "metadata": {},
   "outputs": [
    {
     "name": "stdout",
     "output_type": "stream",
     "text": [
      "El mes de Enero es primavera? : False\n"
     ]
    }
   ],
   "source": [
    "mes = 'Enero'\n",
    "primavera = ['Marzo', 'Abril', 'Mayo']\n",
    "solucion = mes in primavera\n",
    "print('El mes de {0} es primavera? : {1}'.format(mes, solucion))"
   ]
  },
  {
   "cell_type": "code",
   "execution_count": 29,
   "metadata": {},
   "outputs": [
    {
     "name": "stdout",
     "output_type": "stream",
     "text": [
      "El mes de Enero es primavera? : False\n"
     ]
    }
   ],
   "source": [
    "# Respuesta \n",
    "\n",
    "# a) \n",
    "\n",
    "# Especificamos el mes que queremos comprobar\n",
    "mes = 'Enero'\n",
    "\n",
    "# Definimos qué meses se incluyen en primavera\n",
    "primavera = ['Marzo', 'Abril', 'Mayo']\n",
    "\n",
    "# Utilizamos la forma mes in primavera, que devolverá un Boolean (True o False) según si\n",
    "# el elemento mes está en la lista primavera\n",
    "solucion = mes in primavera\n",
    "\n",
    "# Mostramos el resultado utilizando format:\n",
    "print('El mes de {0} es primavera? : {1}'.format(mes, solucion))"
   ]
  },
  {
   "cell_type": "markdown",
   "metadata": {},
   "source": [
    "### Ejercicio 8\n",
    "\n",
    "#### Comparadores\n",
    "\n",
    "Traduce las siguientes frases a código Python:\n",
    "\n",
    "- Es cierto que el número a es mayor que b, pero a su vez menor que c?\n",
    "- Es cierto que el número b no es menor que la suma de a y c, o que d no es igual a b?\n",
    "- Es cierto que a, b, c, d estan ordenados en orden creciente o decreciente?"
   ]
  },
  {
   "cell_type": "code",
   "execution_count": 20,
   "metadata": {},
   "outputs": [],
   "source": [
    "a, b, c, d = 3, 4, 5, 6"
   ]
  },
  {
   "cell_type": "code",
   "execution_count": 31,
   "metadata": {},
   "outputs": [
    {
     "data": {
      "text/plain": [
       "False"
      ]
     },
     "execution_count": 31,
     "metadata": {},
     "output_type": "execute_result"
    }
   ],
   "source": [
    "(a > b) and (a < c)"
   ]
  },
  {
   "cell_type": "code",
   "execution_count": 24,
   "metadata": {},
   "outputs": [
    {
     "data": {
      "text/plain": [
       "True"
      ]
     },
     "execution_count": 24,
     "metadata": {},
     "output_type": "execute_result"
    }
   ],
   "source": [
    "(b >= (a+c)) or (d!=b)"
   ]
  },
  {
   "cell_type": "code",
   "execution_count": 23,
   "metadata": {},
   "outputs": [
    {
     "data": {
      "text/plain": [
       "True"
      ]
     },
     "execution_count": 23,
     "metadata": {},
     "output_type": "execute_result"
    }
   ],
   "source": [
    "(a<b<c<d) or (d<c<b<a)"
   ]
  },
  {
   "cell_type": "markdown",
   "metadata": {},
   "source": [
    "### Ejercicio 9. Comparaciones\n",
    "##### Python a castellano\n",
    "\n",
    "Traduce los siguientes códigos a castellano\n",
    "\n"
   ]
  },
  {
   "cell_type": "code",
   "execution_count": null,
   "metadata": {},
   "outputs": [],
   "source": [
    "a, b, c, d = 3, 5, 7, 4\n"
   ]
  },
  {
   "cell_type": "code",
   "execution_count": null,
   "metadata": {},
   "outputs": [],
   "source": [
    "( a >= c ) or ( (d + c) != b ) \n",
    "#A mayor o igual que c o la suma de d y c distinta a b"
   ]
  },
  {
   "cell_type": "code",
   "execution_count": null,
   "metadata": {},
   "outputs": [],
   "source": [
    "(a + b + c < d) and (d != (a * b * c)) \n",
    "# Que la suma de abc sea más pequeña que d y d distinta del producto de abc"
   ]
  },
  {
   "cell_type": "code",
   "execution_count": null,
   "metadata": {},
   "outputs": [],
   "source": [
    "((c // a) ** a) > c \n",
    "# que la división entera de c entre a elevado a \"a\" sea mayor que c"
   ]
  },
  {
   "cell_type": "markdown",
   "metadata": {},
   "source": [
    "### Ejercicio 10. Listas\n",
    "##### Creación y manipulación de listas\n",
    "\n",
    "Crea una lista que agrupe los distintos meses del año en trimestres, y escribe el código que permita mostrar los valores de:\n",
    "- El segundo mes del primer trimestre\n",
    "- Los meses del tercer trimestre\n",
    "- Septiembre y octubre"
   ]
  },
  {
   "cell_type": "code",
   "execution_count": 34,
   "metadata": {},
   "outputs": [],
   "source": [
    "meses = [[\"ene\",\"feb\",\"mar\"],\n",
    "         [\"abr\",\"may\",\"jun\"],\n",
    "         [\"jul\",\"ago\",\"sep\"],\n",
    "         [\"oct\",\"nov\",\"dic\"]]"
   ]
  },
  {
   "cell_type": "code",
   "execution_count": 35,
   "metadata": {},
   "outputs": [
    {
     "data": {
      "text/plain": [
       "[['ene', 'feb', 'mar'],\n",
       " ['abr', 'may', 'jun'],\n",
       " ['jul', 'ago', 'sep'],\n",
       " ['oct', 'nov', 'dic']]"
      ]
     },
     "execution_count": 35,
     "metadata": {},
     "output_type": "execute_result"
    }
   ],
   "source": [
    "meses"
   ]
  },
  {
   "cell_type": "code",
   "execution_count": 36,
   "metadata": {},
   "outputs": [
    {
     "data": {
      "text/plain": [
       "'feb'"
      ]
     },
     "execution_count": 36,
     "metadata": {},
     "output_type": "execute_result"
    }
   ],
   "source": [
    "#El segundo mes del primer trimestre\n",
    "meses[0][1]"
   ]
  },
  {
   "cell_type": "code",
   "execution_count": 37,
   "metadata": {},
   "outputs": [
    {
     "data": {
      "text/plain": [
       "['jul', 'ago', 'sep']"
      ]
     },
     "execution_count": 37,
     "metadata": {},
     "output_type": "execute_result"
    }
   ],
   "source": [
    "#Los meses del tercer trimestre\n",
    "meses[2]"
   ]
  },
  {
   "cell_type": "code",
   "execution_count": 38,
   "metadata": {},
   "outputs": [
    {
     "data": {
      "text/plain": [
       "'sep y oct'"
      ]
     },
     "execution_count": 38,
     "metadata": {},
     "output_type": "execute_result"
    }
   ],
   "source": [
    "# sep y oct\n",
    "meses[2][2] + \" y \" + meses[3][0]"
   ]
  },
  {
   "cell_type": "markdown",
   "metadata": {},
   "source": [
    "### Ejercicio 11\n",
    "\n",
    "Crea una lista con números desordenados (añade algunos). Responde a las siguientes preguntas usando código Python:\n",
    "\n",
    "- Cuántos números hay?\n",
    "- Cuántas veces aparece el número 3?\n",
    "- Cuántas veces aparecen el 5 y el 6? (intenta dar un solo valor)\n",
    "- Cuál es el número más grande?\n",
    "- Cuáles son los 3 números más pequeños?\n",
    "- Cuál es el rango de esta lista?"
   ]
  },
  {
   "cell_type": "code",
   "execution_count": 39,
   "metadata": {},
   "outputs": [],
   "source": [
    "nums = [3,4,5,2,6,7,8,2,1,6,7,5,4,3,8,9,1,0,2,3,1,2]"
   ]
  },
  {
   "cell_type": "code",
   "execution_count": 40,
   "metadata": {},
   "outputs": [
    {
     "data": {
      "text/plain": [
       "22"
      ]
     },
     "execution_count": 40,
     "metadata": {},
     "output_type": "execute_result"
    }
   ],
   "source": [
    "len(nums)"
   ]
  },
  {
   "cell_type": "code",
   "execution_count": 41,
   "metadata": {},
   "outputs": [
    {
     "data": {
      "text/plain": [
       "3"
      ]
     },
     "execution_count": 41,
     "metadata": {},
     "output_type": "execute_result"
    }
   ],
   "source": [
    "nums.count(3)"
   ]
  },
  {
   "cell_type": "code",
   "execution_count": 42,
   "metadata": {},
   "outputs": [
    {
     "data": {
      "text/plain": [
       "4"
      ]
     },
     "execution_count": 42,
     "metadata": {},
     "output_type": "execute_result"
    }
   ],
   "source": [
    "nums.count(5) + nums.count(6)"
   ]
  },
  {
   "cell_type": "code",
   "execution_count": 43,
   "metadata": {},
   "outputs": [
    {
     "data": {
      "text/plain": [
       "9"
      ]
     },
     "execution_count": 43,
     "metadata": {},
     "output_type": "execute_result"
    }
   ],
   "source": [
    "max(nums)"
   ]
  },
  {
   "cell_type": "code",
   "execution_count": 44,
   "metadata": {},
   "outputs": [
    {
     "data": {
      "text/plain": [
       "[0, 1, 1]"
      ]
     },
     "execution_count": 44,
     "metadata": {},
     "output_type": "execute_result"
    }
   ],
   "source": [
    "nums.sort()\n",
    "nums[0:3]"
   ]
  },
  {
   "cell_type": "code",
   "execution_count": 45,
   "metadata": {},
   "outputs": [
    {
     "data": {
      "text/plain": [
       "9"
      ]
     },
     "execution_count": 45,
     "metadata": {},
     "output_type": "execute_result"
    }
   ],
   "source": [
    "rango = max(nums) - min(nums)\n",
    "rango"
   ]
  },
  {
   "cell_type": "markdown",
   "metadata": {},
   "source": [
    "### Ejercicio 12\n",
    "\n",
    "Crea un diccionario con tus datos de contacto (Nombre, edad, telefono...) y otro con los datos de contacto de otra persona. \n",
    "- Quién tiene el nombre más largo?\n",
    "- Y quién es mayor?"
   ]
  },
  {
   "cell_type": "code",
   "execution_count": null,
   "metadata": {},
   "outputs": [],
   "source": []
  },
  {
   "cell_type": "markdown",
   "metadata": {},
   "source": [
    "### Ejercicio 13\n",
    "\n",
    "Crea un diccionario con unas cuantas fechas (cumpleaños, fechas históricas...) en un formato \"03-02-1993\". \n",
    "Busca la manera de obtener el año de una de las fechas."
   ]
  },
  {
   "cell_type": "code",
   "execution_count": null,
   "metadata": {},
   "outputs": [],
   "source": []
  },
  {
   "cell_type": "markdown",
   "metadata": {},
   "source": [
    "### Ejercicio 14\n",
    "#### Lista de la compra\n",
    "\n",
    "Sigue las instrucciones. Los precios de las frutas son por unidad:\n",
    "\n",
    "- Añade manzanas y peras, con su precio y cantidad, a la lista de la compra\n",
    "- Cómo podemos obtener la información de las peras?\n",
    "- Y cuánto han costado en total las peras?\n",
    "- Cuántas frutas hemos comprado en total?\n",
    "- Cuál es la fruta más cara, peras o manzanas?"
   ]
  },
  {
   "cell_type": "code",
   "execution_count": null,
   "metadata": {},
   "outputs": [],
   "source": []
  },
  {
   "cell_type": "code",
   "execution_count": null,
   "metadata": {},
   "outputs": [],
   "source": []
  },
  {
   "cell_type": "code",
   "execution_count": null,
   "metadata": {},
   "outputs": [],
   "source": []
  },
  {
   "cell_type": "code",
   "execution_count": null,
   "metadata": {},
   "outputs": [],
   "source": []
  },
  {
   "cell_type": "markdown",
   "metadata": {},
   "source": [
    "### Ejercicio reto\n",
    "\n",
    "Escribe un programa que, dado un número de teléfono fijo de España, nos indique de qué provincia proviene (e.g. el número de teléfono 977 462851 es de la provincia de Tarragona). Los puntos que se deben tener en cuenta son:\n",
    "\n",
    "- El número de teléfono debe tener 9 dígitos. Si no es así, debe dar un mensaje de error.\n",
    "\n",
    "- El usuario debe introducir el número por pantalla.\n",
    "\n",
    "- Como los prefijos pueden tener 2 o 3 dígitos, para simplificar el ejercicio, al introducir el número de teléfono se debe separar con un espacio el prefijo del resto (e.g. 977 462 851).\n",
    "\n",
    "- No hay que poner la información de todas las provincias en el programa, puedes colocar un mínimo de 10. En el caso de que se introduzca un número de una provincia que no consta en el programa, se mostrará un mensaje de aviso. \n",
    "\n",
    "\n",
    "**Nota**: Para hacer este ejercicio, puede que necesites utilizar [condicionales](https://es.wikipedia.org/wiki/Python#Condicionales). \n",
    " "
   ]
  },
  {
   "cell_type": "code",
   "execution_count": null,
   "metadata": {},
   "outputs": [],
   "source": []
  }
 ],
 "metadata": {
  "kernelspec": {
   "display_name": "Python 3 (ipykernel)",
   "language": "python",
   "name": "python3"
  },
  "language_info": {
   "codemirror_mode": {
    "name": "ipython",
    "version": 3
   },
   "file_extension": ".py",
   "mimetype": "text/x-python",
   "name": "python",
   "nbconvert_exporter": "python",
   "pygments_lexer": "ipython3",
   "version": "3.9.13"
  }
 },
 "nbformat": 4,
 "nbformat_minor": 1
}
