{
 "cells": [
  {
   "cell_type": "markdown",
   "id": "cb3deef7",
   "metadata": {},
   "source": [
    "**Exercise 1: Print First 10 natural numbers using while loop**"
   ]
  },
  {
   "cell_type": "markdown",
   "id": "9247e302",
   "metadata": {},
   "source": [
    "**Exercise 2: Print the following pattern**\n",
    "\n",
    "```\n",
    "1\n",
    "1 2\n",
    "1 2 3\n",
    "1 2 3 4\n",
    "1 2 3 4 5\n",
    "```"
   ]
  },
  {
   "cell_type": "markdown",
   "id": "6532efbd",
   "metadata": {},
   "source": [
    "**Exercise 3: Calculate the sum of all numbers from 1 to a given number**\n",
    "\n",
    "Write a program to accept a number from a user and calculate the sum of all numbers from 1 to a given number\n",
    "\n",
    "For example, if the user entered 10 the output should be 55 (1+2+3+4+5+6+7+8+9+10)"
   ]
  },
  {
   "cell_type": "markdown",
   "id": "70a8519b",
   "metadata": {},
   "source": [
    "**Exercise 4: Write a program to print multiplication table of a given number**\n",
    "\n",
    "For example, num = 2 so the output should be\n",
    "\n",
    "`2\n",
    "4\n",
    "6\n",
    "8\n",
    "10\n",
    "12\n",
    "14\n",
    "16\n",
    "18\n",
    "20`"
   ]
  },
  {
   "cell_type": "markdown",
   "id": "b93748b6",
   "metadata": {},
   "source": [
    "**Exercise 5: Display numbers from a list using loop**\n",
    "\n",
    "Write a program to display only those numbers from a list that satisfy the following conditions:\n",
    "- The number must be divisible by five\n",
    "- If the number is greater than 150, then skip it and move to the next number\n",
    "- If the number is greater than 500, then stop the loop\n",
    "\n",
    "Given:\n",
    "\n",
    "`numbers = [12, 75, 150, 180, 145, 525, 50]`\n",
    "\n",
    "Expected output:\n",
    "\n",
    "`75\n",
    "150\n",
    "145`"
   ]
  },
  {
   "cell_type": "markdown",
   "id": "49dbb34c",
   "metadata": {},
   "source": [
    "**Exercise 6: Count the total number of digits in a number**\n",
    "\n",
    "For example, the number is 75869, so the output should be 5."
   ]
  },
  {
   "cell_type": "markdown",
   "id": "72210abf",
   "metadata": {},
   "source": [
    "**Exercise 7: Print list in reverse order using a loop**\n",
    "\n",
    "Given:\n",
    "\n",
    "`list1 = [10, 20, 30, 40, 50]`\n",
    "\n",
    "Expected output:\n",
    "\n",
    "`50\n",
    "40\n",
    "30\n",
    "20\n",
    "10`\n"
   ]
  },
  {
   "cell_type": "markdown",
   "id": "2d7c5bee",
   "metadata": {},
   "source": [
    "**Exercise 8: Use else block to display a message “Done” after successful execution of for loop**\n",
    "\n",
    "Given:\n",
    "\n",
    "`for i in range(5):\n",
    "    print(i)`\n",
    "\n",
    "Expected output:\n",
    "\n",
    "`0\n",
    "1\n",
    "2\n",
    "3\n",
    "4\n",
    "Done!`"
   ]
  },
  {
   "cell_type": "markdown",
   "id": "d6ad4a93",
   "metadata": {},
   "source": [
    "**Exercise 9: Write a program to display all prime numbers within a range**\n",
    "\n",
    "Given:\n",
    "\n",
    "`start = 25\n",
    "end = 50`\n",
    "\n",
    "Expected output:\n",
    "\n",
    "`Prime numbers between 25 and 50 are:\n",
    "29\n",
    "31\n",
    "37\n",
    "41\n",
    "43\n",
    "47`"
   ]
  },
  {
   "cell_type": "markdown",
   "id": "b0627eb9",
   "metadata": {},
   "source": [
    "**Exercise 10: Display Fibonacci series up to 10 terms**\n",
    "\n",
    "The Fibonacci Sequence is a series of numbers. The next number is found by adding up the two numbers before it. The first two numbers are 0 and 1.\n",
    "\n",
    "For example, 0, 1, 1, 2, 3, 5, 8, 13, 21. The next number in this series above is 13+21 = 34."
   ]
  },
  {
   "cell_type": "markdown",
   "id": "475496a7",
   "metadata": {},
   "source": [
    "**Exercise 11: Find the factorial of a given number**\n",
    "\n",
    "The factorial (symbol: !) means to multiply all whole numbers from the chosen number down to 1.\n",
    "\n",
    "For example: calculate the factorial of 5\n",
    "\n",
    "`5! = 5 × 4 × 3 × 2 × 1 = 120`\n",
    "\n",
    "Expected output:\n",
    "`120`\n"
   ]
  },
  {
   "cell_type": "markdown",
   "id": "acd69de5",
   "metadata": {},
   "source": [
    "**Exercise 12: Reverse a given integer number**\n",
    "\n",
    "Given:\n",
    "\n",
    "76542\n",
    "\n",
    "Expected output:\n",
    "\n",
    "24567"
   ]
  },
  {
   "cell_type": "markdown",
   "id": "4b104a42",
   "metadata": {},
   "source": [
    "**Exercise 13: Use a loop to display elements from a given list present at odd index positions**\n",
    "\n",
    "Given:\n",
    "\n",
    "`my_list = [10, 20, 30, 40, 50, 60, 70, 80, 90, 100]`\n",
    "\n",
    "Note: list index always starts at 0\n",
    "\n",
    "Expected output:\n",
    "\n",
    "`20 40 60 80 100`"
   ]
  },
  {
   "cell_type": "markdown",
   "id": "85f1047c",
   "metadata": {},
   "source": [
    "**Exercise 14: Calculate the cube of all numbers from 1 to a given number**\n",
    "\n",
    "Given:\n",
    "\n",
    "`input_number = 6`\n",
    "\n",
    "Expected output:\n",
    "\n",
    "`Current Number is : 1  and the cube is 1\n",
    "Current Number is : 2  and the cube is 8\n",
    "Current Number is : 3  and the cube is 27\n",
    "Current Number is : 4  and the cube is 64\n",
    "Current Number is : 5  and the cube is 125\n",
    "Current Number is : 6  and the cube is 216`\n"
   ]
  },
  {
   "cell_type": "markdown",
   "id": "53f3d05b",
   "metadata": {},
   "source": [
    "**Exercise 15: Find the sum of the series upto n terms**\n",
    "\n",
    "Write a program to calculate the sum of series up to n term. For example, if n =5 the series will become 2 + 22 + 222 + 2222 + 22222 = 24690\n",
    "\n",
    "Given:\n",
    "n = 5\n",
    "\n",
    "Expected output:\n",
    "24690\n",
    "\n"
   ]
  },
  {
   "cell_type": "markdown",
   "id": "f0cf2897",
   "metadata": {},
   "source": [
    "**Exercise 16: Print the following pattern**\n",
    "\n",
    "Write a program to print the following start pattern using the for loop\n",
    "\n",
    "```\n",
    "*\n",
    "* *\n",
    "* * *\n",
    "* * * *\n",
    "* * * * *\n",
    "* * * *\n",
    "* * *\n",
    "* *\n",
    "*\n",
    "```"
   ]
  },
  {
   "cell_type": "markdown",
   "id": "41ff91f5",
   "metadata": {},
   "source": []
  }
 ],
 "metadata": {
  "kernelspec": {
   "display_name": "Python 3 (ipykernel)",
   "language": "python",
   "name": "python3"
  },
  "language_info": {
   "codemirror_mode": {
    "name": "ipython",
    "version": 3
   },
   "file_extension": ".py",
   "mimetype": "text/x-python",
   "name": "python",
   "nbconvert_exporter": "python",
   "pygments_lexer": "ipython3",
   "version": "3.9.13"
  }
 },
 "nbformat": 4,
 "nbformat_minor": 5
}
