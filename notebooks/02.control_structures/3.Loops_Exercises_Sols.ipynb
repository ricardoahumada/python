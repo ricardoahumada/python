{
 "cells": [
  {
   "cell_type": "markdown",
   "id": "fa2a1ecf",
   "metadata": {},
   "source": [
    "*ref:https://pynative.com/python-if-else-and-for-loop-exercise-with-solutions/*"
   ]
  },
  {
   "cell_type": "markdown",
   "id": "cb3deef7",
   "metadata": {},
   "source": [
    "**Ejercicio 1: imprime los primeros 10 números naturales usando un bucle while**"
   ]
  },
  {
   "cell_type": "code",
   "execution_count": 1,
   "id": "d8cfafc4",
   "metadata": {},
   "outputs": [
    {
     "name": "stdout",
     "output_type": "stream",
     "text": [
      "1\n",
      "2\n",
      "3\n",
      "4\n",
      "5\n",
      "6\n",
      "7\n",
      "8\n",
      "9\n",
      "10\n"
     ]
    }
   ],
   "source": [
    "i = 1\n",
    "while i <= 10:\n",
    "    print(i)\n",
    "    i += 1"
   ]
  },
  {
   "cell_type": "markdown",
   "id": "9247e302",
   "metadata": {},
   "source": [
    "**Ejercicio 2: Imprime el siguiente patrón**\n",
    "\n",
    "```\n",
    "1\n",
    "1 2\n",
    "1 2 3\n",
    "1 2 3 4\n",
    "1 2 3 4 5\n",
    "```"
   ]
  },
  {
   "cell_type": "code",
   "execution_count": 11,
   "id": "0560fbec",
   "metadata": {},
   "outputs": [
    {
     "name": "stdout",
     "output_type": "stream",
     "text": [
      "Patrón numérico\n",
      "1 \n",
      "1 2 \n",
      "1 2 3 \n",
      "1 2 3 4 \n",
      "1 2 3 4 5 \n"
     ]
    }
   ],
   "source": [
    "print(\"Patrón numérico\")\n",
    "\n",
    "# Decide el número de filas. (el patrón anterior contiene 5 filas)\n",
    "row = 5\n",
    "# inicio: 1\n",
    "# parada: fila+1 (el rango nunca incluye el número de parada en el resultado)\n",
    "# paso: 1\n",
    "# ejecutar bucle 5 veces\n",
    "for i in range(1, row + 1, 1):\n",
    "    # Ejecutar bucle interior i+1 veces\n",
    "    for j in range(1, i + 1):\n",
    "        print(j, end=' ')\n",
    "    # línea vacía después de cada fila\n",
    "    print(\"\")"
   ]
  },
  {
   "cell_type": "markdown",
   "id": "6532efbd",
   "metadata": {},
   "source": [
    "**Ejercicio 3: Calcular la suma de todos los números desde el 1 hasta un número dado**\n",
    "\n",
    "Escribe un programa para pedir un número al usuario y calculer la suma de todos los números desde 1 hasta el número dado\n",
    "\n",
    "Por ejemplo, si el usuario ingresó 10, la salida debería ser 55 (1+2+3+4+5+6+7+8+9+10)"
   ]
  },
  {
   "cell_type": "code",
   "execution_count": 12,
   "id": "ca3bbc97",
   "metadata": {},
   "outputs": [
    {
     "name": "stdout",
     "output_type": "stream",
     "text": [
      "Ingresar número 23\n",
      "\n",
      "\n",
      "La suma es:  276\n"
     ]
    }
   ],
   "source": [
    "# s: almacena la suma de todos los números\n",
    "s = 0\n",
    "n = int(input(\"Ingresar número \"))\n",
    "# ejecutar el bucle n veces\n",
    "# parada: n+1 (porque el rango nunca incluye el número de parada en el resultado)\n",
    "for i in range(1, n + 1, 1):\n",
    "    # agregar el número actual a la variable de suma\n",
    "    s += i\n",
    "print(\"\\n\")\n",
    "print(\"La suma es: \", s)"
   ]
  },
  {
   "cell_type": "markdown",
   "id": "70a8519b",
   "metadata": {},
   "source": [
    "**Ejercicio 4: Escribe un programa para imprimir la tabla de multiplicar de un número dado**\n",
    "\n",
    "Por ejemplo, num = 2 \n",
    "\n",
    "`2\n",
    "4\n",
    "6\n",
    "8\n",
    "10\n",
    "12\n",
    "14\n",
    "16\n",
    "18\n",
    "20`"
   ]
  },
  {
   "cell_type": "code",
   "execution_count": 13,
   "id": "25d62093",
   "metadata": {},
   "outputs": [
    {
     "name": "stdout",
     "output_type": "stream",
     "text": [
      "2\n",
      "4\n",
      "6\n",
      "8\n",
      "10\n",
      "12\n",
      "14\n",
      "16\n",
      "18\n",
      "20\n"
     ]
    }
   ],
   "source": [
    "n = 2\n",
    "# parada: 11 (porque el rango nunca incluye el número de parada en el resultado)\n",
    "# ejecutar el ciclo 10 veces\n",
    "for i in range(1, 11, 1):\n",
    "    # 2 *i (número actual)\n",
    "    product = n * i\n",
    "    print(product)"
   ]
  },
  {
   "cell_type": "markdown",
   "id": "b93748b6",
   "metadata": {},
   "source": [
    "**Ejercicio 5: Mostrar números de una lista usando bucle**\n",
    "\n",
    "Escriba un programa para mostrar solo aquellos números de una lista que satisfagan las siguientes condiciones:\n",
    "- El número debe ser divisible por cinco.\n",
    "- Si el número es mayor que 150, sáltar y procesar al siguiente número\n",
    "- Si el número es mayor que 500, detener el ciclo\n",
    "\n",
    "Dado:\n",
    "\n",
    "`numbers = [12, 75, 150, 180, 145, 525, 50]`\n",
    "\n",
    "Salida esperada:\n",
    "\n",
    "`75\n",
    "150\n",
    "145`"
   ]
  },
  {
   "cell_type": "code",
   "execution_count": 14,
   "id": "54fcae19",
   "metadata": {},
   "outputs": [
    {
     "name": "stdout",
     "output_type": "stream",
     "text": [
      "75\n",
      "150\n",
      "145\n"
     ]
    }
   ],
   "source": [
    "numbers = [12, 75, 150, 180, 145, 525, 50]\n",
    "# iterar cada elemento de la lista\n",
    "for item in numbers:\n",
    "    if item > 500:\n",
    "        break\n",
    "    elif item > 150:\n",
    "        continue\n",
    "    # comprobar si el número es divisible por 5\n",
    "    elif item % 5 == 0:\n",
    "        print(item)"
   ]
  },
  {
   "cell_type": "markdown",
   "id": "49dbb34c",
   "metadata": {},
   "source": [
    "**Ejercicio 6: Cuenta el número total de dígitos de un número**\n",
    "\n",
    "Por ejemplo, para el número es 75869, la salida debería ser 5."
   ]
  },
  {
   "cell_type": "code",
   "execution_count": 16,
   "id": "d7c31afd",
   "metadata": {},
   "outputs": [
    {
     "name": "stdout",
     "output_type": "stream",
     "text": [
      "Los dígitos totales son: 5\n"
     ]
    }
   ],
   "source": [
    "num = 75869\n",
    "count = 0\n",
    "while num != 0:\n",
    "    # floor division\n",
    "    # para reducir el último dígito del número\n",
    "    num = num // 10\n",
    "\n",
    "    # incrementa contador en 1\n",
    "    count = count + 1\n",
    "print(\"Los dígitos totales son:\", count)"
   ]
  },
  {
   "cell_type": "markdown",
   "id": "72210abf",
   "metadata": {},
   "source": [
    "**Ejercicio 7: Imprimir una lista en orden inverso usando un bucle**\n",
    "\n",
    "Dado:\n",
    "\n",
    "`list1 = [10, 20, 30, 40, 50]`\n",
    "\n",
    "Salida esperada:\n",
    "\n",
    "`50\n",
    "40\n",
    "30\n",
    "20\n",
    "10`\n"
   ]
  },
  {
   "cell_type": "code",
   "execution_count": 19,
   "id": "55ec6fb7",
   "metadata": {},
   "outputs": [
    {
     "name": "stdout",
     "output_type": "stream",
     "text": [
      "50\n",
      "40\n",
      "30\n",
      "20\n",
      "10\n"
     ]
    }
   ],
   "source": [
    "list1 = [10, 20, 30, 40, 50]\n",
    "# invertir lista\n",
    "new_list = reversed(list1)\n",
    "# iterar lista invertida\n",
    "for item in new_list:\n",
    "    print(item)"
   ]
  },
  {
   "cell_type": "markdown",
   "id": "2d7c5bee",
   "metadata": {},
   "source": [
    "**Ejercicio 8: usar el bloque `else` para mostrar un mensaje \"Terminado\" después de la ejecución exitosa del bucle for**\n",
    "\n",
    "Dado:\n",
    "\n",
    "`for i in range(5):\n",
    "    print(i)`\n",
    "\n",
    "Salida esperada:\n",
    "\n",
    "`0\n",
    "1\n",
    "2\n",
    "3\n",
    "4\n",
    "Terminado!`"
   ]
  },
  {
   "cell_type": "code",
   "execution_count": 2,
   "id": "39f0839c",
   "metadata": {},
   "outputs": [
    {
     "name": "stdout",
     "output_type": "stream",
     "text": [
      "0\n",
      "1\n",
      "2\n",
      "3\n",
      "4\n",
      "Terminado!\n"
     ]
    }
   ],
   "source": [
    "for i in range(5):\n",
    "    print(i)\n",
    "else:\n",
    "    print(\"Terminado!\")"
   ]
  },
  {
   "cell_type": "markdown",
   "id": "d6ad4a93",
   "metadata": {},
   "source": [
    "**Ejercicio 9: Escribe un programa para mostrar todos los números primos dentro de un rango**\n",
    "\n",
    "Dado:\n",
    "\n",
    "`start = 25\n",
    "end = 50`\n",
    "\n",
    "Salida esperada:\n",
    "\n",
    "`Los números primos entre 25 y 50 son:\n",
    "29\n",
    "31\n",
    "37\n",
    "41\n",
    "43\n",
    "47`"
   ]
  },
  {
   "cell_type": "code",
   "execution_count": 3,
   "id": "738d7664",
   "metadata": {},
   "outputs": [
    {
     "name": "stdout",
     "output_type": "stream",
     "text": [
      "Los números primos entre 25 y 50 son:\n",
      "29\n",
      "31\n",
      "37\n",
      "41\n",
      "43\n",
      "47\n"
     ]
    }
   ],
   "source": [
    "start = 25\n",
    "end = 50\n",
    "print(\"Los números primos entre\", start, \"y\", end, \"son:\")\n",
    "\n",
    "for num in range(start, end + 1):\n",
    "    # todos los números primos son mayores que 1\n",
    "    # si el número es menor o igual a 1, no es primo\n",
    "    if num > 1:\n",
    "        for i in range(2, num):\n",
    "            # comprobar los factores\n",
    "            if (num % i) == 0:\n",
    "                # no es un número primo así que se rompe el bucle interno y\n",
    "                # buscar el siguiente número\n",
    "                break\n",
    "        else:\n",
    "            print(num)"
   ]
  },
  {
   "cell_type": "markdown",
   "id": "b0627eb9",
   "metadata": {},
   "source": [
    "**Ejercicio 10: Mostrar series de Fibonacci hasta 10 términos**\n",
    "\n",
    "La secuencia de Fibonacci es una serie de números. El número siguiente de la serie se encuentra sumando los dos números anteriores. Los dos primeros números son 0 y 1.\n",
    "\n",
    "Por ejemplo, 0, 1, 1, 2, 3, 5, 8, 13, 21. El siguiente número en esta serie anterior es 13+21 = 34."
   ]
  },
  {
   "cell_type": "code",
   "execution_count": 4,
   "id": "d23829cc",
   "metadata": {},
   "outputs": [
    {
     "name": "stdout",
     "output_type": "stream",
     "text": [
      "Secuencia Fibonacci:\n",
      "0  1  1  2  3  5  8  13  21  34  "
     ]
    }
   ],
   "source": [
    "# los dos primeros numeros\n",
    "num1, num2 = 0, 1\n",
    "\n",
    "print(\"Secuencia Fibonacci:\")\n",
    "# ejecutar el ciclo 10 veces\n",
    "for i in range(10):\n",
    "    # imprimir el siguiente número de una serie\n",
    "    print(num1, end=\"  \")\n",
    "    # suma los últimos dos números para obtener el siguiente número\n",
    "    res = num1 + num2\n",
    "\n",
    "    # actualizar valores\n",
    "    num1 = num2\n",
    "    num2 = res"
   ]
  },
  {
   "cell_type": "markdown",
   "id": "475496a7",
   "metadata": {},
   "source": [
    "**Ejercicio 11: Encuentra el factorial de un número dado**\n",
    "\n",
    "El factorial (símbolo: !) significa multiplicar todos los números enteros desde el número elegido hasta 1.\n",
    "\n",
    "Por ejemplo: calcular el factorial de 5\n",
    "\n",
    "`5! = 5 × 4 × 3 × 2 × 1 = 120`\n",
    "\n",
    "Salida esperada:\n",
    "`120`\n"
   ]
  },
  {
   "cell_type": "code",
   "execution_count": 5,
   "id": "9cb6381d",
   "metadata": {},
   "outputs": [
    {
     "name": "stdout",
     "output_type": "stream",
     "text": [
      "El factorial de 5 es 120\n"
     ]
    }
   ],
   "source": [
    "num = 5\n",
    "factorial = 1\n",
    "if num < 0:\n",
    "    print(\"Factorial no existe para números negativos\")\n",
    "elif num == 0:\n",
    "    print(\"El factorial de 0 es 1\")\n",
    "else:\n",
    "    # ejecutar el ciclo 5 veces\n",
    "    for i in range(1, num + 1):\n",
    "        # multiplicar factorial por numero actual\n",
    "        factorial = factorial * i\n",
    "    print(\"El factorial de\", num, \"es\", factorial)\n"
   ]
  },
  {
   "cell_type": "markdown",
   "id": "acd69de5",
   "metadata": {},
   "source": [
    "**Ejercicio 12: Invertir un número entero dado**\n",
    "\n",
    "Dado:\n",
    "\n",
    "76542\n",
    "\n",
    "Salida esperada:\n",
    "\n",
    "24567"
   ]
  },
  {
   "cell_type": "code",
   "execution_count": 6,
   "id": "fbfca8d1",
   "metadata": {},
   "outputs": [
    {
     "name": "stdout",
     "output_type": "stream",
     "text": [
      "Númbero dado  76542\n",
      "Número invertido  24567\n"
     ]
    }
   ],
   "source": [
    "num = 76542\n",
    "reverse_number = 0\n",
    "print(\"Númbero dado \", num)\n",
    "while num > 0:\n",
    "    reminder = num % 10\n",
    "    reverse_number = (reverse_number * 10) + reminder\n",
    "    num = num // 10\n",
    "print(\"Número invertido \", reverse_number)"
   ]
  },
  {
   "cell_type": "markdown",
   "id": "4b104a42",
   "metadata": {},
   "source": [
    "**Ejercicio 13: Usa un bucle para mostrar elementos de una lista dada presentes en posiciones impares del índice**\n",
    "\n",
    "Dado:\n",
    "\n",
    "`my_list = [10, 20, 30, 40, 50, 60, 70, 80, 90, 100]`\n",
    "\n",
    "Nota: el índice de la lista siempre comienza en 0\n",
    "\n",
    "Salida esperada:\n",
    "\n",
    "`20 40 60 80 100`"
   ]
  },
  {
   "cell_type": "code",
   "execution_count": 14,
   "id": "487420cf",
   "metadata": {},
   "outputs": [
    {
     "name": "stdout",
     "output_type": "stream",
     "text": [
      "20 40 60 80 100 "
     ]
    }
   ],
   "source": [
    "my_list = [10, 20, 30, 40, 50, 60, 70, 80, 90, 100]\n",
    "# comience desde el índice 1 con el paso 2 (significa 1, 3, 5, etc.)\n",
    "for i in my_list[1::2]:\n",
    "    print(i, end=\" \")"
   ]
  },
  {
   "cell_type": "markdown",
   "id": "85f1047c",
   "metadata": {},
   "source": [
    "**Ejercicio 14: Calcular el cubo de todos los números desde el 1 hasta un número dado**\n",
    "\n",
    "Dado:\n",
    "\n",
    "`input_number = 6`\n",
    "\n",
    "Salida esperada:\n",
    "\n",
    "`El número actual es: 1 y el cubo es 1\n",
    "Número actual es: 2 y el cubo es 8\n",
    "Número actual es: 3 y el cubo es 27\n",
    "Número actual es: 4 y el cubo es 64\n",
    "Número actual es: 5 y el cubo es 125\n",
    "Número actual es: 6 y el cubo es 216`\n"
   ]
  },
  {
   "cell_type": "code",
   "execution_count": 7,
   "id": "79726ac4",
   "metadata": {},
   "outputs": [
    {
     "name": "stdout",
     "output_type": "stream",
     "text": [
      "Número actual es: 1  y el cubo es 1\n",
      "Número actual es: 2  y el cubo es 8\n",
      "Número actual es: 3  y el cubo es 27\n",
      "Número actual es: 4  y el cubo es 64\n",
      "Número actual es: 5  y el cubo es 125\n",
      "Número actual es: 6  y el cubo es 216\n"
     ]
    }
   ],
   "source": [
    "input_number = 6\n",
    "for i in range(1, input_number + 1):\n",
    "    print(\"Número actual es:\", i, \" y el cubo es\", (i * i * i))"
   ]
  },
  {
   "cell_type": "markdown",
   "id": "53f3d05b",
   "metadata": {},
   "source": [
    "**Ejercicio 15: Encuentra la suma de la serie hasta n términos**\n",
    "\n",
    "Escribe un programa para calcular la suma de series hasta n término. Por ejemplo, si n =5 la serie se convertirá en 2 + 22 + 222 + 2222 + 22222 = 24690\n",
    "\n",
    "Dado:\n",
    "n = 5\n",
    "\n",
    "Salida esperada:\n",
    "24690"
   ]
  },
  {
   "cell_type": "code",
   "execution_count": 8,
   "id": "3dd2adde",
   "metadata": {},
   "outputs": [
    {
     "name": "stdout",
     "output_type": "stream",
     "text": [
      "2+22+222+2222+22222+\n",
      "La suma de la serie anterior es: 24690\n"
     ]
    }
   ],
   "source": [
    "n = 5\n",
    "# primer número de secuencia\n",
    "start = 2\n",
    "sum_seq = 0\n",
    "\n",
    "# ejecutar bucle n veces\n",
    "for i in range(0, n):\n",
    "    print(start, end=\"+\")\n",
    "    sum_seq += start\n",
    "    # calcular el siguiente termino\n",
    "    start = start * 10 + 2\n",
    "print(\"\\nLa suma de la serie anterior es:\", sum_seq)"
   ]
  },
  {
   "cell_type": "markdown",
   "id": "f0cf2897",
   "metadata": {},
   "source": [
    "**Ejercicio 16: Imprime el siguiente patrón**\n",
    "\n",
    "Escribe un programa para imprimir el siguiente patrón usando el ciclo for\n",
    "```\n",
    "*\n",
    "* *\n",
    "* * *\n",
    "* * * *\n",
    "* * * * *\n",
    "* * * *\n",
    "* * *\n",
    "* *\n",
    "*\n",
    "```"
   ]
  },
  {
   "cell_type": "code",
   "execution_count": 17,
   "id": "b21789a1",
   "metadata": {},
   "outputs": [
    {
     "name": "stdout",
     "output_type": "stream",
     "text": [
      "* \r\n",
      "* * \r\n",
      "* * * \r\n",
      "* * * * \r\n",
      "* * * * * \r\n",
      "* * * * \r\n",
      "* * * \r\n",
      "* * \r\n",
      "* \r\n",
      "\r\n"
     ]
    }
   ],
   "source": [
    "rows = 5\n",
    "for i in range(0, rows):\n",
    "    for j in range(0, i + 1):\n",
    "        print(\"*\", end=' ')\n",
    "    print(\"\\r\")\n",
    "\n",
    "for i in range(rows, 0, -1):\n",
    "    for j in range(0, i - 1):\n",
    "        print(\"*\", end=' ')\n",
    "    print(\"\\r\")"
   ]
  },
  {
   "cell_type": "markdown",
   "id": "41ff91f5",
   "metadata": {},
   "source": []
  }
 ],
 "metadata": {
  "kernelspec": {
   "display_name": "Python 3 (ipykernel)",
   "language": "python",
   "name": "python3"
  },
  "language_info": {
   "codemirror_mode": {
    "name": "ipython",
    "version": 3
   },
   "file_extension": ".py",
   "mimetype": "text/x-python",
   "name": "python",
   "nbconvert_exporter": "python",
   "pygments_lexer": "ipython3",
   "version": "3.9.13"
  }
 },
 "nbformat": 4,
 "nbformat_minor": 5
}
