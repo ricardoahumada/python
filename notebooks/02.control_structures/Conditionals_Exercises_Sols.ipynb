{
 "cells": [
  {
   "cell_type": "markdown",
   "id": "e8940ac0",
   "metadata": {},
   "source": [
    "*ref: https://aprendeconalf.es/docencia/python/ejercicios/condicionales/*"
   ]
  },
  {
   "cell_type": "markdown",
   "id": "faddde98",
   "metadata": {},
   "source": [
    "**Ejercicio 1**\n",
    "\n",
    "Escribir un programa que pregunte al usuario su edad y muestre por pantalla si es mayor de edad o no."
   ]
  },
  {
   "cell_type": "code",
   "execution_count": null,
   "id": "21141caa",
   "metadata": {},
   "outputs": [],
   "source": [
    "age = int(input(\"¿Cuál es tu edad? \"))\n",
    "if age < 18: \n",
    "    print (\"Eres menor de edad.\")\n",
    "else:\n",
    "    print(\"Eres mayor de edad.\")"
   ]
  },
  {
   "cell_type": "markdown",
   "id": "6aeb5735",
   "metadata": {},
   "source": [
    "**Ejercicio 2**\n",
    "\n",
    "Escribir un programa que almacene la cadena de caracteres contraseña en una variable, pregunte al usuario por la contraseña e imprima por pantalla si la contraseña introducida por el usuario coincide con la guardada en la variable sin tener en cuenta mayúsculas y minúsculas."
   ]
  },
  {
   "cell_type": "code",
   "execution_count": null,
   "id": "03ba0f4f",
   "metadata": {},
   "outputs": [],
   "source": [
    "key = \"contraseña\"\n",
    "password = input(\"Introduce la contraseña: \")\n",
    "if key == password.lower():\n",
    "    print(\"La contaseña coincide\")\n",
    "else:\n",
    "    print(\"La contraseña no coincide\")"
   ]
  },
  {
   "cell_type": "markdown",
   "id": "eadb302d",
   "metadata": {},
   "source": [
    "**Ejercicio 3**\n",
    "\n",
    "Dados 3 números, `a, b c`, escribe un programa que: \n",
    "- Encuentre el mayor\n",
    "- Los ordene de mayor a menor"
   ]
  },
  {
   "cell_type": "markdown",
   "id": "2afb00e8",
   "metadata": {},
   "source": [
    "**Ejercicio 4**\n",
    "\n",
    "Los tramos impositivos para la declaración de la renta en un determinado país son los siguientes:\n",
    "\n",
    "<table>\n",
    "<thead>\n",
    "<tr>\n",
    "<th style=\"text-align:center\">Renta</th>\n",
    "<th style=\"text-align:center\">Tipo impositivo</th>\n",
    "</tr>\n",
    "</thead>\n",
    "<tbody>\n",
    "<tr>\n",
    "<td style=\"text-align:center\">Menos de 10000€</td>\n",
    "<td style=\"text-align:center\">5%</td>\n",
    "</tr>\n",
    "<tr>\n",
    "<td style=\"text-align:center\">Entre 10000€ y 20000€</td>\n",
    "<td style=\"text-align:center\">15%</td>\n",
    "</tr>\n",
    "<tr>\n",
    "<td style=\"text-align:center\">Entre 20000€ y 35000€</td>\n",
    "<td style=\"text-align:center\">20%</td>\n",
    "</tr>\n",
    "<tr>\n",
    "<td style=\"text-align:center\">Entre 35000€ y 60000€</td>\n",
    "<td style=\"text-align:center\">30%</td>\n",
    "</tr>\n",
    "<tr>\n",
    "<td style=\"text-align:center\">Más de 60000€</td>\n",
    "<td style=\"text-align:center\">45%</td>\n",
    "</tr>\n",
    "</tbody>\n",
    "</table>\n",
    "\n",
    "Escribir un programa que pregunte al usuario su renta anual y muestre por pantalla el tipo impositivo que le corresponde."
   ]
  },
  {
   "cell_type": "code",
   "execution_count": null,
   "id": "721d70a1",
   "metadata": {},
   "outputs": [],
   "source": [
    "# Preguntar al usuario por la renta\n",
    "renta = float(input(\"¿Cuál es tu renta anual? \"))\n",
    "# Condicional para determinar el tipo impositivo dependiendo de la renta\n",
    "if renta < 10000:\n",
    "    tipo = 5\n",
    "elif renta < 20000:\n",
    "    tipo = 15\n",
    "elif renta < 35000:\n",
    "    tipo = 20\n",
    "elif renta < 60000:\n",
    "    tipo = 30\n",
    "else:\n",
    "    tipo = 45\n",
    "# Mostrar por pantalla el producto de la renta por el tipo impositivo\n",
    "print(\"Tienes que pagar \", renta * tipo / 100, \"€\", sep='')"
   ]
  },
  {
   "cell_type": "markdown",
   "id": "b5650e11",
   "metadata": {},
   "source": [
    "**Ejercicio 5**\n",
    "\n",
    "La pizzería Bella Napoli ofrece pizzas vegetarianas y no vegetarianas a sus clientes. Los ingredientes para cada tipo de pizza aparecen a continuación.\n",
    "\n",
    "- Ingredientes vegetarianos: Pimiento y tofu.\n",
    "- Ingredientes no vegetarianos: Peperoni, Jamón y Salmón.\n",
    "\n",
    "Escribir un programa que pregunte al usuario si quiere una pizza vegetariana o no, y en función de su respuesta le muestre un menú con los ingredientes disponibles para que elija. Solo se puede eligir un ingrediente además de la mozzarella y el tomate que están en todas la pizzas. Al final se debe mostrar por pantalla si la pizza elegida es vegetariana o no y todos los ingredientes que lleva."
   ]
  },
  {
   "cell_type": "code",
   "execution_count": null,
   "id": "7b747b6c",
   "metadata": {},
   "outputs": [],
   "source": [
    "# Presentación del menú con los tipos de pizza\n",
    "print(\"Bienvenido a la pizzeria Bella Napoli.\\nTipos de pizza\\n\\t1- Vegetariana\\n\\t2- No vegetariana\\n\")\n",
    "tipo = input(\"Introduce el número correspondiente al tipo de pizza que quieres:\")\n",
    "# Decisión sobre el tipo de pizza\n",
    "if tipo == \"1\":\n",
    "    print(\"Ingredientes de pizzas vegetarianas\\n\\t 1- Pimiento\\n\\t2- Tofu\\n\")\n",
    "    ingrediente = input(\"Introduce el ingrediente que deseas: \")\n",
    "    print(\"Pizza vegetariana con mozzarella, tomate y \", end=\"\")\n",
    "    if ingrediente == \"1\":\n",
    "        print(\"pimiento\")\n",
    "    else: \n",
    "        print(\"tofu\")\n",
    "else:\n",
    "    print(\"Ingredientes de pizzas no vegetarianas\\n\\t1- Peperoni\\n\\t2- Jamón\\n\\t3- Salmón\\n\")\n",
    "    ingrediente = input(\"Introduce el ingrediente que deseas: \")\n",
    "    print(\"Pizza no vegetarina con mozarrella, tomate y \", end=\"\")\n",
    "    if ingrediente == \"1\":\n",
    "        print(\"peperoni\")\n",
    "    elif ingrediente == \"2\":\n",
    "        print(\"jamón\")\n",
    "    else:\n",
    "        print(\"salmón\")\n",
    "\n"
   ]
  }
 ],
 "metadata": {
  "kernelspec": {
   "display_name": "Python 3 (ipykernel)",
   "language": "python",
   "name": "python3"
  },
  "language_info": {
   "codemirror_mode": {
    "name": "ipython",
    "version": 3
   },
   "file_extension": ".py",
   "mimetype": "text/x-python",
   "name": "python",
   "nbconvert_exporter": "python",
   "pygments_lexer": "ipython3",
   "version": "3.9.13"
  }
 },
 "nbformat": 4,
 "nbformat_minor": 5
}
