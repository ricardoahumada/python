{
 "cells": [
  {
   "cell_type": "markdown",
   "id": "cb3deef7",
   "metadata": {},
   "source": [
    "**Ejercicio 1: imprime los primeros 10 números naturales usando un bucle while**"
   ]
  },
  {
   "cell_type": "markdown",
   "id": "9247e302",
   "metadata": {},
   "source": [
    "**Ejercicio 2: Imprime el siguiente patrón**\n",
    "\n",
    "```\n",
    "1\n",
    "1 2\n",
    "1 2 3\n",
    "1 2 3 4\n",
    "1 2 3 4 5\n",
    "```"
   ]
  },
  {
   "cell_type": "markdown",
   "id": "6532efbd",
   "metadata": {},
   "source": [
    "**Ejercicio 3: Calcular la suma de todos los números desde el 1 hasta un número dado**\n",
    "\n",
    "Escribe un programa para pedir un número al usuario y calculer la suma de todos los números desde 1 hasta el número dado\n",
    "\n",
    "Por ejemplo, si el usuario ingresó 10, la salida debería ser 55 (1+2+3+4+5+6+7+8+9+10)"
   ]
  },
  {
   "cell_type": "markdown",
   "id": "70a8519b",
   "metadata": {},
   "source": [
    "**Ejercicio 4: Escribe un programa para imprimir la tabla de multiplicar de un número dado**\n",
    "\n",
    "Por ejemplo, num = 2 \n",
    "\n",
    "`2\n",
    "4\n",
    "6\n",
    "8\n",
    "10\n",
    "12\n",
    "14\n",
    "16\n",
    "18\n",
    "20`"
   ]
  },
  {
   "cell_type": "markdown",
   "id": "b93748b6",
   "metadata": {},
   "source": [
    "**Ejercicio 5: Mostrar números de una lista usando bucle**\n",
    "\n",
    "Escriba un programa para mostrar solo aquellos números de una lista que satisfagan las siguientes condiciones:\n",
    "- El número debe ser divisible por cinco.\n",
    "- Si el número es mayor que 150, sáltar y procesar al siguiente número\n",
    "- Si el número es mayor que 500, detener el ciclo\n",
    "\n",
    "Dado:\n",
    "\n",
    "`numbers = [12, 75, 150, 180, 145, 525, 50]`\n",
    "\n",
    "Salida esperada:\n",
    "\n",
    "`75\n",
    "150\n",
    "145`"
   ]
  },
  {
   "cell_type": "markdown",
   "id": "49dbb34c",
   "metadata": {},
   "source": [
    "**Ejercicio 6: Cuenta el número total de dígitos de un número**\n",
    "\n",
    "Por ejemplo, para el número es 75869, la salida debería ser 5."
   ]
  },
  {
   "cell_type": "markdown",
   "id": "72210abf",
   "metadata": {},
   "source": [
    "**Ejercicio 7: Imprimir una lista en orden inverso usando un bucle**\n",
    "\n",
    "Dado:\n",
    "\n",
    "`list1 = [10, 20, 30, 40, 50]`\n",
    "\n",
    "Salida esperada:\n",
    "\n",
    "`50\n",
    "40\n",
    "30\n",
    "20\n",
    "10`\n"
   ]
  },
  {
   "cell_type": "markdown",
   "id": "2d7c5bee",
   "metadata": {},
   "source": [
    "**Ejercicio 8: usar el bloque `else` para mostrar un mensaje \"Terminado\" después de la ejecución exitosa del bucle for**\n",
    "\n",
    "Dado:\n",
    "\n",
    "`for i in range(5):\n",
    "    print(i)`\n",
    "\n",
    "Salida esperada:\n",
    "\n",
    "`0\n",
    "1\n",
    "2\n",
    "3\n",
    "4\n",
    "Terminado!`"
   ]
  },
  {
   "cell_type": "markdown",
   "id": "d6ad4a93",
   "metadata": {},
   "source": [
    "**Ejercicio 9: Escribe un programa para mostrar todos los números primos dentro de un rango**\n",
    "\n",
    "Dado:\n",
    "\n",
    "`start = 25\n",
    "end = 50`\n",
    "\n",
    "Salida esperada:\n",
    "\n",
    "`Los números primos entre 25 y 50 son:\n",
    "29\n",
    "31\n",
    "37\n",
    "41\n",
    "43\n",
    "47`"
   ]
  },
  {
   "cell_type": "markdown",
   "id": "b0627eb9",
   "metadata": {},
   "source": [
    "**Ejercicio 10: Mostrar series de Fibonacci hasta 10 términos**\n",
    "\n",
    "La secuencia de Fibonacci es una serie de números. El número siguiente de la serie se encuentra sumando los dos números anteriores. Los dos primeros números son 0 y 1.\n",
    "\n",
    "Por ejemplo, 0, 1, 1, 2, 3, 5, 8, 13, 21. El siguiente número en esta serie anterior es 13+21 = 34."
   ]
  },
  {
   "cell_type": "markdown",
   "id": "475496a7",
   "metadata": {},
   "source": [
    "**Ejercicio 11: Encuentra el factorial de un número dado**\n",
    "\n",
    "El factorial (símbolo: !) significa multiplicar todos los números enteros desde el número elegido hasta 1.\n",
    "\n",
    "Por ejemplo: calcular el factorial de 5\n",
    "\n",
    "`5! = 5 × 4 × 3 × 2 × 1 = 120`\n",
    "\n",
    "Salida esperada:\n",
    "`120`\n"
   ]
  },
  {
   "cell_type": "markdown",
   "id": "acd69de5",
   "metadata": {},
   "source": [
    "**Ejercicio 12: Invertir un número entero dado**\n",
    "\n",
    "Dado:\n",
    "\n",
    "76542\n",
    "\n",
    "Salida esperada:\n",
    "\n",
    "24567"
   ]
  },
  {
   "cell_type": "markdown",
   "id": "4b104a42",
   "metadata": {},
   "source": [
    "**Ejercicio 13: Usa un bucle para mostrar elementos de una lista dada presentes en posiciones impares del índice**\n",
    "\n",
    "Dado:\n",
    "\n",
    "`my_list = [10, 20, 30, 40, 50, 60, 70, 80, 90, 100]`\n",
    "\n",
    "Nota: el índice de la lista siempre comienza en 0\n",
    "\n",
    "Salida esperada:\n",
    "\n",
    "`20 40 60 80 100`"
   ]
  },
  {
   "cell_type": "markdown",
   "id": "85f1047c",
   "metadata": {},
   "source": [
    "**Ejercicio 14: Calcular el cubo de todos los números desde el 1 hasta un número dado**\n",
    "\n",
    "Dado:\n",
    "\n",
    "`input_number = 6`\n",
    "\n",
    "Salida esperada:\n",
    "\n",
    "`El número actual es: 1 y el cubo es 1\n",
    "Número actual es: 2 y el cubo es 8\n",
    "Número actual es: 3 y el cubo es 27\n",
    "Número actual es: 4 y el cubo es 64\n",
    "Número actual es: 5 y el cubo es 125\n",
    "Número actual es: 6 y el cubo es 216`\n"
   ]
  },
  {
   "cell_type": "markdown",
   "id": "53f3d05b",
   "metadata": {},
   "source": [
    "**Ejercicio 15: Encuentra la suma de la serie hasta n términos**\n",
    "\n",
    "Escribe un programa para calcular la suma de series hasta n término. Por ejemplo, si n =5 la serie se convertirá en 2 + 22 + 222 + 2222 + 22222 = 24690\n",
    "\n",
    "Dado:\n",
    "n = 5\n",
    "\n",
    "Salida esperada:\n",
    "24690"
   ]
  },
  {
   "cell_type": "markdown",
   "id": "f0cf2897",
   "metadata": {},
   "source": [
    "**Ejercicio 16: Imprime el siguiente patrón**\n",
    "\n",
    "Escribe un programa para imprimir el siguiente patrón usando el ciclo for\n",
    "```\n",
    "*\n",
    "* *\n",
    "* * *\n",
    "* * * *\n",
    "* * * * *\n",
    "* * * *\n",
    "* * *\n",
    "* *\n",
    "*\n",
    "```"
   ]
  }
 ],
 "metadata": {
  "kernelspec": {
   "display_name": "Python 3 (ipykernel)",
   "language": "python",
   "name": "python3"
  },
  "language_info": {
   "codemirror_mode": {
    "name": "ipython",
    "version": 3
   },
   "file_extension": ".py",
   "mimetype": "text/x-python",
   "name": "python",
   "nbconvert_exporter": "python",
   "pygments_lexer": "ipython3",
   "version": "3.9.13"
  }
 },
 "nbformat": 4,
 "nbformat_minor": 5
}
