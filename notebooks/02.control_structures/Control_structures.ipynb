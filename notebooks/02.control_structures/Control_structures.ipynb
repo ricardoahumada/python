{
 "cells": [
  {
   "cell_type": "markdown",
   "id": "1ced08bb",
   "metadata": {},
   "source": [
    "Una estructura de control, es un bloque de código que permite agrupar instrucciones de manera controlada. En este capítulo, hablaremos sobre dos estructuras de control:\n",
    "\n",
    "- Estructuras de control condicionales\n",
    "- Estructuras de control iterativas"
   ]
  },
  {
   "cell_type": "markdown",
   "id": "1e25f929",
   "metadata": {},
   "source": [
    "# Identación\n",
    "\n",
    "La identación es lo que la sangría al lenguaje humano escrito (a nivel formal). Así como para el lenguaje formal, cuando uno redacta una carta, debe respetar ciertas sangrías, los lenguajes informáticos, requieren una identación.\n",
    ">PEP 8: identación\n",
    "Una identación de 4 (cuatro) espacios en blanco, indicará que las instrucciones identadas, forman parte de una misma estructura de control.\n",
    "\n",
    "Una estructura de control, entonces, se define de la siguiente forma:\n",
    "\n",
    "`inicio de la estructura de control:\n",
    "    expresiones`"
   ]
  },
  {
   "cell_type": "markdown",
   "id": "b5513052",
   "metadata": {},
   "source": [
    "# Asignación múltiple\n",
    "\n",
    "En python se puede asignar en una sola instrucción, múltiples variables:\n",
    "\n",
    "`a, b, c = 'string', 15, True`\n"
   ]
  },
  {
   "cell_type": "code",
   "execution_count": 1,
   "id": "5425e598",
   "metadata": {},
   "outputs": [
    {
     "data": {
      "text/plain": [
       "('string', 15, True)"
      ]
     },
     "execution_count": 1,
     "metadata": {},
     "output_type": "execute_result"
    }
   ],
   "source": [
    "a, b, c = 'string', 15, True\n",
    "a,b,c"
   ]
  },
  {
   "cell_type": "code",
   "execution_count": 4,
   "id": "e8d4de4e",
   "metadata": {},
   "outputs": [
    {
     "data": {
      "text/plain": [
       "('hola mundo', 2014)"
      ]
     },
     "execution_count": 4,
     "metadata": {},
     "output_type": "execute_result"
    }
   ],
   "source": [
    "# de una tupla\n",
    "mi_tupla = ('hola mundo', 2014) \n",
    "texto, anio = mi_tupla \n",
    "texto, anio"
   ]
  },
  {
   "cell_type": "code",
   "execution_count": 7,
   "id": "98e7c1a4",
   "metadata": {},
   "outputs": [
    {
     "data": {
      "text/plain": [
       "('Argentina', 'Buenos Aires')"
      ]
     },
     "execution_count": 7,
     "metadata": {},
     "output_type": "execute_result"
    }
   ],
   "source": [
    "# de una lista\n",
    "mi_lista = ['Argentina', 'Buenos Aires'] \n",
    "pais, provincia = mi_lista\n",
    "pais, provincia"
   ]
  },
  {
   "cell_type": "markdown",
   "id": "c0185402",
   "metadata": {},
   "source": [
    "# Estructuras de control de flujo condicionales\n",
    "\n",
    ">\"[...] Los condicionales nos permiten comprobar condiciones y hacer que nuestro programa se comporte de una forma u otra, que ejecute un fragmento de código u otro, dependiendo de esta condición [...]\" (Python para Todos de Raúl González Duque )"
   ]
  },
  {
   "cell_type": "markdown",
   "id": "3c736b5a",
   "metadata": {},
   "source": [
    "Para describir la evaluación a realizar sobre una condición, se utilizan operadores relacionales (o de comparación):\n",
    "\n",
    "<table>\n",
    "<thead>\n",
    "<tr>\n",
    "<th>Símbolo</th>\n",
    "<th>Significado</th>\n",
    "<th>Ejemplo</th>\n",
    "<th>Resultado</th>\n",
    "</tr>\n",
    "</thead>\n",
    "<tbody>\n",
    "<tr>\n",
    "<td><code>==</code></td>\n",
    "<td>Igual que</td>\n",
    "<td><code>5 == 7</code></td>\n",
    "<td><code>False</code></td>\n",
    "</tr>\n",
    "<tr>\n",
    "<td><code>!=</code></td>\n",
    "<td>Distinto que</td>\n",
    "<td><code>rojo != verde</code></td>\n",
    "<td><code>True</code></td>\n",
    "</tr>\n",
    "<tr>\n",
    "<td><code>&lt;</code></td>\n",
    "<td>Menor que</td>\n",
    "<td><code>8 &lt; 12</code></td>\n",
    "<td><code>True</code></td>\n",
    "</tr>\n",
    "<tr>\n",
    "<td><code>&gt;</code></td>\n",
    "<td>Mayor que</td>\n",
    "<td><code>12 &gt; 7</code></td>\n",
    "<td><code>True</code></td>\n",
    "</tr>\n",
    "<tr>\n",
    "<td><code>&lt;=</code></td>\n",
    "<td>Menor o igual que</td>\n",
    "<td><code>12 &lt;= 12</code></td>\n",
    "<td><code>True</code></td>\n",
    "</tr>\n",
    "<tr>\n",
    "<td><code>&gt;=</code></td>\n",
    "<td>Mayor o igual que</td>\n",
    "<td><code>4 &gt;= 5</code></td>\n",
    "<td><code>False</code></td>\n",
    "</tr>\n",
    "</tbody>\n",
    "</table>"
   ]
  },
  {
   "cell_type": "markdown",
   "id": "aba0d853",
   "metadata": {},
   "source": [
    "Y para evaluar más de una condición simultáneamente, se utilizan operadores lógicos:\n",
    "\n",
    "<table>\n",
    "<thead>\n",
    "<tr>\n",
    "<th>Operador</th>\n",
    "<th>Ejemplo</th>\n",
    "<th>Explicación</th>\n",
    "<th>Resultado</th>\n",
    "</tr>\n",
    "</thead>\n",
    "<tbody>\n",
    "<tr>\n",
    "<td><code>and</code></td>\n",
    "<td><code>5 == 7 and 7 &lt; 12</code></td>\n",
    "<td><code>False and False</code></td>\n",
    "<td><code>False</code></td>\n",
    "</tr>\n",
    "<tr>\n",
    "<td><code>and</code></td>\n",
    "<td><code>9 &lt; 12 and 12 &gt; 7</code></td>\n",
    "<td><code>True and True</code></td>\n",
    "<td><code>True</code></td>\n",
    "</tr>\n",
    "<tr>\n",
    "<td><code>and</code></td>\n",
    "<td><code>9 &lt; 12 and 12 &gt; 15</code></td>\n",
    "<td><code>True and False</code></td>\n",
    "<td><code>False</code></td>\n",
    "</tr>\n",
    "<tr>\n",
    "<td><code>or</code></td>\n",
    "<td><code>12 == 12 or 15 &lt; 7</code></td>\n",
    "<td><code>True or False</code></td>\n",
    "<td><code>True</code></td>\n",
    "</tr>\n",
    "<tr>\n",
    "<td><code>or</code></td>\n",
    "<td><code>7 &gt; 5 or 9 &lt; 12</code></td>\n",
    "<td><code>True or True</code></td>\n",
    "<td><code>True</code></td>\n",
    "</tr>\n",
    "<tr>\n",
    "<td><code>xor</code></td>\n",
    "<td><code>4 == 4 xor 9 &gt; 3</code></td>\n",
    "<td><code>True o True</code></td>\n",
    "<td><code>False</code></td>\n",
    "</tr>\n",
    "<tr>\n",
    "<td><code>xor</code></td>\n",
    "<td><code>4 == 4 xor 9 &lt; 3</code></td>\n",
    "<td><code>True o False</code></td>\n",
    "<td><code>True</code></td>\n",
    "</tr>\n",
    "</tbody>\n",
    "</table>"
   ]
  },
  {
   "cell_type": "markdown",
   "id": "6405dddf",
   "metadata": {},
   "source": [
    "**Las estructuras de control de flujo condicionales, se definen mediante el uso de tres palabras claves reservadas, del lenguaje: if (si), elif (sino, si) y else (sino).**"
   ]
  },
  {
   "cell_type": "code",
   "execution_count": 13,
   "id": "fe585dc3",
   "metadata": {},
   "outputs": [
    {
     "name": "stdout",
     "output_type": "stream",
     "text": [
      "Cruzar la calle\n"
     ]
    }
   ],
   "source": [
    "# Si semáforo esta en verde, cruzar la calle. Sino, esperar.\n",
    "semaforo='verde'\n",
    "\n",
    "if semaforo == 'verde': \n",
    "    print (\"Cruzar la calle\")\n",
    "else: \n",
    "    print (\"Esperar\")"
   ]
  },
  {
   "cell_type": "code",
   "execution_count": 16,
   "id": "af10d02e",
   "metadata": {},
   "outputs": [
    {
     "name": "stdout",
     "output_type": "stream",
     "text": [
      "Pago en efectivo\n"
     ]
    }
   ],
   "source": [
    "# Si gasto hasta 100 eur, pago con dinero en efectivo. Si no, si gasto más de 100eur pero menos de 300eur, pago con tarjeta de débito. Si no, pago con tarjeta de crédito.\n",
    "\n",
    "compra = 50\n",
    "\n",
    "if compra <= 100: \n",
    "    print(\"Pago en efectivo\" )\n",
    "elif compra > 100 and compra < 300: \n",
    "    print(\"Pago con tarjeta de débito\" )\n",
    "else: \n",
    "    print(\"Pago con tarjeta de crédito\")"
   ]
  },
  {
   "cell_type": "code",
   "execution_count": 20,
   "id": "2949ed78",
   "metadata": {},
   "outputs": [
    {
     "data": {
      "text/plain": [
       "180.0"
      ]
     },
     "execution_count": 20,
     "metadata": {},
     "output_type": "execute_result"
    }
   ],
   "source": [
    "# Si la compra es mayor a 100eur, obtengo un descuento del 10%.\n",
    "\n",
    "total_compra = 200\n",
    "\n",
    "importe_a_pagar = total_compra \n",
    "if total_compra > 100: \n",
    "    tasa_descuento = 10 \n",
    "    importe_descuento = total_compra * tasa_descuento / 100 \n",
    "    importe_a_pagar = total_compra - importe_descuento\n",
    "    \n",
    "importe_a_pagar"
   ]
  },
  {
   "attachments": {},
   "cell_type": "markdown",
   "id": "a332f650",
   "metadata": {},
   "source": [
    "# Estructuras de control iterativas\n",
    "\n",
    "Las estructuras de control iterativas (también llamadas loops, cíclicas o bucles), nos permiten ejecutar un mismo código, de manera repetida, mientras se cumpla una condición.\n",
    "\n",
    "En Python se dispone de dos estructuras cíclicas:\n",
    "\n",
    "- El bucle while\n",
    "- El bucle for"
   ]
  },
  {
   "attachments": {
    "image.png": {
     "image/png": "[encoded data removed]"
    }
   },
   "cell_type": "markdown",
   "id": "eb3e93a0",
   "metadata": {},
   "source": [
    "## Bucle while\n",
    "\n",
    "Este bucle, se encarga de ejecutar una misma acción \"mientras que\" una determinada condición se cumpla. \n",
    "\n",
    "![image.png](attachment:image.png)"
   ]
  },
  {
   "cell_type": "code",
   "execution_count": 33,
   "id": "9f422456",
   "metadata": {},
   "outputs": [
    {
     "name": "stdout",
     "output_type": "stream",
     "text": [
      "Informes del Año 2001\n",
      "Informes del Año 2002\n",
      "Informes del Año 2003\n",
      "Informes del Año 2004\n",
      "Informes del Año 2005\n",
      "Informes del Año 2006\n",
      "Informes del Año 2007\n",
      "Informes del Año 2008\n",
      "Informes del Año 2009\n",
      "Informes del Año 2010\n",
      "Informes del Año 2011\n",
      "Informes del Año 2012\n",
      "Informes del Año 2013\n",
      "Informes del Año 2014\n",
      "Informes del Año 2015\n",
      "Informes del Año 2016\n",
      "Informes del Año 2017\n",
      "Informes del Año 2018\n",
      "Informes del Año 2019\n",
      "Informes del Año 2020\n",
      "Informes del Año 2021\n",
      "Informes del Año 2022\n"
     ]
    },
    {
     "data": {
      "text/plain": [
       "2023"
      ]
     },
     "execution_count": 33,
     "metadata": {},
     "output_type": "execute_result"
    }
   ],
   "source": [
    "# Ejemplo: Mientras que año sea menor o igual a 2012, imprimir la frase \"Informes del Año año\".\n",
    "\n",
    "anio = 2001 \n",
    "while anio <= 2022: \n",
    "    print(\"Informes del Año\", str(anio) )\n",
    "    anio += 1\n",
    "    \n",
    "anio"
   ]
  },
  {
   "cell_type": "markdown",
   "id": "c9a0c062",
   "metadata": {},
   "source": [
    "**¿Qué sucede si el valor que condiciona la iteración no es numérico y no puede incrementarse? **\n",
    "\n",
    "En ese caso, podremos utilizar una estructura de control condicional, anidada dentro del bucle, y frenar la ejecución cuando el condicional deje de cumplirse, con la palabra clave reservada `break`:"
   ]
  },
  {
   "cell_type": "code",
   "execution_count": 29,
   "id": "63a0510a",
   "metadata": {},
   "outputs": [
    {
     "name": "stdout",
     "output_type": "stream",
     "text": [
      "Indique su nombre: fu\n"
     ]
    }
   ],
   "source": [
    "while True:\n",
    "    nombre = input(\"Indique su nombre: \")\n",
    "    if nombre:\n",
    "        break"
   ]
  },
  {
   "attachments": {
    "image-2.png": {
     "image/png": "[encoded data removed]"
    }
   },
   "cell_type": "markdown",
   "id": "30664bf6",
   "metadata": {},
   "source": [
    "## Bucle for\n",
    "\n",
    "Permite iterar sobre una variable compleja, del tipo lista o tupla:\n",
    "\n",
    "![image-2.png](attachment:image-2.png)"
   ]
  },
  {
   "cell_type": "code",
   "execution_count": 35,
   "id": "5c1af1a5",
   "metadata": {},
   "outputs": [
    {
     "name": "stdout",
     "output_type": "stream",
     "text": [
      "Juan\n",
      "Antonio\n",
      "Pedro\n",
      "Herminio\n"
     ]
    }
   ],
   "source": [
    "# Ejemplo: Por cada nombre en mi_lista, imprimir nombre\n",
    "\n",
    "mi_lista = ['Juan', 'Antonio', 'Pedro', 'Herminio'] \n",
    "for nombre in mi_lista: \n",
    "    print(nombre)"
   ]
  },
  {
   "cell_type": "code",
   "execution_count": 37,
   "id": "3ce88abc",
   "metadata": {},
   "outputs": [
    {
     "name": "stdout",
     "output_type": "stream",
     "text": [
      "rosa\n",
      "verde\n",
      "celeste\n",
      "amarillo\n"
     ]
    }
   ],
   "source": [
    "# Por cada color en mi_tupla, imprimir color:\n",
    "\n",
    "mi_tupla = ('rosa', 'verde', 'celeste', 'amarillo') \n",
    "for color in mi_tupla: \n",
    "    print(color)"
   ]
  },
  {
   "cell_type": "code",
   "execution_count": 39,
   "id": "384d454c",
   "metadata": {},
   "outputs": [
    {
     "name": "stdout",
     "output_type": "stream",
     "text": [
      "Informes del Año 2001\n",
      "Informes del Año 2002\n",
      "Informes del Año 2003\n",
      "Informes del Año 2004\n",
      "Informes del Año 2005\n",
      "Informes del Año 2006\n",
      "Informes del Año 2007\n",
      "Informes del Año 2008\n",
      "Informes del Año 2009\n",
      "Informes del Año 2010\n",
      "Informes del Año 2011\n",
      "Informes del Año 2012\n",
      "Informes del Año 2013\n",
      "Informes del Año 2014\n",
      "Informes del Año 2015\n",
      "Informes del Año 2016\n",
      "Informes del Año 2017\n",
      "Informes del Año 2018\n",
      "Informes del Año 2019\n",
      "Informes del Año 2020\n",
      "Informes del Año 2021\n"
     ]
    }
   ],
   "source": [
    "# Otra forma de iterar con el bucle for, puede emular a while:\n",
    "# Por cada año en el rango 2001 a 2013, imprimir la frase \"Informes del Año año\":\n",
    "\n",
    "for anio in range(2001, 2022): \n",
    "    print(\"Informes del Año\", str(anio))"
   ]
  }
 ],
 "metadata": {
  "kernelspec": {
   "display_name": "Python 3 (ipykernel)",
   "language": "python",
   "name": "python3"
  },
  "language_info": {
   "codemirror_mode": {
    "name": "ipython",
    "version": 3
   },
   "file_extension": ".py",
   "mimetype": "text/x-python",
   "name": "python",
   "nbconvert_exporter": "python",
   "pygments_lexer": "ipython3",
   "version": "3.9.13"
  }
 },
 "nbformat": 4,
 "nbformat_minor": 5
}
