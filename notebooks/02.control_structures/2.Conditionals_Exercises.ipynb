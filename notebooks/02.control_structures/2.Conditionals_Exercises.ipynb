{
 "cells": [
  {
   "cell_type": "markdown",
   "id": "faddde98",
   "metadata": {},
   "source": [
    "**Ejercicio 1**\n",
    "\n",
    "Escribir un programa que pregunte al usuario su edad y muestre por pantalla si es mayor de edad o no."
   ]
  },
  {
   "cell_type": "markdown",
   "id": "6aeb5735",
   "metadata": {},
   "source": [
    "**Ejercicio 2**\n",
    "\n",
    "Escribir un programa que almacene la cadena de caracteres contraseña en una variable, pregunte al usuario por la contraseña e imprima por pantalla si la contraseña introducida por el usuario coincide con la guardada en la variable sin tener en cuenta mayúsculas y minúsculas."
   ]
  },
  {
   "cell_type": "markdown",
   "id": "eadb302d",
   "metadata": {},
   "source": [
    "**Ejercicio 3**\n",
    "\n",
    "Dados 3 números, `a, b c`, escribe un programa que: \n",
    "- Encuentre el mayor\n",
    "- Los ordene de mayor a menor"
   ]
  },
  {
   "cell_type": "markdown",
   "id": "2afb00e8",
   "metadata": {},
   "source": [
    "**Ejercicio 4**\n",
    "\n",
    "Los tramos impositivos para la declaración de la renta en un determinado país son los siguientes:\n",
    "\n",
    "<table>\n",
    "<thead>\n",
    "<tr>\n",
    "<th style=\"text-align:center\">Renta</th>\n",
    "<th style=\"text-align:center\">Tipo impositivo</th>\n",
    "</tr>\n",
    "</thead>\n",
    "<tbody>\n",
    "<tr>\n",
    "<td style=\"text-align:center\">Menos de 10000€</td>\n",
    "<td style=\"text-align:center\">5%</td>\n",
    "</tr>\n",
    "<tr>\n",
    "<td style=\"text-align:center\">Entre 10000€ y 20000€</td>\n",
    "<td style=\"text-align:center\">15%</td>\n",
    "</tr>\n",
    "<tr>\n",
    "<td style=\"text-align:center\">Entre 20000€ y 35000€</td>\n",
    "<td style=\"text-align:center\">20%</td>\n",
    "</tr>\n",
    "<tr>\n",
    "<td style=\"text-align:center\">Entre 35000€ y 60000€</td>\n",
    "<td style=\"text-align:center\">30%</td>\n",
    "</tr>\n",
    "<tr>\n",
    "<td style=\"text-align:center\">Más de 60000€</td>\n",
    "<td style=\"text-align:center\">45%</td>\n",
    "</tr>\n",
    "</tbody>\n",
    "</table>\n",
    "\n",
    "Escribir un programa que pregunte al usuario su renta anual y muestre por pantalla el tipo impositivo que le corresponde."
   ]
  },
  {
   "cell_type": "markdown",
   "id": "b5650e11",
   "metadata": {},
   "source": [
    "**Ejercicio 5**\n",
    "\n",
    "La pizzería Bella Napoli ofrece pizzas vegetarianas y no vegetarianas a sus clientes. Los ingredientes para cada tipo de pizza aparecen a continuación.\n",
    "\n",
    "- Ingredientes vegetarianos: Pimiento y tofu.\n",
    "- Ingredientes no vegetarianos: Peperoni, Jamón y Salmón.\n",
    "\n",
    "Escribir un programa que pregunte al usuario si quiere una pizza vegetariana o no, y en función de su respuesta le muestre un menú con los ingredientes disponibles para que elija. Solo se puede eligir un ingrediente además de la mozzarella y el tomate que están en todas la pizzas. Al final se debe mostrar por pantalla si la pizza elegida es vegetariana o no y todos los ingredientes que lleva."
   ]
  }
 ],
 "metadata": {
  "kernelspec": {
   "display_name": "Python 3 (ipykernel)",
   "language": "python",
   "name": "python3"
  },
  "language_info": {
   "codemirror_mode": {
    "name": "ipython",
    "version": 3
   },
   "file_extension": ".py",
   "mimetype": "text/x-python",
   "name": "python",
   "nbconvert_exporter": "python",
   "pygments_lexer": "ipython3",
   "version": "3.9.13"
  }
 },
 "nbformat": 4,
 "nbformat_minor": 5
}
