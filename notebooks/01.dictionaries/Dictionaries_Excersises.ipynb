{
 "cells": [
  {
   "cell_type": "markdown",
   "id": "a07aad11",
   "metadata": {},
   "source": [
    "**Ejercicio 1:**\n",
    "\n",
    "Escribir un programa que pregunte al usuario su nombre, edad, dirección y teléfono y lo guarde en un diccionario. Después debe mostrar por pantalla el mensaje `<nombre> tiene <edad> años, vive en <dirección> y su número de teléfono es <teléfono>`."
   ]
  },
  {
   "cell_type": "markdown",
   "id": "a8a30a0b",
   "metadata": {},
   "source": [
    "**Ejercicio 2:**\n",
    "\n",
    "Escribir un programa que guarde en un diccionario los precios de las frutas de la tabla, pregunte al usuario por una fruta, un número de kilos y muestre por pantalla el precio de ese número de kilos de fruta. Si la fruta no está en el diccionario debe mostrar un mensaje informando de ello.\n",
    "\n",
    "<table>\n",
    "<thead>\n",
    "<tr>\n",
    "<th style=\"text-align:left\">Fruta</th>\n",
    "<th style=\"text-align:center\">Precio</th>\n",
    "</tr>\n",
    "</thead>\n",
    "<tbody>\n",
    "<tr>\n",
    "<td style=\"text-align:left\">Plátano</td>\n",
    "<td style=\"text-align:center\">1.35</td>\n",
    "</tr>\n",
    "<tr>\n",
    "<td style=\"text-align:left\">Manzana</td>\n",
    "<td style=\"text-align:center\">0.80</td>\n",
    "</tr>\n",
    "<tr>\n",
    "<td style=\"text-align:left\">Pera</td>\n",
    "<td style=\"text-align:center\">0.85</td>\n",
    "</tr>\n",
    "<tr>\n",
    "<td style=\"text-align:left\">Naranja</td>\n",
    "<td style=\"text-align:center\">0.70</td>\n",
    "</tr>\n",
    "</tbody>\n",
    "</table>"
   ]
  },
  {
   "cell_type": "markdown",
   "id": "1ca8f096",
   "metadata": {},
   "source": [
    "**Ejercicio 3**\n",
    "\n",
    "Escribir un programa que pregunte una fecha en formato `dd/mm/aaaa` y muestre por pantalla la misma fecha en formato `dd de <mes> de aaaa donde <mes>` es el nombre del mes."
   ]
  },
  {
   "cell_type": "markdown",
   "id": "670a6460",
   "metadata": {},
   "source": [
    "**Ejercicio 4**\n",
    "\n",
    "Escribir un programa que almacene el diccionario con los créditos de las asignaturas de un curso {'Matemáticas': 6, 'Física': 4, 'Química': 5} y después muestre por pantalla los créditos de cada asignatura en el formato `<asignatura> tiene <créditos> créditos`, donde `<asignatura>` es cada una de las asignaturas del curso, y `<créditos>` son sus créditos. Al final debe mostrar también el número total de créditos del curso."
   ]
  },
  {
   "cell_type": "markdown",
   "id": "46114f5b",
   "metadata": {},
   "source": [
    "**Ejercicio 5**\n",
    "\n",
    "Escribir un programa que permita gestionar la base de datos de clientes de una empresa. Los clientes se guardarán en un diccionario en el que la clave de cada cliente será su NIF, y el valor será otro diccionario con los datos del cliente (nombre, dirección, teléfono, correo, preferente), donde preferente tendrá el valor True si se trata de un cliente preferente. El programa debe preguntar al usuario por una opción del siguiente menú: (1) Añadir cliente, (2) Eliminar cliente, (3) Mostrar cliente, (4) Listar todos los clientes, (5) Listar clientes preferentes, (6) Terminar. En función de la opción elegida el programa tendrá que hacer lo siguiente:\n",
    "\n",
    "- Preguntar los datos del cliente, crear un diccionario con los datos y añadirlo a la base de datos.\n",
    "- Preguntar por el NIF del cliente y eliminar sus datos de la base de datos.\n",
    "- Preguntar por el NIF del cliente y mostrar sus datos.\n",
    "- Mostrar lista de todos los clientes de la base datos con su NIF y nombre.\n",
    "- Mostrar la lista de clientes preferentes de la base de datos con su NIF y nombre.\n",
    "- Terminar el programa."
   ]
  }
 ],
 "metadata": {
  "kernelspec": {
   "display_name": "Python 3 (ipykernel)",
   "language": "python",
   "name": "python3"
  },
  "language_info": {
   "codemirror_mode": {
    "name": "ipython",
    "version": 3
   },
   "file_extension": ".py",
   "mimetype": "text/x-python",
   "name": "python",
   "nbconvert_exporter": "python",
   "pygments_lexer": "ipython3",
   "version": "3.9.13"
  }
 },
 "nbformat": 4,
 "nbformat_minor": 5
}
