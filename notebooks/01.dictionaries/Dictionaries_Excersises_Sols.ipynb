{
 "cells": [
  {
   "cell_type": "markdown",
   "id": "d2499113",
   "metadata": {},
   "source": [
    "*ref: https://aprendeconalf.es/docencia/python/ejercicios/diccionarios/*"
   ]
  },
  {
   "cell_type": "markdown",
   "id": "a07aad11",
   "metadata": {},
   "source": [
    "**Ejercicio 1:**\n",
    "\n",
    "Escribir un programa que pregunte al usuario su nombre, edad, dirección y teléfono y lo guarde en un diccionario. Después debe mostrar por pantalla el mensaje `<nombre> tiene <edad> años, vive en <dirección> y su número de teléfono es <teléfono>`."
   ]
  },
  {
   "cell_type": "code",
   "execution_count": null,
   "id": "981de4c3",
   "metadata": {},
   "outputs": [],
   "source": [
    "nombre = input('¿Cómo te llamas? ')\n",
    "edad = input('¿Cuántos años tienes? ')\n",
    "direccion = input('¿Cuál es tu dirección? ')\n",
    "telefono = input('¿Cuál es tu número de teléfono? ')\n",
    "\n",
    "persona = {'nombre': nombre, 'edad': edad, 'direccion': direccion, 'telefono': telefono}\n",
    "print('------------------')\n",
    "print(persona['nombre'], 'tiene', persona['edad'], 'años, vive en', persona['direccion'], 'y su número de teléfono es', persona['telefono'])"
   ]
  },
  {
   "cell_type": "markdown",
   "id": "a8a30a0b",
   "metadata": {},
   "source": [
    "**Ejercicio 2:**\n",
    "\n",
    "Escribir un programa que guarde en un diccionario los precios de las frutas de la tabla, pregunte al usuario por una fruta, un número de kilos y muestre por pantalla el precio de ese número de kilos de fruta. Si la fruta no está en el diccionario debe mostrar un mensaje informando de ello.\n",
    "\n",
    "<table>\n",
    "<thead>\n",
    "<tr>\n",
    "<th style=\"text-align:left\">Fruta</th>\n",
    "<th style=\"text-align:center\">Precio</th>\n",
    "</tr>\n",
    "</thead>\n",
    "<tbody>\n",
    "<tr>\n",
    "<td style=\"text-align:left\">Plátano</td>\n",
    "<td style=\"text-align:center\">1.35</td>\n",
    "</tr>\n",
    "<tr>\n",
    "<td style=\"text-align:left\">Manzana</td>\n",
    "<td style=\"text-align:center\">0.80</td>\n",
    "</tr>\n",
    "<tr>\n",
    "<td style=\"text-align:left\">Pera</td>\n",
    "<td style=\"text-align:center\">0.85</td>\n",
    "</tr>\n",
    "<tr>\n",
    "<td style=\"text-align:left\">Naranja</td>\n",
    "<td style=\"text-align:center\">0.70</td>\n",
    "</tr>\n",
    "</tbody>\n",
    "</table>"
   ]
  },
  {
   "cell_type": "code",
   "execution_count": null,
   "id": "496bfa5d",
   "metadata": {},
   "outputs": [],
   "source": [
    "frutas = {'Plátano':1.35, 'Manzana':0.8, 'Pera':0.85, 'Naranja':0.7}\n",
    "fruta = input('¿Qué fruta quieres? ').title()\n",
    "kg = float(input('¿Cuántos kilos? '))\n",
    "if fruta in frutas:\n",
    "    print(kg, 'kilos de', fruta, 'valen', frutas[fruta]*kg, '€')\n",
    "else: \n",
    "    print(\"Lo siento, la fruta\", fruta, \"no está disponible.\")"
   ]
  },
  {
   "cell_type": "markdown",
   "id": "1ca8f096",
   "metadata": {},
   "source": [
    "**Ejercicio 3**\n",
    "\n",
    "Escribir un programa que pregunte una fecha en formato `dd/mm/aaaa` y muestre por pantalla la misma fecha en formato `dd de <mes> de aaaa donde <mes>` es el nombre del mes."
   ]
  },
  {
   "cell_type": "code",
   "execution_count": null,
   "id": "1da2cce5",
   "metadata": {},
   "outputs": [],
   "source": [
    "meses = {1:'enero', 2:'febrero', 3:'marzo', 4:'abril', 5:'mayo', 6:'junio', 7:'julio', 8:'agosto', 9:'septiembre', 10:'octubre', 11:'noviembre', 12:'diciembre'}\n",
    "fecha = input('Introduce una fecha en formato dd/mm/aaaa: ')\n",
    "fecha = fecha.split('/')\n",
    "print(fecha[0], 'de', meses[int(fecha[1])], 'de', fecha[2])"
   ]
  },
  {
   "cell_type": "markdown",
   "id": "670a6460",
   "metadata": {},
   "source": [
    "**Ejercicio 4**\n",
    "\n",
    "Escribir un programa que almacene el diccionario con los créditos de las asignaturas de un curso {'Matemáticas': 6, 'Física': 4, 'Química': 5} y después muestre por pantalla los créditos de cada asignatura en el formato `<asignatura> tiene <créditos> créditos`, donde `<asignatura>` es cada una de las asignaturas del curso, y `<créditos>` son sus créditos. Al final debe mostrar también el número total de créditos del curso."
   ]
  },
  {
   "cell_type": "code",
   "execution_count": null,
   "id": "8ddb8323",
   "metadata": {},
   "outputs": [],
   "source": [
    "curso = {'Matemáticas': 6, 'Física': 4, 'Química': 5}\n",
    "total_creditos = 0\n",
    "for asignatura, creditos in curso.items():\n",
    "    print(asignatura, 'tiene', creditos, 'créditos')\n",
    "    total_creditos += creditos\n",
    "print('Número total de créditos del curso: ', total_creditos)"
   ]
  },
  {
   "cell_type": "markdown",
   "id": "46114f5b",
   "metadata": {},
   "source": [
    "**Ejercicio 5**\n",
    "\n",
    "Escribir un programa que permita gestionar la base de datos de clientes de una empresa. Los clientes se guardarán en un diccionario en el que la clave de cada cliente será su NIF, y el valor será otro diccionario con los datos del cliente (nombre, dirección, teléfono, correo, preferente), donde preferente tendrá el valor True si se trata de un cliente preferente. El programa debe preguntar al usuario por una opción del siguiente menú: (1) Añadir cliente, (2) Eliminar cliente, (3) Mostrar cliente, (4) Listar todos los clientes, (5) Listar clientes preferentes, (6) Terminar. En función de la opción elegida el programa tendrá que hacer lo siguiente:\n",
    "\n",
    "- Preguntar los datos del cliente, crear un diccionario con los datos y añadirlo a la base de datos.\n",
    "- Preguntar por el NIF del cliente y eliminar sus datos de la base de datos.\n",
    "- Preguntar por el NIF del cliente y mostrar sus datos.\n",
    "- Mostrar lista de todos los clientes de la base datos con su NIF y nombre.\n",
    "- Mostrar la lista de clientes preferentes de la base de datos con su NIF y nombre.\n",
    "- Terminar el programa."
   ]
  },
  {
   "cell_type": "code",
   "execution_count": null,
   "id": "13d32e8c",
   "metadata": {},
   "outputs": [],
   "source": [
    "clientes = {}\n",
    "opcion = ''\n",
    "while opcion != '6':\n",
    "    if opcion == '1':\n",
    "        nif = input('Introduce NIF del cliente: ')\n",
    "        nombre = input('Introduce el nombre del cliente: ')\n",
    "        direccion = input('Introduce la dirección del cliente: ')\n",
    "        telefono = input('Introduce el teléfono del cliente: ')\n",
    "        email = input('Introduce el correo electrónico del cliente: ')\n",
    "        vip = input('¿Es un cliente preferente (S/N)? ')\n",
    "        cliente = {'nombre':nombre, 'dirección':direccion, 'teléfono':telefono, 'email':email, 'preferente':vip=='S'}\n",
    "        clientes[nif] = cliente\n",
    "    if opcion == '2':\n",
    "        nif = input('Introduce NIF del cliente: ')\n",
    "        if nif in clientes:\n",
    "            del clientes[nif]\n",
    "        else:\n",
    "            print('No existe el cliente con el nif', nif)\n",
    "    if opcion == '3':\n",
    "        nif = input('Introduce NIF del cliente: ')\n",
    "        if nif in clientes:\n",
    "            print('NIF:', nif)\n",
    "            for clave, valor in clientes[nif].items():\n",
    "                print(clave.title() + ':', valor)\n",
    "        else:\n",
    "            print('No existe el cliente con el nif', nif)\n",
    "    if opcion == '4':\n",
    "        print('Lista de clientes')\n",
    "        for clave, valor in clientes.items():\n",
    "            print(clave, valor['nombre'])\n",
    "    if opcion == '5':\n",
    "        print('Lista de clientes preferentes')\n",
    "        for clave, valor in clientes.items():\n",
    "            if valor['preferente']:\n",
    "                print(clave, valor['nombre'])\n",
    "    opcion = input('Menú de opciones\\n(1) Añadir cliente\\n(2) Eliminar cliente\\n(3) Mostrar cliente\\n(4) Listar clientes\\n(5) Listar clientes preferentes\\n(6) Terminar\\nElige una opción:')\n"
   ]
  }
 ],
 "metadata": {
  "kernelspec": {
   "display_name": "Python 3 (ipykernel)",
   "language": "python",
   "name": "python3"
  },
  "language_info": {
   "codemirror_mode": {
    "name": "ipython",
    "version": 3
   },
   "file_extension": ".py",
   "mimetype": "text/x-python",
   "name": "python",
   "nbconvert_exporter": "python",
   "pygments_lexer": "ipython3",
   "version": "3.9.13"
  }
 },
 "nbformat": 4,
 "nbformat_minor": 5
}
